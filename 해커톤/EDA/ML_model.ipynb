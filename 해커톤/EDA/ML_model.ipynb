{
 "cells": [
  {
   "cell_type": "code",
   "execution_count": 69,
   "id": "b60a9cce-009b-4c16-b31b-adf6be11bef0",
   "metadata": {
    "scrolled": true
   },
   "outputs": [],
   "source": [
    "import pandas as pd\n",
    "import numpy as np\n",
    "import matplotlib.pyplot as plt\n",
    "\n",
    "import warnings\n",
    "warnings.filterwarnings('ignore')\n",
    "\n",
    "from sklearn.model_selection import train_test_split\n",
    "from sklearn.metrics import accuracy_score, precision_score, recall_score, confusion_matrix, f1_score, roc_auc_score\n",
    "\n",
    "from sklearn.preprocessing import StandardScaler\n",
    "from sklearn.metrics import classification_report\n",
    "from sklearn.model_selection import GridSearchCV\n",
    "\n",
    "from sklearn.tree import DecisionTreeClassifier\n",
    "from sklearn.ensemble import RandomForestClassifier\n",
    "from sklearn.linear_model import LogisticRegression\n",
    "import sklearn.svm as svm\n",
    "from sklearn.neighbors import KNeighborsClassifier\n",
    "from sklearn import metrics \n",
    "from sklearn.preprocessing import Binarizer\n",
    "from sklearn.model_selection import cross_val_score, cross_validate\n",
    "from lightgbm import LGBMClassifier\n",
    "import xgboost as xgb\n",
    "from xgboost import plot_importance\n",
    "from xgboost import XGBClassifier\n"
   ]
  },
  {
   "cell_type": "code",
   "execution_count": 58,
   "id": "d8df1518",
   "metadata": {},
   "outputs": [],
   "source": [
    "def get_clf_eval(y_test, y_pred=None, pred_proba=None):\n",
    "    confusion = confusion_matrix(y_test, y_pred)\n",
    "    accuracy = accuracy_score(y_test, y_pred)\n",
    "    precision = precision_score(y_test, y_pred)\n",
    "    recall = recall_score(y_test, y_pred)\n",
    "    F1 = f1_score(y_test, y_pred)\n",
    "    AUC = roc_auc_score(y_test,pred_proba)\n",
    "\n",
    "    print('오차행렬:\\n', confusion)\n",
    "    print('\\n정확도: {:.4f}'.format(accuracy))\n",
    "    print('정밀도: {:.4f}'.format(precision))\n",
    "    print('재현율: {:.4f}'.format(recall))\n",
    "    print('F1: {:.4f}'.format(F1))\n",
    "    print('AUC: {:.4f}'.format(AUC))"
   ]
  },
  {
   "cell_type": "code",
   "execution_count": 2,
   "id": "2d612f8d-efbc-4cfc-951d-640993de8efb",
   "metadata": {},
   "outputs": [
    {
     "data": {
      "text/html": [
       "<div>\n",
       "<style scoped>\n",
       "    .dataframe tbody tr th:only-of-type {\n",
       "        vertical-align: middle;\n",
       "    }\n",
       "\n",
       "    .dataframe tbody tr th {\n",
       "        vertical-align: top;\n",
       "    }\n",
       "\n",
       "    .dataframe thead th {\n",
       "        text-align: right;\n",
       "    }\n",
       "</style>\n",
       "<table border=\"1\" class=\"dataframe\">\n",
       "  <thead>\n",
       "    <tr style=\"text-align: right;\">\n",
       "      <th></th>\n",
       "      <th>TARGET</th>\n",
       "      <th>성별</th>\n",
       "      <th>차량 소유 여부</th>\n",
       "      <th>부동산 소유 여부</th>\n",
       "      <th>수입 유형</th>\n",
       "      <th>최종 학력</th>\n",
       "      <th>결혼 여부</th>\n",
       "      <th>주거 형태</th>\n",
       "      <th>휴대전화 소유 여부</th>\n",
       "      <th>이메일 소유 여부</th>\n",
       "      <th>직업</th>\n",
       "      <th>가족 구성원 수</th>\n",
       "      <th>산업군</th>\n",
       "      <th>나이</th>\n",
       "      <th>가입연수</th>\n",
       "      <th>도시구분</th>\n",
       "      <th>월간 수입</th>\n",
       "    </tr>\n",
       "  </thead>\n",
       "  <tbody>\n",
       "    <tr>\n",
       "      <th>0</th>\n",
       "      <td>0</td>\n",
       "      <td>1</td>\n",
       "      <td>1</td>\n",
       "      <td>1</td>\n",
       "      <td>3</td>\n",
       "      <td>0</td>\n",
       "      <td>0</td>\n",
       "      <td>3</td>\n",
       "      <td>1</td>\n",
       "      <td>0</td>\n",
       "      <td>1</td>\n",
       "      <td>4.0</td>\n",
       "      <td>5</td>\n",
       "      <td>1</td>\n",
       "      <td>2</td>\n",
       "      <td>3</td>\n",
       "      <td>0</td>\n",
       "    </tr>\n",
       "    <tr>\n",
       "      <th>1</th>\n",
       "      <td>0</td>\n",
       "      <td>0</td>\n",
       "      <td>1</td>\n",
       "      <td>0</td>\n",
       "      <td>1</td>\n",
       "      <td>1</td>\n",
       "      <td>0</td>\n",
       "      <td>3</td>\n",
       "      <td>1</td>\n",
       "      <td>0</td>\n",
       "      <td>4</td>\n",
       "      <td>2.0</td>\n",
       "      <td>16</td>\n",
       "      <td>2</td>\n",
       "      <td>1</td>\n",
       "      <td>1</td>\n",
       "      <td>3</td>\n",
       "    </tr>\n",
       "    <tr>\n",
       "      <th>2</th>\n",
       "      <td>0</td>\n",
       "      <td>1</td>\n",
       "      <td>0</td>\n",
       "      <td>1</td>\n",
       "      <td>1</td>\n",
       "      <td>0</td>\n",
       "      <td>0</td>\n",
       "      <td>3</td>\n",
       "      <td>1</td>\n",
       "      <td>0</td>\n",
       "      <td>5</td>\n",
       "      <td>2.0</td>\n",
       "      <td>16</td>\n",
       "      <td>1</td>\n",
       "      <td>1</td>\n",
       "      <td>1</td>\n",
       "      <td>1</td>\n",
       "    </tr>\n",
       "  </tbody>\n",
       "</table>\n",
       "</div>"
      ],
      "text/plain": [
       "   TARGET  성별  차량 소유 여부  부동산 소유 여부  수입 유형  최종 학력  결혼 여부  주거 형태  휴대전화 소유 여부  \\\n",
       "0       0   1         1          1      3      0      0      3           1   \n",
       "1       0   0         1          0      1      1      0      3           1   \n",
       "2       0   1         0          1      1      0      0      3           1   \n",
       "\n",
       "   이메일 소유 여부  직업  가족 구성원 수  산업군  나이  가입연수  도시구분  월간 수입  \n",
       "0          0   1       4.0    5   1     2     3      0  \n",
       "1          0   4       2.0   16   2     1     1      3  \n",
       "2          0   5       2.0   16   1     1     1      1  "
      ]
     },
     "execution_count": 2,
     "metadata": {},
     "output_type": "execute_result"
    }
   ],
   "source": [
    "# dataset 작업요\n",
    "df = pd.read_csv('scaled_data.csv', index_col=0)\n",
    "df.head(3)"
   ]
  },
  {
   "cell_type": "code",
   "execution_count": 3,
   "id": "3db3613d",
   "metadata": {},
   "outputs": [
    {
     "data": {
      "text/plain": [
       "TARGET\n",
       "0    53561\n",
       "1     6427\n",
       "Name: count, dtype: int64"
      ]
     },
     "execution_count": 3,
     "metadata": {},
     "output_type": "execute_result"
    }
   ],
   "source": [
    "df['TARGET'].value_counts()"
   ]
  },
  {
   "cell_type": "code",
   "execution_count": 4,
   "id": "50347006-7b94-4e16-9130-57c5b0f188bb",
   "metadata": {},
   "outputs": [],
   "source": [
    "# feature와 label 분리\n",
    "feature = df.drop('TARGET', axis=1)\n",
    "label = df['TARGET']"
   ]
  },
  {
   "cell_type": "code",
   "execution_count": 5,
   "id": "0e902930",
   "metadata": {},
   "outputs": [],
   "source": [
    "# train test 분리\n",
    "X_train, X_test, y_train , y_test = train_test_split(feature, label, test_size=0.3 , random_state=42)"
   ]
  },
  {
   "cell_type": "code",
   "execution_count": null,
   "id": "7a5ef227",
   "metadata": {},
   "outputs": [],
   "source": []
  },
  {
   "cell_type": "code",
   "execution_count": null,
   "id": "c05b7d51",
   "metadata": {},
   "outputs": [],
   "source": [
    "# 언더샘플링 - 소수라벨과 다수라벨 비율 1:1\n",
    "\n",
    "from imblearn.under_sampling import RandomUnderSampler\n",
    "undersample = RandomUnderSampler(sampling_strategy='majority')\n",
    "X_train, y_train = undersample.fit_resample(X_train, y_train)"
   ]
  },
  {
   "cell_type": "code",
   "execution_count": 7,
   "id": "ecd5ade8",
   "metadata": {},
   "outputs": [],
   "source": [
    "# 오버샘플링 - 소수라벨과 다수라벨 비율 1:1 / 오버 샘플링이 좋음 투터님 피셜\n",
    "\n",
    "from imblearn.over_sampling import RandomOverSampler\n",
    "oversample = RandomOverSampler(sampling_strategy='minority')\n",
    "X_train, y_train = oversample.fit_resample(X_train, y_train)"
   ]
  },
  {
   "cell_type": "code",
   "execution_count": null,
   "id": "196061cb",
   "metadata": {},
   "outputs": [],
   "source": [
    "# SMOTE\n",
    "\n",
    "from imblearn.over_sampling import SMOTE\n",
    "smote_sample = SMOTE(sampling_strategy='minority') \n",
    "X_train, y_train = smote_sample.fit_resample(X_train, y_train)"
   ]
  },
  {
   "cell_type": "code",
   "execution_count": null,
   "id": "3152f0a7",
   "metadata": {},
   "outputs": [],
   "source": []
  },
  {
   "cell_type": "code",
   "execution_count": 66,
   "id": "c8389dbd",
   "metadata": {},
   "outputs": [
    {
     "name": "stdout",
     "output_type": "stream",
     "text": [
      "0.9032920818564202\n"
     ]
    }
   ],
   "source": [
    "# 1. Decision Tree를 이용한 학습\n",
    "\n",
    "dt = DecisionTreeClassifier(random_state=43)\n",
    "\n",
    "# 교차검증을 통한 과적합 or 과소적합 여부 확인\n",
    "cross_val = cross_val_score(dt , X_train , y=y_train ,cv=5, scoring='accuracy')\n",
    "print(np.mean(cross_val))"
   ]
  },
  {
   "cell_type": "code",
   "execution_count": 67,
   "id": "f12e6fd1",
   "metadata": {},
   "outputs": [
    {
     "name": "stdout",
     "output_type": "stream",
     "text": [
      "최적 하이퍼 파라미터: {'max_depth': 5, 'min_samples_split': 3}\n",
      "최고 예측 정확도: 0.5981\n"
     ]
    }
   ],
   "source": [
    "# GridSearchCV를 적용해 Decision Tree의 교차검증 및 하이퍼파라미터 튜닝\n",
    "\n",
    "parameters = {'max_depth' : [2, 3, 4, 5],\n",
    "             'min_samples_split' : [1, 3, 5, 7, 9]}\n",
    "\n",
    "grid_dt = GridSearchCV(dt, param_grid = parameters, cv=3, refit=True)\n",
    "grid_dt.fit(X_train, y_train)\n",
    "\n",
    "dt = grid_dt.best_estimator_\n",
    "\n",
    "print(f\"최적 하이퍼 파라미터: {grid_dt.best_params_}\")\n",
    "print(f\"최고 예측 정확도: {grid_dt.best_score_:.4f}\")"
   ]
  },
  {
   "cell_type": "code",
   "execution_count": 68,
   "id": "1f671599",
   "metadata": {},
   "outputs": [
    {
     "name": "stdout",
     "output_type": "stream",
     "text": [
      "오차행렬:\n",
      " [[10113  5964]\n",
      " [  841  1079]]\n",
      "\n",
      "정확도: 0.6219\n",
      "정밀도: 0.1532\n",
      "재현율: 0.5620\n",
      "F1: 0.2408\n",
      "AUC: 0.6245\n"
     ]
    }
   ],
   "source": [
    "# 임곗값 조정을 통한 recall값 향상\n",
    "dt.fit(X_train, y_train)\n",
    "pred = dt.predict(X_test)\n",
    "pred_proba = dt.predict_proba(X_test)[:, 1].reshape(-1, 1)\n",
    "\n",
    "binarizer = Binarizer(threshold=0.5).fit(pred_proba)\n",
    "custom_pred = binarizer.transform(pred_proba)\n",
    "\n",
    "get_clf_eval(y_test, custom_pred, pred_proba)"
   ]
  },
  {
   "cell_type": "code",
   "execution_count": 63,
   "id": "10bcfaac-ce4a-4fb3-9d05-9b3289780eb6",
   "metadata": {},
   "outputs": [
    {
     "name": "stdout",
     "output_type": "stream",
     "text": [
      "0.9453767420394422\n"
     ]
    }
   ],
   "source": [
    "# 2. RandomForest를 이용한 학습\n",
    "\n",
    "rf = RandomForestClassifier(random_state=43)\n",
    "\n",
    "cross_val = cross_val_score(rf , X_train , y=y_train ,cv=5, scoring='accuracy')\n",
    "print(np.mean(cross_val))\n"
   ]
  },
  {
   "cell_type": "code",
   "execution_count": 64,
   "id": "c7650271",
   "metadata": {},
   "outputs": [
    {
     "name": "stdout",
     "output_type": "stream",
     "text": [
      "최적 하이퍼 파라미터: {'max_depth': 12, 'min_samples_split': 16}\n",
      "최고 예측 정확도: 0.7454\n"
     ]
    }
   ],
   "source": [
    "# 하이퍼파라미터 조정\n",
    "\n",
    "parameters = {\n",
    "    'max_depth' : [6, 8, 12],\n",
    "    'min_samples_split' : [16, 24]\n",
    "}\n",
    "\n",
    "grid_rf = GridSearchCV(rf, param_grid = parameters, cv=3, refit=True)\n",
    "grid_rf.fit(X_train, y_train)\n",
    "\n",
    "rf = grid_rf.best_estimator_\n",
    "\n",
    "print(f\"최적 하이퍼 파라미터: {grid_rf.best_params_}\")\n",
    "print(f\"최고 예측 정확도: {grid_rf.best_score_:.4f}\")"
   ]
  },
  {
   "cell_type": "code",
   "execution_count": 65,
   "id": "8a388b07",
   "metadata": {},
   "outputs": [
    {
     "name": "stdout",
     "output_type": "stream",
     "text": [
      "오차행렬:\n",
      " [[11721  4356]\n",
      " [ 1104   816]]\n",
      "\n",
      "정확도: 0.6966\n",
      "정밀도: 0.1578\n",
      "재현율: 0.4250\n",
      "F1: 0.2301\n",
      "AUC: 0.6180\n"
     ]
    }
   ],
   "source": [
    "# 임계값 조정 및 적용\n",
    "\n",
    "rf.fit(X_train, y_train)\n",
    "pred = rf.predict(X_test)\n",
    "pred_proba = rf.predict_proba(X_test)[:, 1].reshape(-1, 1)\n",
    "\n",
    "binarizer = Binarizer(threshold=0.5).fit(pred_proba)\n",
    "custom_pred = binarizer.transform(pred_proba)\n",
    "\n",
    "get_clf_eval(y_test, custom_pred, pred_proba)\n"
   ]
  },
  {
   "cell_type": "code",
   "execution_count": 50,
   "id": "8b59b4ee-bf98-4694-ba36-9ea192f604d5",
   "metadata": {},
   "outputs": [
    {
     "name": "stdout",
     "output_type": "stream",
     "text": [
      "0.5849562164179575\n"
     ]
    }
   ],
   "source": [
    "# 3. Logistic regrssion 을 이용한 학습\n",
    "\n",
    "lr = LogisticRegression(random_state=43)\n",
    "\n",
    "cross_val = cross_val_score(lr, X_train , y=y_train ,cv=5, scoring='accuracy')\n",
    "print(np.mean(cross_val))\n"
   ]
  },
  {
   "cell_type": "code",
   "execution_count": 51,
   "id": "bf11d93d",
   "metadata": {},
   "outputs": [
    {
     "name": "stdout",
     "output_type": "stream",
     "text": [
      "최적 하이퍼 파라미터: {'C': 0.01, 'penalty': 'l2'}\n",
      "최고 예측 정확도: 0.5844\n"
     ]
    }
   ],
   "source": [
    "parameters = {'penalty': ['l2','l1'],\n",
    "          'C':[0.01,0.1,1,10]}\n",
    "\n",
    "grid_lr = GridSearchCV(lr, param_grid = parameters, cv=3, refit=True)\n",
    "grid_lr.fit(X_train, y_train)\n",
    "\n",
    "lr = grid_lr.best_estimator_\n",
    "\n",
    "print(f\"최적 하이퍼 파라미터: {grid_lr.best_params_}\")\n",
    "print(f\"최고 예측 정확도: {grid_lr.best_score_:.4f}\")"
   ]
  },
  {
   "cell_type": "code",
   "execution_count": 53,
   "id": "bd33130a",
   "metadata": {},
   "outputs": [
    {
     "name": "stdout",
     "output_type": "stream",
     "text": [
      "Logistic regrssion 정확도 : 0.588\n",
      "Logistic regrssion 정밀도 : 0.148\n",
      "Logistic regrssion 재현율 : 0.600\n",
      "Logistic regrssion f1_score : 0.237\n",
      "Logistic regrssion roc_auc : 0.593\n"
     ]
    }
   ],
   "source": [
    "# 임계값 조정 및 모델 적용\n",
    "\n",
    "lr.fit(X_train, y_train)\n",
    "pred = lr.predict(X_test)\n",
    "pred_proba = lr.predict_proba(X_test)[:, 1].reshape(-1, 1)\n",
    "\n",
    "binarizer = Binarizer(threshold=0.5).fit(pred_proba)\n",
    "custom_pred = binarizer.transform(pred_proba)\n",
    "\n",
    "get_clf_eval(y_test , custom_pred, pred_proba)"
   ]
  },
  {
   "cell_type": "code",
   "execution_count": 54,
   "id": "c19bdf49-9fb7-4784-9948-0759dcc798d5",
   "metadata": {},
   "outputs": [
    {
     "name": "stdout",
     "output_type": "stream",
     "text": [
      "0.8663429666315047\n"
     ]
    }
   ],
   "source": [
    "# 4. KNN 을 이용한 학습\n",
    "\n",
    "knn = KNeighborsClassifier()\n",
    "# knn에는 무작위성 추출(random_state)를 하지 않음.\n",
    "\n",
    "cross_val = cross_val_score(knn , X_train , y=y_train ,cv=5, scoring='accuracy')\n",
    "print(np.mean(cross_val))\n"
   ]
  },
  {
   "cell_type": "code",
   "execution_count": 55,
   "id": "2fb9101b",
   "metadata": {},
   "outputs": [
    {
     "name": "stdout",
     "output_type": "stream",
     "text": [
      "최적 하이퍼 파라미터: {'n_neighbors': 3, 'weights': 'distance'}\n",
      "최고 예측 정확도: 0.8822\n"
     ]
    }
   ],
   "source": [
    "# 하이퍼파라미터 조정\n",
    "\n",
    "parameters = {'n_neighbors': [3, 5, 7, 9],\n",
    "              'weights': ['uniform', 'distance']\n",
    "          }\n",
    "\n",
    "grid_knn = GridSearchCV(knn, param_grid = parameters, cv=3, refit=True)\n",
    "grid_knn.fit(X_train, y_train)\n",
    "\n",
    "knn = grid_knn.best_estimator_\n",
    "\n",
    "print(f\"최적 하이퍼 파라미터: {grid_knn.best_params_}\")\n",
    "print(f\"최고 예측 정확도: {grid_knn.best_score_:.4f}\")"
   ]
  },
  {
   "cell_type": "code",
   "execution_count": 57,
   "id": "e866262f-903f-4be9-a799-b9272849966a",
   "metadata": {},
   "outputs": [
    {
     "name": "stdout",
     "output_type": "stream",
     "text": [
      "KNN 정확도 : 0.810\n",
      "KNN 정밀도 : 0.130\n",
      "KNN 재현율 : 0.139\n",
      "KNN f1_score : 0.134\n",
      "KNN roc_auc : 0.514\n"
     ]
    }
   ],
   "source": [
    "# 임계값 조정 및 모델 적용\n",
    "\n",
    "knn.fit(X_train, y_train)\n",
    "pred = knn.predict(X_test)\n",
    "pred_proba = knn.predict_proba(X_test)[:, 1].reshape(-1, 1)\n",
    "\n",
    "binarizer = Binarizer(threshold=0.5).fit(pred_proba)\n",
    "custom_pred = binarizer.transform(pred_proba)\n",
    "\n",
    "get_clf_eval(y_test , custom_pred, pred_proba)"
   ]
  },
  {
   "cell_type": "code",
   "execution_count": null,
   "id": "bc599efa",
   "metadata": {},
   "outputs": [],
   "source": [
    "# 5. Lightgbm을 이용한 학습\n",
    "\n",
    "lgbm= LGBMClassifier(random_state=43)\n",
    "\n",
    "cross_val = cross_val_score(lgbm, X_train , y=y_train ,cv=5, scoring='accuracy')\n",
    "print(np.mean(cross_val))"
   ]
  },
  {
   "cell_type": "code",
   "execution_count": null,
   "id": "9cfaddd8",
   "metadata": {},
   "outputs": [],
   "source": [
    "# 하이퍼파라미터 조정\n",
    "\n",
    "parameters = {'n_neighbors': [100, 500],\n",
    "              'learning_rate': [0.05, 0.1]\n",
    "          }\n",
    "\n",
    "grid_lgbm = GridSearchCV(lgbm, param_grid = parameters, cv=2, verbose=1, refit=True)\n",
    "grid_lgbm.fit(X_train, y_train)\n",
    "\n",
    "lgbm = grid_lgbm.best_estimator_\n",
    "\n",
    "print(f\"최적 하이퍼 파라미터: {grid_lgbm.best_params_}\")\n",
    "print(f\"최고 예측 정확도: {grid_lgbm.best_score_:.4f}\")"
   ]
  },
  {
   "cell_type": "code",
   "execution_count": null,
   "id": "8bf9ea6e",
   "metadata": {},
   "outputs": [],
   "source": [
    "# 임계값 조정 및 모델 적용\n",
    "\n",
    "lgbm.fit(X_train, y_train)\n",
    "pred = lgbm.predict(X_test)\n",
    "pred_proba = lgbm.predict_proba(X_test)[:, 1].reshape(-1, 1)\n",
    "\n",
    "binarizer = Binarizer(threshold=0.5).fit(pred_proba)\n",
    "custom_pred = binarizer.transform(pred_proba)\n",
    "\n",
    "get_clf_eval(y_test , custom_pred, pred_proba)\n"
   ]
  },
  {
   "cell_type": "code",
   "execution_count": 70,
   "id": "e3936f6a",
   "metadata": {},
   "outputs": [
    {
     "name": "stdout",
     "output_type": "stream",
     "text": [
      "0.7239488605420157\n"
     ]
    }
   ],
   "source": [
    "# 6. XGboosg \n",
    "xgb = XGBClassifier(random_state=43)\n",
    "\n",
    "cross_val = cross_val_score(xgb, X_train, y=y_train, cv=5, scoring='accuracy')\n",
    "print(np.mean(cross_val))"
   ]
  },
  {
   "cell_type": "code",
   "execution_count": 71,
   "id": "7eb90e8a",
   "metadata": {},
   "outputs": [
    {
     "name": "stdout",
     "output_type": "stream",
     "text": [
      "Fitting 2 folds for each of 6 candidates, totalling 12 fits\n",
      "최적 하이퍼 파라미터: {'learning_rat': 0.01, 'n_estimators': 200}\n",
      "최고 예측 정확도: 0.7568\n"
     ]
    }
   ],
   "source": [
    "# 하이퍼파라미터 조정\n",
    "parameters = {'learning_rat': [0.01, 0.1],  \n",
    "              'n_estimators': [50, 100, 200]\n",
    "          }\n",
    "\n",
    "grid_xgb = GridSearchCV(xgb, param_grid=parameters, cv=2, verbose=1, refit=True)\n",
    "grid_xgb.fit(X_train, y_train)\n",
    "\n",
    "xgb = grid_xgb.best_estimator_\n",
    "\n",
    "print(f\"최적 하이퍼 파라미터: {grid_xgb.best_params_}\")\n",
    "print(f\"최고 예측 정확도: {grid_xgb.best_score_:.4f}\")"
   ]
  },
  {
   "cell_type": "code",
   "execution_count": 73,
   "id": "b32a3b21",
   "metadata": {},
   "outputs": [
    {
     "name": "stdout",
     "output_type": "stream",
     "text": [
      "오차행렬:\n",
      " [[11932  4145]\n",
      " [ 1193   727]]\n",
      "\n",
      "정확도: 0.7034\n",
      "정밀도: 0.1492\n",
      "재현율: 0.3786\n",
      "F1: 0.2141\n",
      "AUC: 0.5802\n"
     ]
    }
   ],
   "source": [
    "# 임계값 조정 및 모델 적용\n",
    "\n",
    "xgb.fit(X_train, y_train)\n",
    "pred = xgb.predict(X_test)\n",
    "pred_proba = xgb.predict_proba(X_test)[:, 1].reshape(-1, 1)\n",
    "\n",
    "binarizer = Binarizer(threshold=0.5).fit(pred_proba)\n",
    "custom_pred = binarizer.transform(pred_proba)\n",
    "\n",
    "get_clf_eval(y_test , custom_pred, pred_proba)"
   ]
  },
  {
   "cell_type": "code",
   "execution_count": null,
   "id": "e0c30307",
   "metadata": {},
   "outputs": [],
   "source": []
  }
 ],
 "metadata": {
  "kernelspec": {
   "display_name": "Python 3 (ipykernel)",
   "language": "python",
   "name": "python3"
  },
  "language_info": {
   "codemirror_mode": {
    "name": "ipython",
    "version": 3
   },
   "file_extension": ".py",
   "mimetype": "text/x-python",
   "name": "python",
   "nbconvert_exporter": "python",
   "pygments_lexer": "ipython3",
   "version": "3.11.4"
  }
 },
 "nbformat": 4,
 "nbformat_minor": 5
}
