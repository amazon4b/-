{
 "cells": [
  {
   "cell_type": "code",
   "execution_count": 1,
   "metadata": {},
   "outputs": [],
   "source": [
    "import pandas as pd\n",
    "import numpy as np\n",
    "import matplotlib.pyplot as plt\n",
    "\n",
    "import warnings\n",
    "warnings.filterwarnings('ignore')\n",
    "\n",
    "from sklearn.model_selection import train_test_split\n",
    "from sklearn.metrics import accuracy_score, precision_score, recall_score, confusion_matrix, f1_score, roc_auc_score\n",
    "\n",
    "from sklearn.preprocessing import StandardScaler\n",
    "from sklearn.model_selection import GridSearchCV\n",
    "\n",
    "from sklearn.tree import DecisionTreeClassifier\n",
    "from sklearn.ensemble import RandomForestClassifier\n",
    "from sklearn.linear_model import LogisticRegression\n",
    "import sklearn.svm as svm\n",
    "from sklearn.neighbors import KNeighborsClassifier\n",
    "from sklearn import metrics"
   ]
  },
  {
   "cell_type": "code",
   "execution_count": 2,
   "metadata": {},
   "outputs": [
    {
     "data": {
      "text/html": [
       "<div>\n",
       "<style scoped>\n",
       "    .dataframe tbody tr th:only-of-type {\n",
       "        vertical-align: middle;\n",
       "    }\n",
       "\n",
       "    .dataframe tbody tr th {\n",
       "        vertical-align: top;\n",
       "    }\n",
       "\n",
       "    .dataframe thead th {\n",
       "        text-align: right;\n",
       "    }\n",
       "</style>\n",
       "<table border=\"1\" class=\"dataframe\">\n",
       "  <thead>\n",
       "    <tr style=\"text-align: right;\">\n",
       "      <th></th>\n",
       "      <th>TARGET</th>\n",
       "      <th>성별</th>\n",
       "      <th>차량 소유 여부</th>\n",
       "      <th>부동산 소유 여부</th>\n",
       "      <th>수입 유형</th>\n",
       "      <th>최종 학력</th>\n",
       "      <th>결혼 여부</th>\n",
       "      <th>주거 형태</th>\n",
       "      <th>휴대전화 소유 여부</th>\n",
       "      <th>이메일 소유 여부</th>\n",
       "      <th>직업</th>\n",
       "      <th>가족 구성원 수</th>\n",
       "      <th>산업군</th>\n",
       "      <th>나이</th>\n",
       "      <th>가입연수</th>\n",
       "      <th>도시구분</th>\n",
       "      <th>월간 수입</th>\n",
       "    </tr>\n",
       "  </thead>\n",
       "  <tbody>\n",
       "    <tr>\n",
       "      <th>0</th>\n",
       "      <td>0</td>\n",
       "      <td>2</td>\n",
       "      <td>1</td>\n",
       "      <td>1</td>\n",
       "      <td>3</td>\n",
       "      <td>0</td>\n",
       "      <td>0</td>\n",
       "      <td>3</td>\n",
       "      <td>1</td>\n",
       "      <td>0</td>\n",
       "      <td>1</td>\n",
       "      <td>4</td>\n",
       "      <td>5</td>\n",
       "      <td>1</td>\n",
       "      <td>2</td>\n",
       "      <td>3</td>\n",
       "      <td>0</td>\n",
       "    </tr>\n",
       "  </tbody>\n",
       "</table>\n",
       "</div>"
      ],
      "text/plain": [
       "   TARGET  성별  차량 소유 여부  부동산 소유 여부  수입 유형  최종 학력  결혼 여부  주거 형태  휴대전화 소유 여부  \\\n",
       "0       0   2         1          1      3      0      0      3           1   \n",
       "\n",
       "   이메일 소유 여부  직업  가족 구성원 수  산업군  나이  가입연수  도시구분  월간 수입  \n",
       "0          0   1         4    5   1     2     3      0  "
      ]
     },
     "execution_count": 2,
     "metadata": {},
     "output_type": "execute_result"
    }
   ],
   "source": [
    "train_df = pd.read_csv('../EDA/scaled_data.csv')\n",
    "train_df.drop(['Unnamed: 0'], axis=1, inplace=True)\n",
    "train_df.head(1)"
   ]
  },
  {
   "cell_type": "code",
   "execution_count": 3,
   "metadata": {},
   "outputs": [],
   "source": [
    "train_copy = train_df.copy()"
   ]
  },
  {
   "cell_type": "code",
   "execution_count": null,
   "metadata": {},
   "outputs": [],
   "source": [
    "# 어느 산업군에서 어느 직업이 연체 여부가 높은지 확인\n",
    "\n",
    "# 직업 수, 산업군 수의 편중을 완화하기 위하여 각 직업 별 연체 여부로 연체율 확인/ 각 산업군 별 연체 여부로 연체율 확인\n",
    "# 위에서 확인한 각 산업군의 연체율을 총 평균연체율(10.71%)보다 높은 산업군 15개(총 33개의 직업 중)\n",
    "# 각 산업군의 연체율을 총 평균연체율(10.71%)보다 높은 직업 8개(총 19개의 직업 중)\n",
    "\n",
    "## 종사하는 산업군의 전체 인원수를 확인하여 너무 적은 경우 제외\n",
    "## 직업에 종사하는 인원수를 확인하여 너무 적은 경우 제외\n",
    "\n",
    "# 위의 사항 고려하여 top3 산업군과 top4 직업 선정\n",
    "# 이를 결합하여 1위 산업군- 1위 직업, 2위 직업, 3위 직업 ... 3위 산업군- 1위 직업, 2위 직업, 3위 직업 비교\n",
    "# 어느 파생변수가 가장 유의한지 -> 그 산업군에서 그 직업이 연체율이 높다고 예측 확인"
   ]
  },
  {
   "cell_type": "code",
   "execution_count": null,
   "metadata": {},
   "outputs": [],
   "source": [
    "# 산업군 Top3 : 8(레스토랑-0.195%), 0(건설업-0.155%), 24(자영업-0.137%)\n",
    "# 직업 Top4 : 15(저임금 노동자-0.237%), 12(운전자-0.150%), 17(보안업계종사자-0.149%), 5(단순노동자-0.140%)\n"
   ]
  },
  {
   "cell_type": "code",
   "execution_count": null,
   "metadata": {},
   "outputs": [],
   "source": [
    "train_copy.head()"
   ]
  },
  {
   "cell_type": "code",
   "execution_count": 4,
   "metadata": {},
   "outputs": [],
   "source": [
    "# 산업군_직업 컬럼 생성 함수\n",
    "def create_job_column(df, ind_value, job_value):\n",
    "\n",
    "#    새로운 컬럼을 생성하고 특정 조건에 따라 값을 할당하는 함수\n",
    "\n",
    "#    Parameters:\n",
    "#    - df: 데이터프레임\n",
    "#    - job_value: 직업 구분코드\n",
    "#    - ind_value : 산업군 구분코드\n",
    "\n",
    "#    Returns:\n",
    "#    - df: 새로운 컬럼을 추가한 데이터프레임\n",
    "    \n",
    "  new_column_name = f\"{ind_value}_{job_value}\"\n",
    "  # 조건에 맞는 행에 1을 할당하여 새로운 컬럼에 추가\n",
    "  df[new_column_name] = (df['산업군'] == ind_value) & (df['직업'] == job_value)\n",
    "  # True/False를 1/0으로 변환\n",
    "  df[new_column_name] = df[new_column_name].astype(int)\n",
    "    \n",
    "  return df\n",
    "# 함수 사용 예시\n",
    "# create_job_column(your_df, ind_value, job_value)"
   ]
  },
  {
   "cell_type": "code",
   "execution_count": 5,
   "metadata": {},
   "outputs": [
    {
     "data": {
      "text/html": [
       "<div>\n",
       "<style scoped>\n",
       "    .dataframe tbody tr th:only-of-type {\n",
       "        vertical-align: middle;\n",
       "    }\n",
       "\n",
       "    .dataframe tbody tr th {\n",
       "        vertical-align: top;\n",
       "    }\n",
       "\n",
       "    .dataframe thead th {\n",
       "        text-align: right;\n",
       "    }\n",
       "</style>\n",
       "<table border=\"1\" class=\"dataframe\">\n",
       "  <thead>\n",
       "    <tr style=\"text-align: right;\">\n",
       "      <th></th>\n",
       "      <th>TARGET</th>\n",
       "      <th>성별</th>\n",
       "      <th>차량 소유 여부</th>\n",
       "      <th>부동산 소유 여부</th>\n",
       "      <th>수입 유형</th>\n",
       "      <th>최종 학력</th>\n",
       "      <th>결혼 여부</th>\n",
       "      <th>주거 형태</th>\n",
       "      <th>휴대전화 소유 여부</th>\n",
       "      <th>이메일 소유 여부</th>\n",
       "      <th>...</th>\n",
       "      <th>가족 구성원 수</th>\n",
       "      <th>산업군</th>\n",
       "      <th>나이</th>\n",
       "      <th>가입연수</th>\n",
       "      <th>도시구분</th>\n",
       "      <th>월간 수입</th>\n",
       "      <th>24_15</th>\n",
       "      <th>24_12</th>\n",
       "      <th>24_17</th>\n",
       "      <th>24_5</th>\n",
       "    </tr>\n",
       "  </thead>\n",
       "  <tbody>\n",
       "    <tr>\n",
       "      <th>0</th>\n",
       "      <td>0</td>\n",
       "      <td>2</td>\n",
       "      <td>1</td>\n",
       "      <td>1</td>\n",
       "      <td>3</td>\n",
       "      <td>0</td>\n",
       "      <td>0</td>\n",
       "      <td>3</td>\n",
       "      <td>1</td>\n",
       "      <td>0</td>\n",
       "      <td>...</td>\n",
       "      <td>4</td>\n",
       "      <td>5</td>\n",
       "      <td>1</td>\n",
       "      <td>2</td>\n",
       "      <td>3</td>\n",
       "      <td>0</td>\n",
       "      <td>0</td>\n",
       "      <td>0</td>\n",
       "      <td>0</td>\n",
       "      <td>0</td>\n",
       "    </tr>\n",
       "    <tr>\n",
       "      <th>1</th>\n",
       "      <td>0</td>\n",
       "      <td>1</td>\n",
       "      <td>1</td>\n",
       "      <td>0</td>\n",
       "      <td>1</td>\n",
       "      <td>1</td>\n",
       "      <td>0</td>\n",
       "      <td>3</td>\n",
       "      <td>1</td>\n",
       "      <td>0</td>\n",
       "      <td>...</td>\n",
       "      <td>2</td>\n",
       "      <td>16</td>\n",
       "      <td>2</td>\n",
       "      <td>1</td>\n",
       "      <td>1</td>\n",
       "      <td>3</td>\n",
       "      <td>0</td>\n",
       "      <td>0</td>\n",
       "      <td>0</td>\n",
       "      <td>0</td>\n",
       "    </tr>\n",
       "    <tr>\n",
       "      <th>2</th>\n",
       "      <td>0</td>\n",
       "      <td>2</td>\n",
       "      <td>0</td>\n",
       "      <td>1</td>\n",
       "      <td>1</td>\n",
       "      <td>0</td>\n",
       "      <td>0</td>\n",
       "      <td>3</td>\n",
       "      <td>1</td>\n",
       "      <td>0</td>\n",
       "      <td>...</td>\n",
       "      <td>2</td>\n",
       "      <td>16</td>\n",
       "      <td>1</td>\n",
       "      <td>1</td>\n",
       "      <td>1</td>\n",
       "      <td>1</td>\n",
       "      <td>0</td>\n",
       "      <td>0</td>\n",
       "      <td>0</td>\n",
       "      <td>0</td>\n",
       "    </tr>\n",
       "    <tr>\n",
       "      <th>3</th>\n",
       "      <td>0</td>\n",
       "      <td>2</td>\n",
       "      <td>1</td>\n",
       "      <td>0</td>\n",
       "      <td>2</td>\n",
       "      <td>0</td>\n",
       "      <td>0</td>\n",
       "      <td>3</td>\n",
       "      <td>1</td>\n",
       "      <td>0</td>\n",
       "      <td>...</td>\n",
       "      <td>3</td>\n",
       "      <td>17</td>\n",
       "      <td>1</td>\n",
       "      <td>1</td>\n",
       "      <td>3</td>\n",
       "      <td>2</td>\n",
       "      <td>0</td>\n",
       "      <td>0</td>\n",
       "      <td>0</td>\n",
       "      <td>0</td>\n",
       "    </tr>\n",
       "    <tr>\n",
       "      <th>4</th>\n",
       "      <td>0</td>\n",
       "      <td>2</td>\n",
       "      <td>0</td>\n",
       "      <td>1</td>\n",
       "      <td>1</td>\n",
       "      <td>0</td>\n",
       "      <td>0</td>\n",
       "      <td>3</td>\n",
       "      <td>1</td>\n",
       "      <td>0</td>\n",
       "      <td>...</td>\n",
       "      <td>2</td>\n",
       "      <td>16</td>\n",
       "      <td>1</td>\n",
       "      <td>0</td>\n",
       "      <td>0</td>\n",
       "      <td>1</td>\n",
       "      <td>0</td>\n",
       "      <td>0</td>\n",
       "      <td>0</td>\n",
       "      <td>0</td>\n",
       "    </tr>\n",
       "    <tr>\n",
       "      <th>...</th>\n",
       "      <td>...</td>\n",
       "      <td>...</td>\n",
       "      <td>...</td>\n",
       "      <td>...</td>\n",
       "      <td>...</td>\n",
       "      <td>...</td>\n",
       "      <td>...</td>\n",
       "      <td>...</td>\n",
       "      <td>...</td>\n",
       "      <td>...</td>\n",
       "      <td>...</td>\n",
       "      <td>...</td>\n",
       "      <td>...</td>\n",
       "      <td>...</td>\n",
       "      <td>...</td>\n",
       "      <td>...</td>\n",
       "      <td>...</td>\n",
       "      <td>...</td>\n",
       "      <td>...</td>\n",
       "      <td>...</td>\n",
       "      <td>...</td>\n",
       "    </tr>\n",
       "    <tr>\n",
       "      <th>59984</th>\n",
       "      <td>0</td>\n",
       "      <td>2</td>\n",
       "      <td>0</td>\n",
       "      <td>1</td>\n",
       "      <td>3</td>\n",
       "      <td>0</td>\n",
       "      <td>1</td>\n",
       "      <td>3</td>\n",
       "      <td>1</td>\n",
       "      <td>0</td>\n",
       "      <td>...</td>\n",
       "      <td>1</td>\n",
       "      <td>5</td>\n",
       "      <td>3</td>\n",
       "      <td>2</td>\n",
       "      <td>1</td>\n",
       "      <td>0</td>\n",
       "      <td>0</td>\n",
       "      <td>0</td>\n",
       "      <td>0</td>\n",
       "      <td>0</td>\n",
       "    </tr>\n",
       "    <tr>\n",
       "      <th>59985</th>\n",
       "      <td>1</td>\n",
       "      <td>1</td>\n",
       "      <td>1</td>\n",
       "      <td>1</td>\n",
       "      <td>1</td>\n",
       "      <td>0</td>\n",
       "      <td>0</td>\n",
       "      <td>3</td>\n",
       "      <td>1</td>\n",
       "      <td>0</td>\n",
       "      <td>...</td>\n",
       "      <td>2</td>\n",
       "      <td>24</td>\n",
       "      <td>2</td>\n",
       "      <td>0</td>\n",
       "      <td>1</td>\n",
       "      <td>3</td>\n",
       "      <td>0</td>\n",
       "      <td>1</td>\n",
       "      <td>0</td>\n",
       "      <td>0</td>\n",
       "    </tr>\n",
       "    <tr>\n",
       "      <th>59986</th>\n",
       "      <td>1</td>\n",
       "      <td>2</td>\n",
       "      <td>0</td>\n",
       "      <td>0</td>\n",
       "      <td>1</td>\n",
       "      <td>1</td>\n",
       "      <td>1</td>\n",
       "      <td>3</td>\n",
       "      <td>1</td>\n",
       "      <td>0</td>\n",
       "      <td>...</td>\n",
       "      <td>1</td>\n",
       "      <td>22</td>\n",
       "      <td>0</td>\n",
       "      <td>1</td>\n",
       "      <td>1</td>\n",
       "      <td>2</td>\n",
       "      <td>0</td>\n",
       "      <td>0</td>\n",
       "      <td>0</td>\n",
       "      <td>0</td>\n",
       "    </tr>\n",
       "    <tr>\n",
       "      <th>59987</th>\n",
       "      <td>0</td>\n",
       "      <td>2</td>\n",
       "      <td>1</td>\n",
       "      <td>1</td>\n",
       "      <td>1</td>\n",
       "      <td>0</td>\n",
       "      <td>3</td>\n",
       "      <td>3</td>\n",
       "      <td>1</td>\n",
       "      <td>0</td>\n",
       "      <td>...</td>\n",
       "      <td>1</td>\n",
       "      <td>19</td>\n",
       "      <td>2</td>\n",
       "      <td>1</td>\n",
       "      <td>1</td>\n",
       "      <td>1</td>\n",
       "      <td>0</td>\n",
       "      <td>0</td>\n",
       "      <td>0</td>\n",
       "      <td>0</td>\n",
       "    </tr>\n",
       "    <tr>\n",
       "      <th>59988</th>\n",
       "      <td>0</td>\n",
       "      <td>1</td>\n",
       "      <td>0</td>\n",
       "      <td>1</td>\n",
       "      <td>1</td>\n",
       "      <td>0</td>\n",
       "      <td>1</td>\n",
       "      <td>3</td>\n",
       "      <td>1</td>\n",
       "      <td>0</td>\n",
       "      <td>...</td>\n",
       "      <td>1</td>\n",
       "      <td>1</td>\n",
       "      <td>0</td>\n",
       "      <td>1</td>\n",
       "      <td>3</td>\n",
       "      <td>1</td>\n",
       "      <td>0</td>\n",
       "      <td>0</td>\n",
       "      <td>0</td>\n",
       "      <td>0</td>\n",
       "    </tr>\n",
       "  </tbody>\n",
       "</table>\n",
       "<p>59989 rows × 21 columns</p>\n",
       "</div>"
      ],
      "text/plain": [
       "       TARGET  성별  차량 소유 여부  부동산 소유 여부  수입 유형  최종 학력  결혼 여부  주거 형태  \\\n",
       "0           0   2         1          1      3      0      0      3   \n",
       "1           0   1         1          0      1      1      0      3   \n",
       "2           0   2         0          1      1      0      0      3   \n",
       "3           0   2         1          0      2      0      0      3   \n",
       "4           0   2         0          1      1      0      0      3   \n",
       "...       ...  ..       ...        ...    ...    ...    ...    ...   \n",
       "59984       0   2         0          1      3      0      1      3   \n",
       "59985       1   1         1          1      1      0      0      3   \n",
       "59986       1   2         0          0      1      1      1      3   \n",
       "59987       0   2         1          1      1      0      3      3   \n",
       "59988       0   1         0          1      1      0      1      3   \n",
       "\n",
       "       휴대전화 소유 여부  이메일 소유 여부  ...  가족 구성원 수  산업군  나이  가입연수  도시구분  월간 수입  \\\n",
       "0               1          0  ...         4    5   1     2     3      0   \n",
       "1               1          0  ...         2   16   2     1     1      3   \n",
       "2               1          0  ...         2   16   1     1     1      1   \n",
       "3               1          0  ...         3   17   1     1     3      2   \n",
       "4               1          0  ...         2   16   1     0     0      1   \n",
       "...           ...        ...  ...       ...  ...  ..   ...   ...    ...   \n",
       "59984           1          0  ...         1    5   3     2     1      0   \n",
       "59985           1          0  ...         2   24   2     0     1      3   \n",
       "59986           1          0  ...         1   22   0     1     1      2   \n",
       "59987           1          0  ...         1   19   2     1     1      1   \n",
       "59988           1          0  ...         1    1   0     1     3      1   \n",
       "\n",
       "       24_15  24_12  24_17  24_5  \n",
       "0          0      0      0     0  \n",
       "1          0      0      0     0  \n",
       "2          0      0      0     0  \n",
       "3          0      0      0     0  \n",
       "4          0      0      0     0  \n",
       "...      ...    ...    ...   ...  \n",
       "59984      0      0      0     0  \n",
       "59985      0      1      0     0  \n",
       "59986      0      0      0     0  \n",
       "59987      0      0      0     0  \n",
       "59988      0      0      0     0  \n",
       "\n",
       "[59989 rows x 21 columns]"
      ]
     },
     "execution_count": 5,
     "metadata": {},
     "output_type": "execute_result"
    }
   ],
   "source": [
    "create_job_column(train_copy, 24, 15)\n",
    "create_job_column(train_copy, 24, 12)\n",
    "create_job_column(train_copy, 24, 17)\n",
    "create_job_column(train_copy, 24, 5)"
   ]
  },
  {
   "cell_type": "code",
   "execution_count": 134,
   "metadata": {},
   "outputs": [
    {
     "data": {
      "text/plain": [
       "8_17\n",
       "False    59942\n",
       "True        47\n",
       "Name: count, dtype: int64"
      ]
     },
     "execution_count": 134,
     "metadata": {},
     "output_type": "execute_result"
    }
   ],
   "source": [
    "(train_copy['8_17']==1).value_counts()"
   ]
  },
  {
   "cell_type": "code",
   "execution_count": null,
   "metadata": {},
   "outputs": [],
   "source": [
    "# 파생변수 '가족크기범주' 생성\n",
    "train_copy['가족크기범주'] = pd.cut(train_copy['가족 구성원 수'], bins=[0, 2, 4,float('inf')],  \n",
    "                    labels=['0','1', '2'])"
   ]
  },
  {
   "cell_type": "code",
   "execution_count": null,
   "metadata": {},
   "outputs": [],
   "source": [
    "# 데이터타입 category -> int 변경 \n",
    "train_copy['가족크기범주'] = train_copy['가족크기범주'].dropna().astype(int)"
   ]
  },
  {
   "cell_type": "code",
   "execution_count": null,
   "metadata": {},
   "outputs": [],
   "source": [
    "# 파생변수 'combinedFY' 생성\n",
    "# 조건 설정\n",
    "conditions = [\n",
    "(train_copy['가족크기범주'] == 0) & (train_copy['가입연수'] == 0),\n",
    "(train_copy['가족크기범주'] == 0) & (train_copy['가입연수'] == 1),\n",
    "(train_copy['가족크기범주'] == 0) & (train_copy['가입연수'] == 2),\n",
    "(train_copy['가족크기범주'] == 0) & (train_copy['가입연수'] == 3),\n",
    "\n",
    "(train_copy['가족크기범주'] == 1) & (train_copy['가입연수'] == 0),\n",
    "(train_copy['가족크기범주'] == 1) & (train_copy['가입연수'] == 1),\n",
    "(train_copy['가족크기범주'] == 1) & (train_copy['가입연수'] == 2),\n",
    "(train_copy['가족크기범주'] == 1) & (train_copy['가입연수'] == 3),\n",
    "\n",
    "\n",
    "(train_copy['가족크기범주'] == 2) & (train_copy['가입연수'] == 0),\n",
    "(train_copy['가족크기범주'] == 2) & (train_copy['가입연수'] == 1),\n",
    "(train_copy['가족크기범주'] == 2) & (train_copy['가입연수'] == 2),\n",
    "(train_copy['가족크기범주'] == 2) & (train_copy['가입연수'] == 3),\n",
    "]\n",
    "# 할당할 값 설정\n",
    "values = [0, 1, 2, 3, 4, 5, 6, 7, 8,9,10,11]\n",
    "\n",
    "# np.select를 사용하여 조건에 맞는 값을 'y' 컬럼에 할당\n",
    "train_copy['combinedfY'] = np.select(conditions, values, default=0)\n",
    "#train_copy = train_copy.drop(['차량 소유 여부', '부동산 소유 여부', '주거 형태', '근속연수'], axis=1)\n",
    "train_copy.head(2)"
   ]
  },
  {
   "cell_type": "code",
   "execution_count": null,
   "metadata": {},
   "outputs": [],
   "source": [
    "# 파생변수 'age_income' 생성\n",
    "# 임금수준 & 나이활용한 파생변수\n",
    "conditions1 = [\n",
    "(train_copy['나이'] == 0) & (train_copy['월간 수입'] == 0),\n",
    "(train_copy['나이'] == 0) & (train_copy['월간 수입'] == 1),\n",
    "(train_copy['나이'] == 0) & (train_copy['월간 수입'] == 2),\n",
    "(train_copy['나이'] == 0) & (train_copy['월간 수입'] == 3),\n",
    "\n",
    "(train_copy['나이'] == 1) & (train_copy['월간 수입'] == 0),\n",
    "(train_copy['나이'] == 1) & (train_copy['월간 수입'] == 1),\n",
    "(train_copy['나이'] == 1) & (train_copy['월간 수입'] == 2),\n",
    "(train_copy['나이'] == 1) & (train_copy['월간 수입'] == 3),\n",
    "\n",
    "(train_copy['나이'] == 2) & (train_copy['월간 수입'] == 0),\n",
    "(train_copy['나이'] == 2) & (train_copy['월간 수입'] == 1),\n",
    "(train_copy['나이'] == 2) & (train_copy['월간 수입'] == 2),\n",
    "(train_copy['나이'] == 2) & (train_copy['월간 수입'] == 3),\n",
    "\n",
    "(train_copy['나이'] == 3) & (train_copy['월간 수입'] == 0),\n",
    "(train_copy['나이'] == 3) & (train_copy['월간 수입'] == 1),\n",
    "(train_copy['나이'] == 3) & (train_copy['월간 수입'] == 2),\n",
    "(train_copy['나이'] == 3) & (train_copy['월간 수입'] == 3),\n",
    "\n",
    "(train_copy['나이'] == 4) & (train_copy['월간 수입'] == 0),\n",
    "(train_copy['나이'] == 4) & (train_copy['월간 수입'] == 1),\n",
    "(train_copy['나이'] == 4) & (train_copy['월간 수입'] == 2),\n",
    "(train_copy['나이'] == 4) & (train_copy['월간 수입'] == 3),\n",
    "\n",
    "]\n",
    "# 할당할 값 설정\n",
    "values = [0,1, 2, 3, 4, 5, 6, 7, 8, 9, 10, 11, 12, 13, 14, 15, 16, 17, 18, 19]\n",
    "# np.select를 사용하여 조건에 맞는 값을 'y' 컬럼에 할당\n",
    "train_copy['age_income'] = np.select(conditions1, values, default=0)\n",
    "train_copy.head(2)"
   ]
  },
  {
   "cell_type": "code",
   "execution_count": null,
   "metadata": {},
   "outputs": [],
   "source": [
    "# 카이제곱 검정은 파생변수가 범주형일 때 유의미한지 검증하는 대표적인 지표.\n",
    "# 결과로 나온 출력에서 p-value가 0.05 미만이면서 chi2가 가장 높은 파생변수가\n",
    "# 카이제곱 검정으로 봤을때 가장 의미가 있는 피쳐.\n",
    "\n",
    "# 일단 가설을 설정했다면 그 가설에 필요한 변수만 빼서 카이제곱 검정을 돌려. \n",
    "# 그래서 0.05이상 나오면 그 가설과 파생변수는 유의미하니 사용 가능.\n",
    "# 그리고 이것도 통계적 요소 대립가설을 언급하며 논리를 펼칠 것."
   ]
  },
  {
   "cell_type": "code",
   "execution_count": 6,
   "metadata": {},
   "outputs": [],
   "source": [
    "# p-value값 확인\n",
    "from scipy.stats import chi2_contingency\n",
    "chi2_results = {}\n",
    "categorical_features = ['24_15', '24_12', '24_17', '24_5']\n",
    "\n",
    "# 나의 가설은 이렇다.\n",
    "# 비교적 나이가 젊은 층 중 기혼자가 미혼자에 비해 재정 관리 능력이 더 뛰어날 것.\n",
    "# 특히 월간 수입이 이러한 범위에 있는 사람은 연체 확률이 더 높거나 낮을 것.\n",
    "# 그럼 내 가설에 필요한 피처들을 카이제곱 검정에 넣어."
   ]
  },
  {
   "cell_type": "code",
   "execution_count": 7,
   "metadata": {},
   "outputs": [
    {
     "data": {
      "text/plain": [
       "{'24_15': {'chi2': 49.179635398679615, 'p-value': 2.335629271922601e-12},\n",
       " '24_12': {'chi2': 55.20834793225451, 'p-value': 1.0840734935717556e-13},\n",
       " '24_17': {'chi2': 0.7682655616325583, 'p-value': 0.380754150075575},\n",
       " '24_5': {'chi2': 34.97785861903275, 'p-value': 3.3347585629109594e-09}}"
      ]
     },
     "execution_count": 7,
     "metadata": {},
     "output_type": "execute_result"
    }
   ],
   "source": [
    "# p-value값 확인\n",
    "for feature in categorical_features:\n",
    "    contingency_table = pd.crosstab(train_copy[feature], train_copy['TARGET'])\n",
    "    \n",
    "    chi2, p, dof, expected = chi2_contingency(contingency_table)\n",
    "\n",
    "    chi2_results[feature] = {'chi2': chi2, 'p-value': p}\n",
    "\n",
    "\n",
    "chi2_results"
   ]
  },
  {
   "cell_type": "code",
   "execution_count": null,
   "metadata": {},
   "outputs": [],
   "source": []
  },
  {
   "cell_type": "code",
   "execution_count": null,
   "metadata": {},
   "outputs": [],
   "source": [
    "train_copy"
   ]
  },
  {
   "cell_type": "code",
   "execution_count": 8,
   "metadata": {},
   "outputs": [],
   "source": [
    "# feature와 label 분리\n",
    "feature = train_copy.drop('TARGET', axis=1)\n",
    "label = train_copy['TARGET']"
   ]
  },
  {
   "cell_type": "code",
   "execution_count": 9,
   "metadata": {},
   "outputs": [],
   "source": [
    "# train test 분리\n",
    "X_train_old, X_test, y_train_old , y_test = train_test_split(feature, label, test_size=0.3 , random_state=42)"
   ]
  },
  {
   "cell_type": "code",
   "execution_count": 10,
   "metadata": {},
   "outputs": [
    {
     "data": {
      "text/plain": [
       "TARGET\n",
       "0    37465\n",
       "1     4527\n",
       "Name: count, dtype: int64"
      ]
     },
     "execution_count": 10,
     "metadata": {},
     "output_type": "execute_result"
    }
   ],
   "source": [
    "y_train_old.value_counts()"
   ]
  },
  {
   "cell_type": "code",
   "execution_count": 11,
   "metadata": {},
   "outputs": [],
   "source": [
    "from imblearn.over_sampling import SMOTE\n",
    "X_train, y_train = SMOTE(random_state = 22).fit_resample(X_train_old, y_train_old)"
   ]
  },
  {
   "cell_type": "code",
   "execution_count": 12,
   "metadata": {},
   "outputs": [
    {
     "data": {
      "text/plain": [
       "TARGET\n",
       "0    37465\n",
       "1    37465\n",
       "Name: count, dtype: int64"
      ]
     },
     "execution_count": 12,
     "metadata": {},
     "output_type": "execute_result"
    }
   ],
   "source": [
    "y_train.value_counts()"
   ]
  },
  {
   "cell_type": "code",
   "execution_count": 13,
   "metadata": {},
   "outputs": [
    {
     "name": "stdout",
     "output_type": "stream",
     "text": [
      "최적 하이퍼 파라미터: {'max_depth': 5, 'min_samples_split': 3}\n",
      "최고 예측 정확도: 0.6861\n"
     ]
    }
   ],
   "source": [
    "# 1. Decision Tree를 이용한 학습\n",
    "# 1-1. GridSearchCV를 적용해 Decision Tree의 교차검증 및 하이퍼파라미터 튜닝\n",
    "\n",
    "dt = DecisionTreeClassifier()\n",
    "\n",
    "parameters = {'max_depth' : [2, 3, 4, 5],\n",
    "             'min_samples_split' : [1, 3, 5, 7, 9]}\n",
    "\n",
    "grid_dt = GridSearchCV(dt, param_grid = parameters, cv=3, refit=True)\n",
    "grid_dt.fit(X_train, y_train)\n",
    "\n",
    "dt = grid_dt.best_estimator_\n",
    "\n",
    "print(f\"최적 하이퍼 파라미터: {grid_dt.best_params_}\")\n",
    "print(f\"최고 예측 정확도: {grid_dt.best_score_:.4f}\")"
   ]
  },
  {
   "cell_type": "code",
   "execution_count": 14,
   "metadata": {},
   "outputs": [],
   "source": [
    "# 모델로부터 예측 확률 계산\n",
    "# predicted_probabilities = dt.predict_proba(X_test)\n",
    "\n",
    "# 임계값 설정\n",
    "# threshold = 0.6  # 임계값 설정 (예시로 0.6으로 설정)\n",
    "\n",
    "# 예측값 변환\n",
    "# predicted_classes = (predicted_probabilities[:, 1] >= threshold).astype(int)  # 양성 클래스의 확률에 대해 임계값 적용\n"
   ]
  },
  {
   "cell_type": "code",
   "execution_count": 15,
   "metadata": {},
   "outputs": [
    {
     "ename": "NameError",
     "evalue": "name 'pred_proba' is not defined",
     "output_type": "error",
     "traceback": [
      "\u001b[1;31m---------------------------------------------------------------------------\u001b[0m",
      "\u001b[1;31mNameError\u001b[0m                                 Traceback (most recent call last)",
      "Cell \u001b[1;32mIn[15], line 6\u001b[0m\n\u001b[0;32m      2\u001b[0m \u001b[38;5;28;01mfrom\u001b[39;00m \u001b[38;5;21;01msklearn\u001b[39;00m\u001b[38;5;21;01m.\u001b[39;00m\u001b[38;5;21;01mpreprocessing\u001b[39;00m \u001b[38;5;28;01mimport\u001b[39;00m Binarizer\n\u001b[0;32m      4\u001b[0m custom_threshold \u001b[38;5;241m=\u001b[39m \u001b[38;5;241m0.5\u001b[39m\n\u001b[1;32m----> 6\u001b[0m pred_proba_1 \u001b[38;5;241m=\u001b[39m \u001b[43mpred_proba\u001b[49m[:,\u001b[38;5;241m1\u001b[39m]\u001b[38;5;241m.\u001b[39mreshape(\u001b[38;5;241m-\u001b[39m\u001b[38;5;241m1\u001b[39m,\u001b[38;5;241m1\u001b[39m)\n\u001b[0;32m      8\u001b[0m binarizer \u001b[38;5;241m=\u001b[39m Binarizer(threshold\u001b[38;5;241m=\u001b[39mcustom_threshold)\u001b[38;5;241m.\u001b[39mfit(pred_proba_1)\n\u001b[0;32m      9\u001b[0m custom_predict \u001b[38;5;241m=\u001b[39m binarizer\u001b[38;5;241m.\u001b[39mtransform(pred_proba_1)\n",
      "\u001b[1;31mNameError\u001b[0m: name 'pred_proba' is not defined"
     ]
    }
   ],
   "source": [
    "# 임계값 재설정\n",
    "from sklearn.preprocessing import Binarizer\n",
    "\n",
    "custom_threshold = 0.5\n",
    "\n",
    "pred_proba_1 = pred_proba[:,1].reshape(-1,1)\n",
    "\n",
    "binarizer = Binarizer(threshold=custom_threshold).fit(pred_proba_1)\n",
    "custom_predict = binarizer.transform(pred_proba_1)\n",
    "custom_predict\n",
    "get_clf_eval(y_test, custom_predict)"
   ]
  },
  {
   "cell_type": "code",
   "execution_count": 16,
   "metadata": {},
   "outputs": [
    {
     "name": "stdout",
     "output_type": "stream",
     "text": [
      "의사결정나무 정확도 : 0.721\n",
      "의사결정나무 정밀도 : 0.168\n",
      "의사결정나무 재현율 : 0.416\n",
      "의사결정나무 f1_score : 0.239\n",
      "의사결정나무 roc_auc : 0.613\n"
     ]
    }
   ],
   "source": [
    "# Decision Tree 적용\n",
    "pred = dt.predict(X_test)\n",
    "pred_proba = dt.predict_proba(X_test)\n",
    "pred_proba_1 = pred_proba[:, 1]\n",
    "\n",
    "acc = accuracy_score(y_test , pred)\n",
    "prec = precision_score(y_test , pred)\n",
    "rec = recall_score(y_test , pred)\n",
    "f1score = f1_score(y_test, pred)\n",
    "auc_score = roc_auc_score(y_test , pred_proba_1)\n",
    "print(f'의사결정나무 정확도 : {acc:.3f}')\n",
    "print(f'의사결정나무 정밀도 : {prec:.3f}')\n",
    "print(f'의사결정나무 재현율 : {rec:.3f}')\n",
    "print(f'의사결정나무 f1_score : {f1score:.3f}')\n",
    "print(f'의사결정나무 roc_auc : {auc_score:.3f}')"
   ]
  },
  {
   "cell_type": "code",
   "execution_count": 17,
   "metadata": {},
   "outputs": [
    {
     "name": "stdout",
     "output_type": "stream",
     "text": [
      "성별: 0.17933245555374744\n",
      "차량 소유 여부: 0.1768293238705264\n",
      "부동산 소유 여부: 0.0\n",
      "수입 유형: 0.07804655867130357\n",
      "최종 학력: 0.24941255736355508\n",
      "결혼 여부: 0.004050297945207429\n",
      "주거 형태: 0.0\n",
      "휴대전화 소유 여부: 0.0\n",
      "이메일 소유 여부: 0.0\n",
      "직업: 0.0\n",
      "가족 구성원 수: 0.006534031503264555\n",
      "산업군: 0.0\n",
      "나이: 0.24527546981421583\n",
      "가입연수: 0.05765841088648432\n",
      "도시구분: 0.0\n",
      "월간 수입: 0.0028608943916954193\n",
      "24_15: 0.0\n",
      "24_12: 0.0\n",
      "24_17: 0.0\n",
      "24_5: 0.0\n"
     ]
    }
   ],
   "source": [
    "# 트리 기반 모델의 특성 중요도 확인\n",
    "for feature, importance in zip(X_train.columns, dt.feature_importances_):\n",
    "    print(f\"{feature}: {importance}\")"
   ]
  },
  {
   "cell_type": "code",
   "execution_count": 18,
   "metadata": {},
   "outputs": [
    {
     "name": "stdout",
     "output_type": "stream",
     "text": [
      "최적 하이퍼 파라미터: {'max_depth': 12, 'min_samples_split': 16}\n",
      "최고 예측 정확도: 0.7569\n"
     ]
    }
   ],
   "source": [
    "# 2. RandomForest를 이용한 학습\n",
    "# 2-1. GridSearchCV를 적용해 RandomForest의 교차검증 및 하이퍼파라미터 튜닝\n",
    "\n",
    "rf = RandomForestClassifier()\n",
    "\n",
    "parameters = {\n",
    "    'max_depth' : [6, 8, 12],\n",
    "    'min_samples_split' : [16, 24]\n",
    "}\n",
    "\n",
    "grid_rf = GridSearchCV(rf, param_grid = parameters, cv=3, refit=True)\n",
    "grid_rf.fit(X_train, y_train)\n",
    "\n",
    "rf = grid_rf.best_estimator_\n",
    "\n",
    "print(f\"최적 하이퍼 파라미터: {grid_rf.best_params_}\")\n",
    "print(f\"최고 예측 정확도: {grid_rf.best_score_:.4f}\")"
   ]
  },
  {
   "cell_type": "code",
   "execution_count": 19,
   "metadata": {},
   "outputs": [
    {
     "name": "stdout",
     "output_type": "stream",
     "text": [
      "랜덤포레스트 정확도 : 0.784\n",
      "랜덤포레스트 정밀도 : 0.143\n",
      "랜덤포레스트 재현율 : 0.210\n",
      "랜덤포레스트 f1_score : 0.170\n",
      "랜덤포레스트 roc_auc : 0.579\n"
     ]
    }
   ],
   "source": [
    "# RandomForest 적용\n",
    "\n",
    "rf = RandomForestClassifier(random_state=0)\n",
    "rf.fit(X_train, y_train)\n",
    "pred = rf.predict(X_test)\n",
    "pred_proba = rf.predict_proba(X_test)\n",
    "pred_proba_1 = pred_proba[:, 1]\n",
    "\n",
    "acc = accuracy_score(y_test , pred)\n",
    "prec = precision_score(y_test , pred)\n",
    "rec = recall_score(y_test , pred)\n",
    "f1score = f1_score(y_test, pred)\n",
    "auc_score = roc_auc_score(y_test , pred_proba_1)\n",
    "\n",
    "print(f'랜덤포레스트 정확도 : {acc:.3f}')\n",
    "print(f'랜덤포레스트 정밀도 : {prec:.3f}')\n",
    "print(f'랜덤포레스트 재현율 : {rec:.3f}')\n",
    "print(f'랜덤포레스트 f1_score : {f1score:.3f}')\n",
    "print(f'랜덤포레스트 roc_auc : {auc_score:.3f}')"
   ]
  },
  {
   "cell_type": "code",
   "execution_count": 20,
   "metadata": {},
   "outputs": [
    {
     "name": "stdout",
     "output_type": "stream",
     "text": [
      "성별: 0.042840086489680386\n",
      "차량 소유 여부: 0.041299626806466386\n",
      "부동산 소유 여부: 0.02999418894127713\n",
      "수입 유형: 0.054651932744269764\n",
      "최종 학력: 0.056780843034960705\n",
      "결혼 여부: 0.0583670495597477\n",
      "주거 형태: 0.02366505247601228\n",
      "휴대전화 소유 여부: 2.9428531823083255e-06\n",
      "이메일 소유 여부: 0.013790394507288197\n",
      "직업: 0.13435565187219087\n",
      "가족 구성원 수: 0.0709380718167282\n",
      "산업군: 0.14144940434949124\n",
      "나이: 0.09005914379616246\n",
      "가입연수: 0.07165583272251709\n",
      "도시구분: 0.06607713833428064\n",
      "월간 수입: 0.09155677911382362\n",
      "24_15: 0.0006696522677760672\n",
      "24_12: 0.004029135038402519\n",
      "24_17: 0.001899459582232055\n",
      "24_5: 0.0059176136935104335\n"
     ]
    }
   ],
   "source": [
    "# 트리 기반 모델의 특성 중요도 확인\n",
    "for feature, importance in zip(X_train.columns, rf.feature_importances_):\n",
    "    print(f\"{feature}: {importance}\")"
   ]
  },
  {
   "cell_type": "code",
   "execution_count": 21,
   "metadata": {},
   "outputs": [
    {
     "name": "stdout",
     "output_type": "stream",
     "text": [
      "최적 하이퍼 파라미터: {'C': 1, 'penalty': 'l2'}\n",
      "최고 예측 정확도: 0.7039\n"
     ]
    }
   ],
   "source": [
    "# 3. Logistic regrssion 을 이용한 학습\n",
    "# 3-1. GridSearchCV를 적용해 Logistic regrssion의 교차검증 및 하이퍼파라미터 튜닝\n",
    "\n",
    "lr = LogisticRegression()\n",
    "\n",
    "parameters = {'penalty': ['l2','l1'],\n",
    "          'C':[0.01,0.1,1,10]}\n",
    "\n",
    "grid_lr = GridSearchCV(lr, param_grid = parameters, cv=3, refit=True)\n",
    "grid_lr.fit(X_train, y_train)\n",
    "\n",
    "lr = grid_lr.best_estimator_\n",
    "\n",
    "print(f\"최적 하이퍼 파라미터: {grid_lr.best_params_}\")\n",
    "print(f\"최고 예측 정확도: {grid_lr.best_score_:.4f}\")"
   ]
  },
  {
   "cell_type": "code",
   "execution_count": 22,
   "metadata": {},
   "outputs": [
    {
     "name": "stdout",
     "output_type": "stream",
     "text": [
      "Logistic regrssion 정확도 : 0.675\n",
      "Logistic regrssion 정밀도 : 0.151\n",
      "Logistic regrssion 재현율 : 0.449\n",
      "Logistic regrssion f1_score : 0.226\n",
      "Logistic regrssion roc_auc : 0.604\n"
     ]
    }
   ],
   "source": [
    "#3-2. Logistic Regression 적용\n",
    "lr.fit(X_train, y_train)\n",
    "pred = lr.predict(X_test)\n",
    "pred_proba = lr.predict_proba(X_test)\n",
    "pred_proba_1 = pred_proba[:, 1]\n",
    "\n",
    "acc = accuracy_score(y_test , pred)\n",
    "prec = precision_score(y_test , pred)\n",
    "rec = recall_score(y_test , pred)\n",
    "auc_score = roc_auc_score(y_test , pred_proba_1)\n",
    "f1score = f1_score(y_test, pred)\n",
    "\n",
    "print(f'Logistic regrssion 정확도 : {acc:.3f}')\n",
    "print(f'Logistic regrssion 정밀도 : {prec:.3f}')\n",
    "print(f'Logistic regrssion 재현율 : {rec:.3f}')\n",
    "print(f'Logistic regrssion f1_score : {f1score:.3f}')\n",
    "print(f'Logistic regrssion roc_auc : {auc_score:.3f}')"
   ]
  },
  {
   "cell_type": "code",
   "execution_count": 23,
   "metadata": {},
   "outputs": [
    {
     "name": "stdout",
     "output_type": "stream",
     "text": [
      "성별: -1.011588992846387\n",
      "차량 소유 여부: -1.089695112279294\n",
      "부동산 소유 여부: -0.3296855586812533\n",
      "수입 유형: -0.1720033892219528\n",
      "최종 학력: -0.7452108114953114\n",
      "결혼 여부: -0.0791726000767669\n",
      "주거 형태: 0.024326387244207145\n",
      "휴대전화 소유 여부: 2.518355461137124\n",
      "이메일 소유 여부: -1.3877498449050674\n",
      "직업: -0.019440993691862484\n",
      "가족 구성원 수: -0.3367088519270097\n",
      "산업군: -0.008151057280524496\n",
      "나이: -0.37622187999612056\n",
      "가입연수: -0.5316240681307812\n",
      "도시구분: -0.11504699850755425\n",
      "월간 수입: -0.2508281106191155\n",
      "24_15: 0.029257259341664288\n",
      "24_12: 0.4440954211978093\n",
      "24_17: -0.23335811927479566\n",
      "24_5: -0.02620651327723987\n"
     ]
    }
   ],
   "source": [
    "# 학습된 모델의 특성 중요도 확인\n",
    "feature_importance = lr.coef_[0]  # 특성의 가중치 또는 중요도\n",
    "\n",
    "# 특성별 중요도 출력\n",
    "for feature, importance in zip(X_train.columns, feature_importance):\n",
    "    print(f\"{feature}: {importance}\")"
   ]
  },
  {
   "cell_type": "code",
   "execution_count": 24,
   "metadata": {},
   "outputs": [],
   "source": [
    "# 5. KNN 을 이용한 학습\n",
    "# 5-1. GridSearchCV를 적용해 KNN의 교차검증 및 하이퍼파라미터 튜닝\n",
    "\n",
    "knn = KNeighborsClassifier()\n",
    "\n",
    "parameters = {'n_neighbors': [3, 5, 7, 9],\n",
    "              'weights': ['uniform', 'distance']\n",
    "          }\n",
    "\n",
    "grid_knn = GridSearchCV(knn, param_grid = parameters, cv=3, refit=True)\n",
    "grid_knn.fit(X_train, y_train)\n",
    "\n",
    "knn = grid_knn.best_estimator_\n",
    "\n",
    "print(f\"최적 하이퍼 파라미터: {grid_knn.best_params_}\")\n",
    "print(f\"최고 예측 정확도: {grid_knn.best_score_:.4f}\")"
   ]
  },
  {
   "cell_type": "code",
   "execution_count": null,
   "metadata": {},
   "outputs": [],
   "source": [
    "# 5-2 knn 적용\n",
    "knn = KNeighborsClassifier()\n",
    "\n",
    "knn.fit(X_train, y_train)\n",
    "pred = knn.predict(X_test) \n",
    "\n",
    "acc = accuracy_score(y_test , pred)\n",
    "prec = precision_score(y_test , pred)\n",
    "rec = recall_score(y_test , pred)\n",
    "auc_score = roc_auc_score(y_test , pred)\n",
    "f1score = f1_score(y_test, pred)\n",
    "\n",
    "print(f'KNN 정확도 : {acc:.3f}')\n",
    "print(f'KNN 정밀도 : {prec:.3f}')\n",
    "print(f'KNN 재현율 : {rec:.3f}')\n",
    "print(f'KNN f1_score : {f1score:.3f}')\n",
    "print(f'KNN roc_auc : {auc_score:.3f}')"
   ]
  },
  {
   "cell_type": "code",
   "execution_count": null,
   "metadata": {},
   "outputs": [],
   "source": [
    "# 6. xgboost 를 이용한 학습\n",
    "from xgboost import XGBClassifier\n",
    "\n",
    "xgb_model = XGBClassifier(n_estimators = 150,\n",
    "                            learning_rate = 0.2,\n",
    "                            max_depth = 10,\n",
    "                            min_child_weight = 5,\n",
    "                            gamma = 10)\n",
    "\n",
    "# fit\n",
    "xgb_model.fit(X_train, y_train)\n",
    "\n",
    "# 예측\n",
    "y_pred = xgb_model.predict(X_test)\n",
    "\n",
    "\n",
    "# 모델 성능평가\n",
    "from sklearn.metrics import confusion_matrix\n",
    "cf_matrix = confusion_matrix(y_test, y_pred)\n",
    "\n",
    "acc = accuracy_score(y_test , pred)\n",
    "prec = precision_score(y_test , pred)\n",
    "rec = recall_score(y_test , pred)\n",
    "auc_score = roc_auc_score(y_test , pred)\n",
    "f1score = f1_score(y_test, pred)\n",
    "\n",
    "\n",
    "# score print\n",
    "print(f'xgboost 정확도 : {acc:.3f}')\n",
    "print(f'xgboost 정밀도 : {prec:.3f}')\n",
    "print(f'xgboost 재현율 : {rec:.3f}')\n",
    "print(f'xgboost f1_score : {f1score:.3f}')\n",
    "print(f'xgboost roc_auc : {auc_score:.3f}')"
   ]
  },
  {
   "cell_type": "code",
   "execution_count": null,
   "metadata": {},
   "outputs": [],
   "source": [
    "# 5. Lightgbm을 이용한 학습\n",
    "# 5-1. GridSearchCV를 적용해 Lightgbm의 교차검증 및 하이퍼파라미터 튜닝\n",
    "\n",
    "from lightgbm import LGBMClassifier\n",
    "lgbm= LGBMClassifier(n_estimators=1000, num_leaves=64, n_jobs=-1, boost_from_average=False, force_row_wise=True)\n",
    "evals = [(X_test, y_test)]\n",
    "lgbm.fit(X_train, y_train, eval_metric='logloss', eval_set=evals)\n",
    "\n",
    "lgbm.fit(X_train, y_train)\n",
    "pred = lgbm.predict(X_test)\n",
    "pred_proba = lgbm.predict_proba(X_test)[:,1]\n",
    "\n",
    "acc = accuracy_score(y_test , pred)\n",
    "prec = precision_score(y_test, pred)\n",
    "rec = recall_score(y_test , pred)\n",
    "auc_score = roc_auc_score(y_test , pred)\n",
    "f1score = f1_score(y_test, pred)\n",
    "\n",
    "print(f'lightgbm 정확도 : {acc:.3f}')\n",
    "print(f'lightgbm 정밀도 : {prec:.3f}')\n",
    "print(f'lightgbm 재현율 : {rec:.3f}')\n",
    "print(f'lightgbm f1_score : {f1score:.3f}')\n",
    "print(f'lightgbm roc_auc : {auc_score:.3f}')"
   ]
  },
  {
   "cell_type": "code",
   "execution_count": null,
   "metadata": {},
   "outputs": [],
   "source": [
    "# 산업군_직업, 산업군_직업2를 같이 돌리면 성능 떨어짐\n",
    "# 산업군_직업만 추가해서 돌리는게 더 나음"
   ]
  }
 ],
 "metadata": {
  "kernelspec": {
   "display_name": "Python 3",
   "language": "python",
   "name": "python3"
  },
  "language_info": {
   "codemirror_mode": {
    "name": "ipython",
    "version": 3
   },
   "file_extension": ".py",
   "mimetype": "text/x-python",
   "name": "python",
   "nbconvert_exporter": "python",
   "pygments_lexer": "ipython3",
   "version": "3.11.5"
  }
 },
 "nbformat": 4,
 "nbformat_minor": 2
}
