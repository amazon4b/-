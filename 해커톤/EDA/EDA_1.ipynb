{
 "cells": [
  {
   "cell_type": "code",
   "execution_count": 1,
   "metadata": {},
   "outputs": [],
   "source": [
    "import pandas as pd\n",
    "import pandas as pd\n",
    "import numpy as np\n",
    "import matplotlib.pyplot as plt\n",
    "import seaborn as sns\n",
    "import warnings\n",
    "warnings.filterwarnings('ignore')\n",
    "%matplotlib inline"
   ]
  },
  {
   "cell_type": "markdown",
   "metadata": {},
   "source": [
    "1. 데이터 불러오기\n",
    "2. 데이터 확인 - 열(column)의 이름, 데이터 타입, 결측치 여부\n",
    "3. feature간 상관 관계 분석"
   ]
  },
  {
   "cell_type": "code",
   "execution_count": 2,
   "metadata": {},
   "outputs": [
    {
     "data": {
      "text/html": [
       "<div>\n",
       "<style scoped>\n",
       "    .dataframe tbody tr th:only-of-type {\n",
       "        vertical-align: middle;\n",
       "    }\n",
       "\n",
       "    .dataframe tbody tr th {\n",
       "        vertical-align: top;\n",
       "    }\n",
       "\n",
       "    .dataframe thead th {\n",
       "        text-align: right;\n",
       "    }\n",
       "</style>\n",
       "<table border=\"1\" class=\"dataframe\">\n",
       "  <thead>\n",
       "    <tr style=\"text-align: right;\">\n",
       "      <th></th>\n",
       "      <th>ID</th>\n",
       "      <th>TARGET</th>\n",
       "      <th>성별</th>\n",
       "      <th>차량 소유 여부</th>\n",
       "      <th>부동산 소유 여부</th>\n",
       "      <th>자녀 수</th>\n",
       "      <th>연간 수입</th>\n",
       "      <th>수입 유형</th>\n",
       "      <th>최종 학력</th>\n",
       "      <th>결혼 여부</th>\n",
       "      <th>...</th>\n",
       "      <th>거주지 인구 비율</th>\n",
       "      <th>휴대전화 소유 여부</th>\n",
       "      <th>업무용 휴대전화 소유 여부</th>\n",
       "      <th>이메일 소유 여부</th>\n",
       "      <th>직업</th>\n",
       "      <th>가족 구성원 수</th>\n",
       "      <th>산업군</th>\n",
       "      <th>나이</th>\n",
       "      <th>근속연수</th>\n",
       "      <th>가입연수</th>\n",
       "    </tr>\n",
       "  </thead>\n",
       "  <tbody>\n",
       "    <tr>\n",
       "      <th>0</th>\n",
       "      <td>TRAIN_00000</td>\n",
       "      <td>0</td>\n",
       "      <td>여성</td>\n",
       "      <td>1</td>\n",
       "      <td>1</td>\n",
       "      <td>2</td>\n",
       "      <td>18054000.0</td>\n",
       "      <td>연금수령자</td>\n",
       "      <td>고등학교 졸업</td>\n",
       "      <td>기혼</td>\n",
       "      <td>...</td>\n",
       "      <td>0.004960</td>\n",
       "      <td>1</td>\n",
       "      <td>0</td>\n",
       "      <td>0</td>\n",
       "      <td>Unknown</td>\n",
       "      <td>4.0</td>\n",
       "      <td>기타 1</td>\n",
       "      <td>39</td>\n",
       "      <td>1000</td>\n",
       "      <td>23.0</td>\n",
       "    </tr>\n",
       "    <tr>\n",
       "      <th>1</th>\n",
       "      <td>TRAIN_00001</td>\n",
       "      <td>0</td>\n",
       "      <td>남성</td>\n",
       "      <td>1</td>\n",
       "      <td>0</td>\n",
       "      <td>0</td>\n",
       "      <td>59472000.0</td>\n",
       "      <td>근로자</td>\n",
       "      <td>대학교 졸업 이상</td>\n",
       "      <td>기혼</td>\n",
       "      <td>...</td>\n",
       "      <td>0.018029</td>\n",
       "      <td>1</td>\n",
       "      <td>1</td>\n",
       "      <td>0</td>\n",
       "      <td>기술직</td>\n",
       "      <td>2.0</td>\n",
       "      <td>사업 1</td>\n",
       "      <td>45</td>\n",
       "      <td>4</td>\n",
       "      <td>16.0</td>\n",
       "    </tr>\n",
       "    <tr>\n",
       "      <th>2</th>\n",
       "      <td>TRAIN_00002</td>\n",
       "      <td>0</td>\n",
       "      <td>여성</td>\n",
       "      <td>0</td>\n",
       "      <td>1</td>\n",
       "      <td>0</td>\n",
       "      <td>29736000.0</td>\n",
       "      <td>근로자</td>\n",
       "      <td>고등학교 졸업</td>\n",
       "      <td>기혼</td>\n",
       "      <td>...</td>\n",
       "      <td>0.010500</td>\n",
       "      <td>1</td>\n",
       "      <td>1</td>\n",
       "      <td>0</td>\n",
       "      <td>단순 노동자</td>\n",
       "      <td>2.0</td>\n",
       "      <td>사업 0</td>\n",
       "      <td>32</td>\n",
       "      <td>3</td>\n",
       "      <td>9.0</td>\n",
       "    </tr>\n",
       "  </tbody>\n",
       "</table>\n",
       "<p>3 rows × 21 columns</p>\n",
       "</div>"
      ],
      "text/plain": [
       "            ID  TARGET  성별  차량 소유 여부  부동산 소유 여부  자녀 수       연간 수입  수입 유형  \\\n",
       "0  TRAIN_00000       0  여성         1          1     2  18054000.0  연금수령자   \n",
       "1  TRAIN_00001       0  남성         1          0     0  59472000.0    근로자   \n",
       "2  TRAIN_00002       0  여성         0          1     0  29736000.0    근로자   \n",
       "\n",
       "       최종 학력 결혼 여부  ... 거주지 인구 비율  휴대전화 소유 여부  업무용 휴대전화 소유 여부  이메일 소유 여부  \\\n",
       "0    고등학교 졸업    기혼  ...  0.004960           1               0          0   \n",
       "1  대학교 졸업 이상    기혼  ...  0.018029           1               1          0   \n",
       "2    고등학교 졸업    기혼  ...  0.010500           1               1          0   \n",
       "\n",
       "        직업 가족 구성원 수   산업군  나이  근속연수  가입연수  \n",
       "0  Unknown      4.0  기타 1  39  1000  23.0  \n",
       "1      기술직      2.0  사업 1  45     4  16.0  \n",
       "2   단순 노동자      2.0  사업 0  32     3   9.0  \n",
       "\n",
       "[3 rows x 21 columns]"
      ]
     },
     "metadata": {},
     "output_type": "display_data"
    },
    {
     "data": {
      "text/html": [
       "<div>\n",
       "<style scoped>\n",
       "    .dataframe tbody tr th:only-of-type {\n",
       "        vertical-align: middle;\n",
       "    }\n",
       "\n",
       "    .dataframe tbody tr th {\n",
       "        vertical-align: top;\n",
       "    }\n",
       "\n",
       "    .dataframe thead th {\n",
       "        text-align: right;\n",
       "    }\n",
       "</style>\n",
       "<table border=\"1\" class=\"dataframe\">\n",
       "  <thead>\n",
       "    <tr style=\"text-align: right;\">\n",
       "      <th></th>\n",
       "      <th>ID</th>\n",
       "      <th>성별</th>\n",
       "      <th>차량 소유 여부</th>\n",
       "      <th>부동산 소유 여부</th>\n",
       "      <th>자녀 수</th>\n",
       "      <th>연간 수입</th>\n",
       "      <th>수입 유형</th>\n",
       "      <th>최종 학력</th>\n",
       "      <th>결혼 여부</th>\n",
       "      <th>주거 형태</th>\n",
       "      <th>거주지 인구 비율</th>\n",
       "      <th>휴대전화 소유 여부</th>\n",
       "      <th>업무용 휴대전화 소유 여부</th>\n",
       "      <th>이메일 소유 여부</th>\n",
       "      <th>직업</th>\n",
       "      <th>가족 구성원 수</th>\n",
       "      <th>산업군</th>\n",
       "      <th>나이</th>\n",
       "      <th>근속연수</th>\n",
       "      <th>가입연수</th>\n",
       "    </tr>\n",
       "  </thead>\n",
       "  <tbody>\n",
       "    <tr>\n",
       "      <th>0</th>\n",
       "      <td>TEST_00000</td>\n",
       "      <td>남성</td>\n",
       "      <td>0</td>\n",
       "      <td>0</td>\n",
       "      <td>2</td>\n",
       "      <td>37170000.0</td>\n",
       "      <td>근로자</td>\n",
       "      <td>대학교 중퇴</td>\n",
       "      <td>기혼</td>\n",
       "      <td>주택 / 아파트</td>\n",
       "      <td>0.006296</td>\n",
       "      <td>1</td>\n",
       "      <td>1</td>\n",
       "      <td>0</td>\n",
       "      <td>핵심 노동자</td>\n",
       "      <td>4.0</td>\n",
       "      <td>기타 0</td>\n",
       "      <td>27</td>\n",
       "      <td>2</td>\n",
       "      <td>8.0</td>\n",
       "    </tr>\n",
       "    <tr>\n",
       "      <th>1</th>\n",
       "      <td>TEST_00001</td>\n",
       "      <td>남성</td>\n",
       "      <td>0</td>\n",
       "      <td>0</td>\n",
       "      <td>0</td>\n",
       "      <td>47790000.0</td>\n",
       "      <td>근로자</td>\n",
       "      <td>대학교 졸업 이상</td>\n",
       "      <td>기혼</td>\n",
       "      <td>주택 / 아파트</td>\n",
       "      <td>0.004960</td>\n",
       "      <td>1</td>\n",
       "      <td>1</td>\n",
       "      <td>0</td>\n",
       "      <td>관리직</td>\n",
       "      <td>2.0</td>\n",
       "      <td>정부</td>\n",
       "      <td>40</td>\n",
       "      <td>8</td>\n",
       "      <td>11.0</td>\n",
       "    </tr>\n",
       "    <tr>\n",
       "      <th>2</th>\n",
       "      <td>TEST_00002</td>\n",
       "      <td>남성</td>\n",
       "      <td>1</td>\n",
       "      <td>1</td>\n",
       "      <td>1</td>\n",
       "      <td>37170000.0</td>\n",
       "      <td>공무원</td>\n",
       "      <td>고등학교 졸업</td>\n",
       "      <td>기혼</td>\n",
       "      <td>주택 / 아파트</td>\n",
       "      <td>0.026392</td>\n",
       "      <td>1</td>\n",
       "      <td>1</td>\n",
       "      <td>0</td>\n",
       "      <td>관리직</td>\n",
       "      <td>3.0</td>\n",
       "      <td>국가 안보</td>\n",
       "      <td>43</td>\n",
       "      <td>15</td>\n",
       "      <td>14.0</td>\n",
       "    </tr>\n",
       "  </tbody>\n",
       "</table>\n",
       "</div>"
      ],
      "text/plain": [
       "           ID  성별  차량 소유 여부  부동산 소유 여부  자녀 수       연간 수입 수입 유형      최종 학력  \\\n",
       "0  TEST_00000  남성         0          0     2  37170000.0   근로자     대학교 중퇴   \n",
       "1  TEST_00001  남성         0          0     0  47790000.0   근로자  대학교 졸업 이상   \n",
       "2  TEST_00002  남성         1          1     1  37170000.0   공무원    고등학교 졸업   \n",
       "\n",
       "  결혼 여부     주거 형태  거주지 인구 비율  휴대전화 소유 여부  업무용 휴대전화 소유 여부  이메일 소유 여부      직업  \\\n",
       "0    기혼  주택 / 아파트   0.006296           1               1          0  핵심 노동자   \n",
       "1    기혼  주택 / 아파트   0.004960           1               1          0     관리직   \n",
       "2    기혼  주택 / 아파트   0.026392           1               1          0     관리직   \n",
       "\n",
       "   가족 구성원 수    산업군  나이  근속연수  가입연수  \n",
       "0       4.0   기타 0  27     2   8.0  \n",
       "1       2.0     정부  40     8  11.0  \n",
       "2       3.0  국가 안보  43    15  14.0  "
      ]
     },
     "metadata": {},
     "output_type": "display_data"
    },
    {
     "data": {
      "text/html": [
       "<div>\n",
       "<style scoped>\n",
       "    .dataframe tbody tr th:only-of-type {\n",
       "        vertical-align: middle;\n",
       "    }\n",
       "\n",
       "    .dataframe tbody tr th {\n",
       "        vertical-align: top;\n",
       "    }\n",
       "\n",
       "    .dataframe thead th {\n",
       "        text-align: right;\n",
       "    }\n",
       "</style>\n",
       "<table border=\"1\" class=\"dataframe\">\n",
       "  <thead>\n",
       "    <tr style=\"text-align: right;\">\n",
       "      <th></th>\n",
       "      <th>ID</th>\n",
       "      <th>TARGET</th>\n",
       "    </tr>\n",
       "  </thead>\n",
       "  <tbody>\n",
       "    <tr>\n",
       "      <th>0</th>\n",
       "      <td>TEST_00000</td>\n",
       "      <td>0</td>\n",
       "    </tr>\n",
       "    <tr>\n",
       "      <th>1</th>\n",
       "      <td>TEST_00001</td>\n",
       "      <td>0</td>\n",
       "    </tr>\n",
       "    <tr>\n",
       "      <th>2</th>\n",
       "      <td>TEST_00002</td>\n",
       "      <td>0</td>\n",
       "    </tr>\n",
       "    <tr>\n",
       "      <th>3</th>\n",
       "      <td>TEST_00003</td>\n",
       "      <td>0</td>\n",
       "    </tr>\n",
       "    <tr>\n",
       "      <th>4</th>\n",
       "      <td>TEST_00004</td>\n",
       "      <td>0</td>\n",
       "    </tr>\n",
       "  </tbody>\n",
       "</table>\n",
       "</div>"
      ],
      "text/plain": [
       "           ID  TARGET\n",
       "0  TEST_00000       0\n",
       "1  TEST_00001       0\n",
       "2  TEST_00002       0\n",
       "3  TEST_00003       0\n",
       "4  TEST_00004       0"
      ]
     },
     "metadata": {},
     "output_type": "display_data"
    }
   ],
   "source": [
    "# 데이터 불러오기\n",
    "train_df = pd.read_csv('../datasets/data_con/train.csv')\n",
    "test_df = pd.read_csv('../datasets/data_con/test.csv')\n",
    "subm_df = pd.read_csv('../datasets/data_con/sample_submission.csv')\n",
    "\n",
    "display(train_df.head(3))\n",
    "display(test_df.head(3))\n",
    "display(subm_df.head())"
   ]
  },
  {
   "cell_type": "code",
   "execution_count": 3,
   "metadata": {},
   "outputs": [
    {
     "data": {
      "text/plain": [
       "38264739.437772244"
      ]
     },
     "execution_count": 3,
     "metadata": {},
     "output_type": "execute_result"
    }
   ],
   "source": [
    "train_df[train_df['TARGET']==1]['연간 수입'].mean()"
   ]
  },
  {
   "cell_type": "code",
   "execution_count": 4,
   "metadata": {},
   "outputs": [
    {
     "data": {
      "text/plain": [
       "40025645.27028635"
      ]
     },
     "execution_count": 4,
     "metadata": {},
     "output_type": "execute_result"
    }
   ],
   "source": [
    "train_df[train_df['TARGET']==0]['연간 수입'].mean()"
   ]
  },
  {
   "cell_type": "code",
   "execution_count": 5,
   "metadata": {},
   "outputs": [
    {
     "data": {
      "text/plain": [
       "20223614.184796963"
      ]
     },
     "execution_count": 5,
     "metadata": {},
     "output_type": "execute_result"
    }
   ],
   "source": [
    "train_df[train_df['TARGET']==1]['연간 수입'].std()"
   ]
  },
  {
   "cell_type": "code",
   "execution_count": 6,
   "metadata": {},
   "outputs": [
    {
     "data": {
      "text/plain": [
       "25202878.8918344"
      ]
     },
     "execution_count": 6,
     "metadata": {},
     "output_type": "execute_result"
    }
   ],
   "source": [
    "train_df[train_df['TARGET']==0]['연간 수입'].std()"
   ]
  },
  {
   "cell_type": "code",
   "execution_count": 7,
   "metadata": {},
   "outputs": [
    {
     "data": {
      "text/plain": [
       "Index(['ID', 'TARGET', '성별', '차량 소유 여부', '부동산 소유 여부', '자녀 수', '연간 수입', '수입 유형',\n",
       "       '최종 학력', '결혼 여부', '주거 형태', '거주지 인구 비율', '휴대전화 소유 여부', '업무용 휴대전화 소유 여부',\n",
       "       '이메일 소유 여부', '직업', '가족 구성원 수', '산업군', '나이', '근속연수', '가입연수'],\n",
       "      dtype='object')"
      ]
     },
     "execution_count": 7,
     "metadata": {},
     "output_type": "execute_result"
    }
   ],
   "source": [
    "# 컬럼 확인\n",
    "train_df.columns"
   ]
  },
  {
   "cell_type": "code",
   "execution_count": 8,
   "metadata": {},
   "outputs": [
    {
     "data": {
      "text/plain": [
       "Index(['ID', 'TARGET'], dtype='object')"
      ]
     },
     "execution_count": 8,
     "metadata": {},
     "output_type": "execute_result"
    }
   ],
   "source": [
    "subm_df.columns"
   ]
  },
  {
   "cell_type": "code",
   "execution_count": 9,
   "metadata": {},
   "outputs": [
    {
     "data": {
      "text/plain": [
       "ID                0\n",
       "TARGET            0\n",
       "성별                0\n",
       "차량 소유 여부          0\n",
       "부동산 소유 여부         0\n",
       "자녀 수              0\n",
       "연간 수입             0\n",
       "수입 유형             0\n",
       "최종 학력             0\n",
       "결혼 여부             0\n",
       "주거 형태             0\n",
       "거주지 인구 비율         0\n",
       "휴대전화 소유 여부        0\n",
       "업무용 휴대전화 소유 여부    0\n",
       "이메일 소유 여부         0\n",
       "직업                0\n",
       "가족 구성원 수          0\n",
       "산업군               0\n",
       "나이                0\n",
       "근속연수              0\n",
       "가입연수              0\n",
       "dtype: int64"
      ]
     },
     "execution_count": 9,
     "metadata": {},
     "output_type": "execute_result"
    }
   ],
   "source": [
    "# 결측치 여부 확인\n",
    "train_df.isna().sum() # 결측치 존재x"
   ]
  },
  {
   "cell_type": "code",
   "execution_count": 10,
   "metadata": {},
   "outputs": [
    {
     "data": {
      "text/plain": [
       "ID                0\n",
       "성별                0\n",
       "차량 소유 여부          0\n",
       "부동산 소유 여부         0\n",
       "자녀 수              0\n",
       "연간 수입             0\n",
       "수입 유형             0\n",
       "최종 학력             0\n",
       "결혼 여부             0\n",
       "주거 형태             0\n",
       "거주지 인구 비율         0\n",
       "휴대전화 소유 여부        0\n",
       "업무용 휴대전화 소유 여부    0\n",
       "이메일 소유 여부         0\n",
       "직업                0\n",
       "가족 구성원 수          0\n",
       "산업군               0\n",
       "나이                0\n",
       "근속연수              0\n",
       "가입연수              0\n",
       "dtype: int64"
      ]
     },
     "execution_count": 10,
     "metadata": {},
     "output_type": "execute_result"
    }
   ],
   "source": [
    "test_df.isna().sum() # 결측치 존재x"
   ]
  },
  {
   "cell_type": "code",
   "execution_count": 11,
   "metadata": {},
   "outputs": [
    {
     "data": {
      "text/plain": [
       "ID        0\n",
       "TARGET    0\n",
       "dtype: int64"
      ]
     },
     "execution_count": 11,
     "metadata": {},
     "output_type": "execute_result"
    }
   ],
   "source": [
    "subm_df.isna().sum()"
   ]
  },
  {
   "cell_type": "code",
   "execution_count": 12,
   "metadata": {},
   "outputs": [
    {
     "name": "stdout",
     "output_type": "stream",
     "text": [
      "<class 'pandas.core.frame.DataFrame'>\n",
      "RangeIndex: 60000 entries, 0 to 59999\n",
      "Data columns (total 21 columns):\n",
      " #   Column          Non-Null Count  Dtype  \n",
      "---  ------          --------------  -----  \n",
      " 0   ID              60000 non-null  object \n",
      " 1   TARGET          60000 non-null  int64  \n",
      " 2   성별              60000 non-null  object \n",
      " 3   차량 소유 여부        60000 non-null  int64  \n",
      " 4   부동산 소유 여부       60000 non-null  int64  \n",
      " 5   자녀 수            60000 non-null  int64  \n",
      " 6   연간 수입           60000 non-null  float64\n",
      " 7   수입 유형           60000 non-null  object \n",
      " 8   최종 학력           60000 non-null  object \n",
      " 9   결혼 여부           60000 non-null  object \n",
      " 10  주거 형태           60000 non-null  object \n",
      " 11  거주지 인구 비율       60000 non-null  float64\n",
      " 12  휴대전화 소유 여부      60000 non-null  int64  \n",
      " 13  업무용 휴대전화 소유 여부  60000 non-null  int64  \n",
      " 14  이메일 소유 여부       60000 non-null  int64  \n",
      " 15  직업              60000 non-null  object \n",
      " 16  가족 구성원 수        60000 non-null  float64\n",
      " 17  산업군             60000 non-null  object \n",
      " 18  나이              60000 non-null  int64  \n",
      " 19  근속연수            60000 non-null  int64  \n",
      " 20  가입연수            60000 non-null  float64\n",
      "dtypes: float64(4), int64(9), object(8)\n",
      "memory usage: 9.6+ MB\n"
     ]
    }
   ],
   "source": [
    "train_df.info()"
   ]
  },
  {
   "cell_type": "code",
   "execution_count": 13,
   "metadata": {},
   "outputs": [
    {
     "name": "stdout",
     "output_type": "stream",
     "text": [
      "<class 'pandas.core.frame.DataFrame'>\n",
      "RangeIndex: 40000 entries, 0 to 39999\n",
      "Data columns (total 20 columns):\n",
      " #   Column          Non-Null Count  Dtype  \n",
      "---  ------          --------------  -----  \n",
      " 0   ID              40000 non-null  object \n",
      " 1   성별              40000 non-null  object \n",
      " 2   차량 소유 여부        40000 non-null  int64  \n",
      " 3   부동산 소유 여부       40000 non-null  int64  \n",
      " 4   자녀 수            40000 non-null  int64  \n",
      " 5   연간 수입           40000 non-null  float64\n",
      " 6   수입 유형           40000 non-null  object \n",
      " 7   최종 학력           40000 non-null  object \n",
      " 8   결혼 여부           40000 non-null  object \n",
      " 9   주거 형태           40000 non-null  object \n",
      " 10  거주지 인구 비율       40000 non-null  float64\n",
      " 11  휴대전화 소유 여부      40000 non-null  int64  \n",
      " 12  업무용 휴대전화 소유 여부  40000 non-null  int64  \n",
      " 13  이메일 소유 여부       40000 non-null  int64  \n",
      " 14  직업              40000 non-null  object \n",
      " 15  가족 구성원 수        40000 non-null  float64\n",
      " 16  산업군             40000 non-null  object \n",
      " 17  나이              40000 non-null  int64  \n",
      " 18  근속연수            40000 non-null  int64  \n",
      " 19  가입연수            40000 non-null  float64\n",
      "dtypes: float64(4), int64(8), object(8)\n",
      "memory usage: 6.1+ MB\n"
     ]
    }
   ],
   "source": [
    "test_df.info()"
   ]
  },
  {
   "cell_type": "code",
   "execution_count": 14,
   "metadata": {},
   "outputs": [
    {
     "name": "stdout",
     "output_type": "stream",
     "text": [
      "<class 'pandas.core.frame.DataFrame'>\n",
      "RangeIndex: 40000 entries, 0 to 39999\n",
      "Data columns (total 2 columns):\n",
      " #   Column  Non-Null Count  Dtype \n",
      "---  ------  --------------  ----- \n",
      " 0   ID      40000 non-null  object\n",
      " 1   TARGET  40000 non-null  int64 \n",
      "dtypes: int64(1), object(1)\n",
      "memory usage: 625.1+ KB\n"
     ]
    }
   ],
   "source": [
    "subm_df.info()"
   ]
  },
  {
   "cell_type": "code",
   "execution_count": 15,
   "metadata": {},
   "outputs": [
    {
     "data": {
      "text/html": [
       "<div>\n",
       "<style scoped>\n",
       "    .dataframe tbody tr th:only-of-type {\n",
       "        vertical-align: middle;\n",
       "    }\n",
       "\n",
       "    .dataframe tbody tr th {\n",
       "        vertical-align: top;\n",
       "    }\n",
       "\n",
       "    .dataframe thead th {\n",
       "        text-align: right;\n",
       "    }\n",
       "</style>\n",
       "<table border=\"1\" class=\"dataframe\">\n",
       "  <thead>\n",
       "    <tr style=\"text-align: right;\">\n",
       "      <th></th>\n",
       "      <th>TARGET</th>\n",
       "      <th>차량 소유 여부</th>\n",
       "      <th>부동산 소유 여부</th>\n",
       "      <th>자녀 수</th>\n",
       "      <th>연간 수입</th>\n",
       "      <th>거주지 인구 비율</th>\n",
       "      <th>휴대전화 소유 여부</th>\n",
       "      <th>업무용 휴대전화 소유 여부</th>\n",
       "      <th>이메일 소유 여부</th>\n",
       "      <th>가족 구성원 수</th>\n",
       "      <th>나이</th>\n",
       "      <th>근속연수</th>\n",
       "      <th>가입연수</th>\n",
       "    </tr>\n",
       "  </thead>\n",
       "  <tbody>\n",
       "    <tr>\n",
       "      <th>count</th>\n",
       "      <td>60000.000000</td>\n",
       "      <td>60000.000000</td>\n",
       "      <td>60000.000000</td>\n",
       "      <td>60000.000000</td>\n",
       "      <td>6.000000e+04</td>\n",
       "      <td>60000.000000</td>\n",
       "      <td>60000.000000</td>\n",
       "      <td>60000.000000</td>\n",
       "      <td>60000.000000</td>\n",
       "      <td>60000.000000</td>\n",
       "      <td>60000.000000</td>\n",
       "      <td>60000.000000</td>\n",
       "      <td>60000.000000</td>\n",
       "    </tr>\n",
       "    <tr>\n",
       "      <th>mean</th>\n",
       "      <td>0.107133</td>\n",
       "      <td>0.337517</td>\n",
       "      <td>0.708633</td>\n",
       "      <td>0.412050</td>\n",
       "      <td>3.983699e+07</td>\n",
       "      <td>0.020880</td>\n",
       "      <td>0.999983</td>\n",
       "      <td>0.812033</td>\n",
       "      <td>0.056350</td>\n",
       "      <td>2.155767</td>\n",
       "      <td>44.021183</td>\n",
       "      <td>192.906833</td>\n",
       "      <td>13.271833</td>\n",
       "    </tr>\n",
       "    <tr>\n",
       "      <th>std</th>\n",
       "      <td>0.309285</td>\n",
       "      <td>0.472867</td>\n",
       "      <td>0.454396</td>\n",
       "      <td>0.723998</td>\n",
       "      <td>2.472331e+07</td>\n",
       "      <td>0.013850</td>\n",
       "      <td>0.004082</td>\n",
       "      <td>0.390689</td>\n",
       "      <td>0.230598</td>\n",
       "      <td>0.908213</td>\n",
       "      <td>11.852450</td>\n",
       "      <td>388.292796</td>\n",
       "      <td>9.727011</td>\n",
       "    </tr>\n",
       "    <tr>\n",
       "      <th>min</th>\n",
       "      <td>0.000000</td>\n",
       "      <td>0.000000</td>\n",
       "      <td>0.000000</td>\n",
       "      <td>0.000000</td>\n",
       "      <td>6.265800e+06</td>\n",
       "      <td>0.000533</td>\n",
       "      <td>0.000000</td>\n",
       "      <td>0.000000</td>\n",
       "      <td>0.000000</td>\n",
       "      <td>1.000000</td>\n",
       "      <td>21.000000</td>\n",
       "      <td>0.000000</td>\n",
       "      <td>0.000000</td>\n",
       "    </tr>\n",
       "    <tr>\n",
       "      <th>25%</th>\n",
       "      <td>0.000000</td>\n",
       "      <td>0.000000</td>\n",
       "      <td>0.000000</td>\n",
       "      <td>0.000000</td>\n",
       "      <td>2.655000e+07</td>\n",
       "      <td>0.010006</td>\n",
       "      <td>1.000000</td>\n",
       "      <td>1.000000</td>\n",
       "      <td>0.000000</td>\n",
       "      <td>2.000000</td>\n",
       "      <td>34.000000</td>\n",
       "      <td>2.000000</td>\n",
       "      <td>5.000000</td>\n",
       "    </tr>\n",
       "    <tr>\n",
       "      <th>50%</th>\n",
       "      <td>0.000000</td>\n",
       "      <td>0.000000</td>\n",
       "      <td>1.000000</td>\n",
       "      <td>0.000000</td>\n",
       "      <td>3.504600e+07</td>\n",
       "      <td>0.018850</td>\n",
       "      <td>1.000000</td>\n",
       "      <td>1.000000</td>\n",
       "      <td>0.000000</td>\n",
       "      <td>2.000000</td>\n",
       "      <td>43.000000</td>\n",
       "      <td>6.000000</td>\n",
       "      <td>12.000000</td>\n",
       "    </tr>\n",
       "    <tr>\n",
       "      <th>75%</th>\n",
       "      <td>0.000000</td>\n",
       "      <td>1.000000</td>\n",
       "      <td>1.000000</td>\n",
       "      <td>1.000000</td>\n",
       "      <td>4.779000e+07</td>\n",
       "      <td>0.028663</td>\n",
       "      <td>1.000000</td>\n",
       "      <td>1.000000</td>\n",
       "      <td>0.000000</td>\n",
       "      <td>3.000000</td>\n",
       "      <td>54.000000</td>\n",
       "      <td>16.000000</td>\n",
       "      <td>20.000000</td>\n",
       "    </tr>\n",
       "    <tr>\n",
       "      <th>max</th>\n",
       "      <td>1.000000</td>\n",
       "      <td>1.000000</td>\n",
       "      <td>1.000000</td>\n",
       "      <td>19.000000</td>\n",
       "      <td>2.124000e+09</td>\n",
       "      <td>0.072508</td>\n",
       "      <td>1.000000</td>\n",
       "      <td>1.000000</td>\n",
       "      <td>1.000000</td>\n",
       "      <td>20.000000</td>\n",
       "      <td>69.000000</td>\n",
       "      <td>1000.000000</td>\n",
       "      <td>58.000000</td>\n",
       "    </tr>\n",
       "  </tbody>\n",
       "</table>\n",
       "</div>"
      ],
      "text/plain": [
       "             TARGET      차량 소유 여부     부동산 소유 여부          자녀 수         연간 수입  \\\n",
       "count  60000.000000  60000.000000  60000.000000  60000.000000  6.000000e+04   \n",
       "mean       0.107133      0.337517      0.708633      0.412050  3.983699e+07   \n",
       "std        0.309285      0.472867      0.454396      0.723998  2.472331e+07   \n",
       "min        0.000000      0.000000      0.000000      0.000000  6.265800e+06   \n",
       "25%        0.000000      0.000000      0.000000      0.000000  2.655000e+07   \n",
       "50%        0.000000      0.000000      1.000000      0.000000  3.504600e+07   \n",
       "75%        0.000000      1.000000      1.000000      1.000000  4.779000e+07   \n",
       "max        1.000000      1.000000      1.000000     19.000000  2.124000e+09   \n",
       "\n",
       "          거주지 인구 비율    휴대전화 소유 여부  업무용 휴대전화 소유 여부     이메일 소유 여부      가족 구성원 수  \\\n",
       "count  60000.000000  60000.000000    60000.000000  60000.000000  60000.000000   \n",
       "mean       0.020880      0.999983        0.812033      0.056350      2.155767   \n",
       "std        0.013850      0.004082        0.390689      0.230598      0.908213   \n",
       "min        0.000533      0.000000        0.000000      0.000000      1.000000   \n",
       "25%        0.010006      1.000000        1.000000      0.000000      2.000000   \n",
       "50%        0.018850      1.000000        1.000000      0.000000      2.000000   \n",
       "75%        0.028663      1.000000        1.000000      0.000000      3.000000   \n",
       "max        0.072508      1.000000        1.000000      1.000000     20.000000   \n",
       "\n",
       "                 나이          근속연수          가입연수  \n",
       "count  60000.000000  60000.000000  60000.000000  \n",
       "mean      44.021183    192.906833     13.271833  \n",
       "std       11.852450    388.292796      9.727011  \n",
       "min       21.000000      0.000000      0.000000  \n",
       "25%       34.000000      2.000000      5.000000  \n",
       "50%       43.000000      6.000000     12.000000  \n",
       "75%       54.000000     16.000000     20.000000  \n",
       "max       69.000000   1000.000000     58.000000  "
      ]
     },
     "execution_count": 15,
     "metadata": {},
     "output_type": "execute_result"
    }
   ],
   "source": [
    "train_df.describe()"
   ]
  },
  {
   "cell_type": "code",
   "execution_count": 16,
   "metadata": {},
   "outputs": [
    {
     "data": {
      "text/html": [
       "<div>\n",
       "<style scoped>\n",
       "    .dataframe tbody tr th:only-of-type {\n",
       "        vertical-align: middle;\n",
       "    }\n",
       "\n",
       "    .dataframe tbody tr th {\n",
       "        vertical-align: top;\n",
       "    }\n",
       "\n",
       "    .dataframe thead th {\n",
       "        text-align: right;\n",
       "    }\n",
       "</style>\n",
       "<table border=\"1\" class=\"dataframe\">\n",
       "  <thead>\n",
       "    <tr style=\"text-align: right;\">\n",
       "      <th></th>\n",
       "      <th>차량 소유 여부</th>\n",
       "      <th>부동산 소유 여부</th>\n",
       "      <th>자녀 수</th>\n",
       "      <th>연간 수입</th>\n",
       "      <th>거주지 인구 비율</th>\n",
       "      <th>휴대전화 소유 여부</th>\n",
       "      <th>업무용 휴대전화 소유 여부</th>\n",
       "      <th>이메일 소유 여부</th>\n",
       "      <th>가족 구성원 수</th>\n",
       "      <th>나이</th>\n",
       "      <th>근속연수</th>\n",
       "      <th>가입연수</th>\n",
       "    </tr>\n",
       "  </thead>\n",
       "  <tbody>\n",
       "    <tr>\n",
       "      <th>count</th>\n",
       "      <td>40000.000000</td>\n",
       "      <td>40000.000000</td>\n",
       "      <td>40000.000000</td>\n",
       "      <td>4.000000e+04</td>\n",
       "      <td>40000.000000</td>\n",
       "      <td>40000.0</td>\n",
       "      <td>40000.000000</td>\n",
       "      <td>40000.000000</td>\n",
       "      <td>40000.000000</td>\n",
       "      <td>40000.000000</td>\n",
       "      <td>40000.000000</td>\n",
       "      <td>40000.000000</td>\n",
       "    </tr>\n",
       "    <tr>\n",
       "      <th>mean</th>\n",
       "      <td>0.339175</td>\n",
       "      <td>0.709175</td>\n",
       "      <td>0.414875</td>\n",
       "      <td>3.975255e+07</td>\n",
       "      <td>0.020815</td>\n",
       "      <td>1.0</td>\n",
       "      <td>0.813400</td>\n",
       "      <td>0.055500</td>\n",
       "      <td>2.162175</td>\n",
       "      <td>43.957575</td>\n",
       "      <td>191.501825</td>\n",
       "      <td>13.278750</td>\n",
       "    </tr>\n",
       "    <tr>\n",
       "      <th>std</th>\n",
       "      <td>0.473435</td>\n",
       "      <td>0.454149</td>\n",
       "      <td>0.717472</td>\n",
       "      <td>2.301272e+07</td>\n",
       "      <td>0.013735</td>\n",
       "      <td>0.0</td>\n",
       "      <td>0.389595</td>\n",
       "      <td>0.228956</td>\n",
       "      <td>0.901413</td>\n",
       "      <td>11.798254</td>\n",
       "      <td>387.289855</td>\n",
       "      <td>9.759195</td>\n",
       "    </tr>\n",
       "    <tr>\n",
       "      <th>min</th>\n",
       "      <td>0.000000</td>\n",
       "      <td>0.000000</td>\n",
       "      <td>0.000000</td>\n",
       "      <td>6.265800e+06</td>\n",
       "      <td>0.000533</td>\n",
       "      <td>1.0</td>\n",
       "      <td>0.000000</td>\n",
       "      <td>0.000000</td>\n",
       "      <td>1.000000</td>\n",
       "      <td>21.000000</td>\n",
       "      <td>0.000000</td>\n",
       "      <td>0.000000</td>\n",
       "    </tr>\n",
       "    <tr>\n",
       "      <th>25%</th>\n",
       "      <td>0.000000</td>\n",
       "      <td>0.000000</td>\n",
       "      <td>0.000000</td>\n",
       "      <td>2.655000e+07</td>\n",
       "      <td>0.010006</td>\n",
       "      <td>1.0</td>\n",
       "      <td>1.000000</td>\n",
       "      <td>0.000000</td>\n",
       "      <td>2.000000</td>\n",
       "      <td>34.000000</td>\n",
       "      <td>2.000000</td>\n",
       "      <td>5.000000</td>\n",
       "    </tr>\n",
       "    <tr>\n",
       "      <th>50%</th>\n",
       "      <td>0.000000</td>\n",
       "      <td>1.000000</td>\n",
       "      <td>0.000000</td>\n",
       "      <td>3.504600e+07</td>\n",
       "      <td>0.018850</td>\n",
       "      <td>1.0</td>\n",
       "      <td>1.000000</td>\n",
       "      <td>0.000000</td>\n",
       "      <td>2.000000</td>\n",
       "      <td>43.000000</td>\n",
       "      <td>6.000000</td>\n",
       "      <td>12.000000</td>\n",
       "    </tr>\n",
       "    <tr>\n",
       "      <th>75%</th>\n",
       "      <td>1.000000</td>\n",
       "      <td>1.000000</td>\n",
       "      <td>1.000000</td>\n",
       "      <td>4.779000e+07</td>\n",
       "      <td>0.028663</td>\n",
       "      <td>1.0</td>\n",
       "      <td>1.000000</td>\n",
       "      <td>0.000000</td>\n",
       "      <td>3.000000</td>\n",
       "      <td>54.000000</td>\n",
       "      <td>16.000000</td>\n",
       "      <td>20.000000</td>\n",
       "    </tr>\n",
       "    <tr>\n",
       "      <th>max</th>\n",
       "      <td>1.000000</td>\n",
       "      <td>1.000000</td>\n",
       "      <td>6.000000</td>\n",
       "      <td>7.965000e+08</td>\n",
       "      <td>0.072508</td>\n",
       "      <td>1.0</td>\n",
       "      <td>1.000000</td>\n",
       "      <td>1.000000</td>\n",
       "      <td>8.000000</td>\n",
       "      <td>69.000000</td>\n",
       "      <td>1000.000000</td>\n",
       "      <td>59.000000</td>\n",
       "    </tr>\n",
       "  </tbody>\n",
       "</table>\n",
       "</div>"
      ],
      "text/plain": [
       "           차량 소유 여부     부동산 소유 여부          자녀 수         연간 수입     거주지 인구 비율  \\\n",
       "count  40000.000000  40000.000000  40000.000000  4.000000e+04  40000.000000   \n",
       "mean       0.339175      0.709175      0.414875  3.975255e+07      0.020815   \n",
       "std        0.473435      0.454149      0.717472  2.301272e+07      0.013735   \n",
       "min        0.000000      0.000000      0.000000  6.265800e+06      0.000533   \n",
       "25%        0.000000      0.000000      0.000000  2.655000e+07      0.010006   \n",
       "50%        0.000000      1.000000      0.000000  3.504600e+07      0.018850   \n",
       "75%        1.000000      1.000000      1.000000  4.779000e+07      0.028663   \n",
       "max        1.000000      1.000000      6.000000  7.965000e+08      0.072508   \n",
       "\n",
       "       휴대전화 소유 여부  업무용 휴대전화 소유 여부     이메일 소유 여부      가족 구성원 수            나이  \\\n",
       "count     40000.0    40000.000000  40000.000000  40000.000000  40000.000000   \n",
       "mean          1.0        0.813400      0.055500      2.162175     43.957575   \n",
       "std           0.0        0.389595      0.228956      0.901413     11.798254   \n",
       "min           1.0        0.000000      0.000000      1.000000     21.000000   \n",
       "25%           1.0        1.000000      0.000000      2.000000     34.000000   \n",
       "50%           1.0        1.000000      0.000000      2.000000     43.000000   \n",
       "75%           1.0        1.000000      0.000000      3.000000     54.000000   \n",
       "max           1.0        1.000000      1.000000      8.000000     69.000000   \n",
       "\n",
       "               근속연수          가입연수  \n",
       "count  40000.000000  40000.000000  \n",
       "mean     191.501825     13.278750  \n",
       "std      387.289855      9.759195  \n",
       "min        0.000000      0.000000  \n",
       "25%        2.000000      5.000000  \n",
       "50%        6.000000     12.000000  \n",
       "75%       16.000000     20.000000  \n",
       "max     1000.000000     59.000000  "
      ]
     },
     "execution_count": 16,
     "metadata": {},
     "output_type": "execute_result"
    }
   ],
   "source": [
    "test_df.describe()"
   ]
  },
  {
   "cell_type": "markdown",
   "metadata": {},
   "source": [
    "### TARGET\n",
    "- TARGET 값이 1이면 연체\n",
    "- TARGET 값이 0이면 연체하지 않음"
   ]
  },
  {
   "cell_type": "code",
   "execution_count": 17,
   "metadata": {},
   "outputs": [
    {
     "data": {
      "text/plain": [
       "TARGET\n",
       "0    53572\n",
       "1     6428\n",
       "Name: count, dtype: int64"
      ]
     },
     "execution_count": 17,
     "metadata": {},
     "output_type": "execute_result"
    }
   ],
   "source": [
    "# TARGET\n",
    "train_df['TARGET'].value_counts()"
   ]
  },
  {
   "cell_type": "code",
   "execution_count": 18,
   "metadata": {},
   "outputs": [
    {
     "data": {
      "text/plain": [
       "TARGET\n",
       "0    0.892867\n",
       "1    0.107133\n",
       "Name: proportion, dtype: float64"
      ]
     },
     "execution_count": 18,
     "metadata": {},
     "output_type": "execute_result"
    }
   ],
   "source": [
    "# TARGET 데이터 비율 확인\n",
    "train_df['TARGET'].value_counts(normalize=True)"
   ]
  },
  {
   "cell_type": "code",
   "execution_count": 19,
   "metadata": {},
   "outputs": [
    {
     "data": {
      "image/png": "[encoded data removed]",
      "text/plain": [
       "<Figure size 500x500 with 1 Axes>"
      ]
     },
     "metadata": {},
     "output_type": "display_data"
    }
   ],
   "source": [
    "# 한글 폰트\n",
    "plt.rcParams['font.family'] = 'Malgun Gothic'\n",
    "\n",
    "plt.subplots(figsize = (5,5)) # 그림 크기 설정\n",
    "\n",
    "sns.histplot(train_df, x='TARGET')\n",
    "plt.title('신용카드 연체 여부 비율')\n",
    "plt.show()"
   ]
  },
  {
   "cell_type": "code",
   "execution_count": 20,
   "metadata": {},
   "outputs": [
    {
     "data": {
      "text/plain": [
       "0        기타 1\n",
       "1        사업 1\n",
       "2        사업 0\n",
       "3        산업 4\n",
       "4        사업 2\n",
       "         ... \n",
       "59995    기타 1\n",
       "59996     자영업\n",
       "59997      은행\n",
       "59998     우체부\n",
       "59999      경찰\n",
       "Name: 산업군, Length: 60000, dtype: object"
      ]
     },
     "execution_count": 20,
     "metadata": {},
     "output_type": "execute_result"
    }
   ],
   "source": [
    "train_df['산업군']"
   ]
  }
 ],
 "metadata": {
  "kernelspec": {
   "display_name": "Python 3",
   "language": "python",
   "name": "python3"
  },
  "language_info": {
   "codemirror_mode": {
    "name": "ipython",
    "version": 3
   },
   "file_extension": ".py",
   "mimetype": "text/x-python",
   "name": "python",
   "nbconvert_exporter": "python",
   "pygments_lexer": "ipython3",
   "version": "3.12.0"
  }
 },
 "nbformat": 4,
 "nbformat_minor": 2
}
