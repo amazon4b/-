{
 "cells": [
  {
   "cell_type": "markdown",
   "id": "4a1177aa",
   "metadata": {},
   "source": [
    "### 언더샘플링_임계값 조정"
   ]
  },
  {
   "cell_type": "code",
   "execution_count": 115,
   "id": "b60a9cce-009b-4c16-b31b-adf6be11bef0",
   "metadata": {
    "scrolled": true
   },
   "outputs": [],
   "source": [
    "import pandas as pd\n",
    "import numpy as np\n",
    "import matplotlib.pyplot as plt\n",
    "\n",
    "import warnings\n",
    "warnings.filterwarnings('ignore')\n",
    "\n",
    "from sklearn.model_selection import train_test_split\n",
    "from sklearn.metrics import accuracy_score, precision_score, recall_score, confusion_matrix, f1_score, roc_auc_score\n",
    "\n",
    "from sklearn.preprocessing import StandardScaler\n",
    "from sklearn.metrics import classification_report\n",
    "from sklearn.model_selection import GridSearchCV\n",
    "\n",
    "from sklearn.tree import DecisionTreeClassifier\n",
    "from sklearn.ensemble import RandomForestClassifier\n",
    "from sklearn.linear_model import LogisticRegression\n",
    "import sklearn.svm as svm\n",
    "from sklearn.neighbors import KNeighborsClassifier\n",
    "from sklearn import metrics \n",
    "from sklearn.preprocessing import Binarizer\n",
    "from sklearn.model_selection import cross_val_score, cross_validate\n",
    "from lightgbm import LGBMClassifier\n",
    "import xgboost as xgb\n",
    "from xgboost import plot_importance\n",
    "from xgboost import XGBClassifier\n",
    "\n",
    "#추가\n",
    "from sklearn.metrics import f1_score, roc_auc_score, average_precision_score, fbeta_score\n"
   ]
  },
  {
   "cell_type": "code",
   "execution_count": 116,
   "id": "d8df1518",
   "metadata": {},
   "outputs": [],
   "source": [
    "def get_clf_eval(y_test, y_pred=None, pred_proba=None):\n",
    "    confusion = confusion_matrix(y_test, y_pred)\n",
    "    accuracy = accuracy_score(y_test, y_pred)\n",
    "    precision = precision_score(y_test, y_pred)\n",
    "    recall = recall_score(y_test, y_pred)\n",
    "    F1 = f1_score(y_test, y_pred)\n",
    "    AUC = roc_auc_score(y_test,pred_proba)\n",
    "    \n",
    "# 아래 추가함 (pr_score, f2 score, gmean)\n",
    "# pr_score : 모델이 양성 클래스를 얼마나 정확하게 찾아내는지에 대한 정보를 제공(클래스 불균형이 존재할 때 유용)\n",
    "# fbeta_score : 정밀도(Precision)와 재현율(Recall)의 조화 평균을 계산하는 지표.재현율에 더 큰 가중치를 두는데, 이는 False Negatives를 최소화하는 데 중점\n",
    "# G-Mean : Sensitivity와 Specificity의 조화 평균. 클래스 간의 불균형을 고려하여 모델의 성능을 측정하며, 특히 Positive 클래스의 예측 성능이 중요한 경우에 유용\n",
    "    confusion = confusion_matrix(y_test, y_pred)\n",
    "    pr_score = average_precision_score(y_test, y_pred)\n",
    "    f2 = fbeta_score(y_test, y_pred, beta=2)\n",
    "\n",
    "    # G-mean 계산\n",
    "    tn, fp, fn, tp = confusion_matrix(y_test, y_pred).ravel()\n",
    "    tpr = tp / (tp + fn)  # True Positive Rate\n",
    "    tnr = tn / (tn + fp)  # True Negative Rate\n",
    "    gmean = np.sqrt(tpr * tnr)\n",
    "\n",
    "    print('오차행렬:\\n', confusion)\n",
    "    print('\\n정확도: {:.4f}'.format(accuracy))\n",
    "    print('정밀도: {:.4f}'.format(precision))\n",
    "    print('재현율: {:.4f}'.format(recall))\n",
    "    print('F1: {:.4f}'.format(F1))\n",
    "    print('AUC: {:.4f}'.format(AUC))\n",
    "    print('Fbeta :{:.4f}'.format(f2))\n",
    "    print('평균 정밀도 : {:.4f}'.format(pr_score))\n",
    "    print('gmean : {:.4f}'.format(gmean))"
   ]
  },
  {
   "cell_type": "code",
   "execution_count": 117,
   "id": "2d612f8d-efbc-4cfc-951d-640993de8efb",
   "metadata": {},
   "outputs": [
    {
     "data": {
      "text/html": [
       "<div>\n",
       "<style scoped>\n",
       "    .dataframe tbody tr th:only-of-type {\n",
       "        vertical-align: middle;\n",
       "    }\n",
       "\n",
       "    .dataframe tbody tr th {\n",
       "        vertical-align: top;\n",
       "    }\n",
       "\n",
       "    .dataframe thead th {\n",
       "        text-align: right;\n",
       "    }\n",
       "</style>\n",
       "<table border=\"1\" class=\"dataframe\">\n",
       "  <thead>\n",
       "    <tr style=\"text-align: right;\">\n",
       "      <th></th>\n",
       "      <th>TARGET</th>\n",
       "      <th>자녀 수</th>\n",
       "      <th>가족 구성원 수</th>\n",
       "      <th>나이</th>\n",
       "      <th>가입연수</th>\n",
       "      <th>월간 수입</th>\n",
       "      <th>성별</th>\n",
       "      <th>차량 소유 여부</th>\n",
       "      <th>부동산 소유 여부</th>\n",
       "      <th>수입 유형</th>\n",
       "      <th>...</th>\n",
       "      <th>도시구분</th>\n",
       "      <th>home_shape</th>\n",
       "      <th>car_home</th>\n",
       "      <th>가족크기범주</th>\n",
       "      <th>combinedFY</th>\n",
       "      <th>cons_low</th>\n",
       "      <th>cons_lab</th>\n",
       "      <th>bus_low</th>\n",
       "      <th>bus_drv</th>\n",
       "      <th>bus_lab</th>\n",
       "    </tr>\n",
       "  </thead>\n",
       "  <tbody>\n",
       "    <tr>\n",
       "      <th>0</th>\n",
       "      <td>0</td>\n",
       "      <td>2</td>\n",
       "      <td>4.0</td>\n",
       "      <td>39</td>\n",
       "      <td>23.0</td>\n",
       "      <td>1504500.0</td>\n",
       "      <td>1</td>\n",
       "      <td>1</td>\n",
       "      <td>1</td>\n",
       "      <td>3</td>\n",
       "      <td>...</td>\n",
       "      <td>1</td>\n",
       "      <td>7</td>\n",
       "      <td>3</td>\n",
       "      <td>1</td>\n",
       "      <td>0</td>\n",
       "      <td>0</td>\n",
       "      <td>0</td>\n",
       "      <td>0</td>\n",
       "      <td>0</td>\n",
       "      <td>0</td>\n",
       "    </tr>\n",
       "    <tr>\n",
       "      <th>1</th>\n",
       "      <td>0</td>\n",
       "      <td>0</td>\n",
       "      <td>2.0</td>\n",
       "      <td>45</td>\n",
       "      <td>16.0</td>\n",
       "      <td>4956000.0</td>\n",
       "      <td>0</td>\n",
       "      <td>1</td>\n",
       "      <td>0</td>\n",
       "      <td>1</td>\n",
       "      <td>...</td>\n",
       "      <td>2</td>\n",
       "      <td>3</td>\n",
       "      <td>2</td>\n",
       "      <td>0</td>\n",
       "      <td>0</td>\n",
       "      <td>0</td>\n",
       "      <td>0</td>\n",
       "      <td>0</td>\n",
       "      <td>0</td>\n",
       "      <td>0</td>\n",
       "    </tr>\n",
       "    <tr>\n",
       "      <th>2</th>\n",
       "      <td>0</td>\n",
       "      <td>0</td>\n",
       "      <td>2.0</td>\n",
       "      <td>32</td>\n",
       "      <td>9.0</td>\n",
       "      <td>2478000.0</td>\n",
       "      <td>1</td>\n",
       "      <td>0</td>\n",
       "      <td>1</td>\n",
       "      <td>1</td>\n",
       "      <td>...</td>\n",
       "      <td>2</td>\n",
       "      <td>7</td>\n",
       "      <td>1</td>\n",
       "      <td>0</td>\n",
       "      <td>0</td>\n",
       "      <td>0</td>\n",
       "      <td>0</td>\n",
       "      <td>0</td>\n",
       "      <td>0</td>\n",
       "      <td>0</td>\n",
       "    </tr>\n",
       "  </tbody>\n",
       "</table>\n",
       "<p>3 rows × 27 columns</p>\n",
       "</div>"
      ],
      "text/plain": [
       "   TARGET  자녀 수  가족 구성원 수  나이  가입연수      월간 수입  성별  차량 소유 여부  부동산 소유 여부  \\\n",
       "0       0     2       4.0  39  23.0  1504500.0   1         1          1   \n",
       "1       0     0       2.0  45  16.0  4956000.0   0         1          0   \n",
       "2       0     0       2.0  32   9.0  2478000.0   1         0          1   \n",
       "\n",
       "   수입 유형  ...  도시구분  home_shape  car_home  가족크기범주  combinedFY  cons_low  \\\n",
       "0      3  ...     1           7         3       1           0         0   \n",
       "1      1  ...     2           3         2       0           0         0   \n",
       "2      1  ...     2           7         1       0           0         0   \n",
       "\n",
       "   cons_lab  bus_low  bus_drv  bus_lab  \n",
       "0         0        0        0        0  \n",
       "1         0        0        0        0  \n",
       "2         0        0        0        0  \n",
       "\n",
       "[3 rows x 27 columns]"
      ]
     },
     "execution_count": 117,
     "metadata": {},
     "output_type": "execute_result"
    }
   ],
   "source": [
    "# dataset 작업요\n",
    "df = pd.read_csv('./final_datasets.csv', index_col=0)\n",
    "df.head(3)"
   ]
  },
  {
   "cell_type": "code",
   "execution_count": null,
   "id": "de6b33c1",
   "metadata": {},
   "outputs": [],
   "source": [
    "df.info()"
   ]
  },
  {
   "cell_type": "code",
   "execution_count": null,
   "id": "d272648d",
   "metadata": {},
   "outputs": [],
   "source": [
    "df.columns"
   ]
  },
  {
   "cell_type": "code",
   "execution_count": null,
   "id": "3db3613d",
   "metadata": {},
   "outputs": [],
   "source": [
    "df['TARGET'].value_counts()"
   ]
  },
  {
   "cell_type": "code",
   "execution_count": 118,
   "id": "50347006-7b94-4e16-9130-57c5b0f188bb",
   "metadata": {},
   "outputs": [],
   "source": [
    "# feature와 label 분리\n",
    "feature = df.drop('TARGET', axis=1)\n",
    "label = df['TARGET']"
   ]
  },
  {
   "cell_type": "code",
   "execution_count": 119,
   "id": "80560943",
   "metadata": {},
   "outputs": [],
   "source": [
    "# train test 분리\n",
    "X_train_old, X_test, y_train_old , y_test = train_test_split(feature, label, test_size=0.3 , random_state=42)"
   ]
  },
  {
   "cell_type": "code",
   "execution_count": 120,
   "id": "8d9adf12",
   "metadata": {},
   "outputs": [
    {
     "data": {
      "text/plain": [
       "TARGET\n",
       "0    37484\n",
       "1     4507\n",
       "Name: count, dtype: int64"
      ]
     },
     "execution_count": 120,
     "metadata": {},
     "output_type": "execute_result"
    }
   ],
   "source": [
    "y_train_old.value_counts()"
   ]
  },
  {
   "cell_type": "code",
   "execution_count": 121,
   "id": "c05b7d51",
   "metadata": {},
   "outputs": [],
   "source": [
    "# 언더샘플링 - 소수라벨과 다수라벨 비율 1:1\n",
    "\n",
    "from imblearn.under_sampling import RandomUnderSampler\n",
    "undersample = RandomUnderSampler(sampling_strategy='majority',random_state=42)\n",
    "X_train, y_train = undersample.fit_resample(X_train_old, y_train_old)"
   ]
  },
  {
   "cell_type": "code",
   "execution_count": null,
   "id": "ecd5ade8",
   "metadata": {},
   "outputs": [],
   "source": [
    "# 오버샘플링 - 소수라벨과 다수라벨 비율 1:1 / 오버 샘플링이 좋음 투터님 피셜\n",
    "\n",
    "from imblearn.over_sampling import RandomOverSampler\n",
    "oversample = RandomOverSampler(sampling_strategy='minority')\n",
    "X_train, y_train = oversample.fit_resample(X_train_old, y_train_old)"
   ]
  },
  {
   "cell_type": "code",
   "execution_count": null,
   "id": "196061cb",
   "metadata": {},
   "outputs": [],
   "source": [
    "# # SMOTE\n",
    "\n",
    "# from imblearn.over_sampling import SMOTE\n",
    "# smote_sample = SMOTE(sampling_strategy='minority') \n",
    "# X_train, y_train = smote_sample.fit_resample(X_train_old, y_train_old)"
   ]
  },
  {
   "cell_type": "code",
   "execution_count": null,
   "id": "ddc20ab9",
   "metadata": {},
   "outputs": [],
   "source": [
    "from sklearn.utils.class_weight import compute_class_weight\n",
    "\n",
    "# 클래스 불균형 계산\n",
    "class_weights = compute_class_weight('balanced', classes=np.unique(y_train), y=y_train)\n",
    "\n",
    "# 클래스 가중치를 딕셔너리로 변환\n",
    "class_weight_dict = {cls: weight for cls, weight in zip(np.unique(y_train), class_weights)}\n",
    "# # 타겟 클래스에 대한 가중치 설정\n",
    "# class_weights = {0: 1, 1: 1.3}  # 예시로 클래스 1에 더 큰 가중치를 줌\n",
    "\n",
    "# # RandomForestClassifier 모델 생성 시 class_weight 파라미터 설정\n",
    "# model = RandomForestClassifier(class_weight=class_weights)\n",
    "\n",
    "# # 모델 학습\n",
    "# model.fit(X_train, y_train)\n",
    "\n",
    "# # 테스트 데이터로 예측\n",
    "# y_pred = model.predict(X_test)\n",
    "\n",
    "# # 혼동 행렬 및 분류 보고서 출력\n",
    "# print(\"Confusion Matrix:\")\n",
    "# print(confusion_matrix(y_test, y_pred))\n",
    "\n",
    "# print(\"\\nClassification Report:\")\n",
    "# print(classification_report(y_test, y_pred))"
   ]
  },
  {
   "cell_type": "code",
   "execution_count": null,
   "id": "0a4bd210",
   "metadata": {},
   "outputs": [],
   "source": [
    "y_train.value_counts()"
   ]
  },
  {
   "cell_type": "code",
   "execution_count": 122,
   "id": "c8389dbd",
   "metadata": {},
   "outputs": [
    {
     "name": "stdout",
     "output_type": "stream",
     "text": [
      "0.514421641572838\n"
     ]
    }
   ],
   "source": [
    "# 1. Decision Tree를 이용한 학습\n",
    "\n",
    "dt = DecisionTreeClassifier(random_state=43)\n",
    "\n",
    "# 교차검증을 통한 과적합 or 과소적합 여부 확인\n",
    "cross_val = cross_val_score(dt , X_train , y=y_train ,cv=5, scoring='accuracy')\n",
    "print(np.mean(cross_val))"
   ]
  },
  {
   "cell_type": "code",
   "execution_count": 123,
   "id": "f12e6fd1",
   "metadata": {},
   "outputs": [
    {
     "name": "stdout",
     "output_type": "stream",
     "text": [
      "최적 하이퍼 파라미터: {'max_depth': 4, 'min_samples_split': 3}\n",
      "최고 예측 정확도: 0.5924\n"
     ]
    }
   ],
   "source": [
    "# GridSearchCV를 적용해 Decision Tree의 교차검증 및 하이퍼파라미터 튜닝\n",
    "\n",
    "parameters = {'max_depth' : [2, 3, 4, 5],\n",
    "             'min_samples_split' : [1, 3, 5, 7, 9]}\n",
    "\n",
    "grid_dt = GridSearchCV(dt, param_grid = parameters, cv=3, refit=True)\n",
    "grid_dt.fit(X_train, y_train)\n",
    "\n",
    "dt = grid_dt.best_estimator_\n",
    "\n",
    "print(f\"최적 하이퍼 파라미터: {grid_dt.best_params_}\")\n",
    "print(f\"최고 예측 정확도: {grid_dt.best_score_:.4f}\")"
   ]
  },
  {
   "cell_type": "code",
   "execution_count": 133,
   "id": "1f671599",
   "metadata": {},
   "outputs": [
    {
     "name": "stdout",
     "output_type": "stream",
     "text": [
      "오차행렬:\n",
      " [[ 4706 11371]\n",
      " [  337  1583]]\n",
      "\n",
      "정확도: 0.3494\n",
      "정밀도: 0.1222\n",
      "재현율: 0.8245\n",
      "F1: 0.2129\n",
      "AUC: 0.6145\n",
      "Fbeta :0.3836\n",
      "평균 정밀도 : 0.1195\n",
      "gmean : 0.4913\n",
      "[[10477  5600]\n",
      " [  888  1032]]\n"
     ]
    }
   ],
   "source": [
    "# 임곗값 조정을 통한 recall값 향상\n",
    "dt.fit(X_train, y_train)\n",
    "pred = dt.predict(X_test)\n",
    "pred_proba = dt.predict_proba(X_test)[:, 1].reshape(-1, 1)\n",
    "\n",
    "binarizer = Binarizer(threshold=0.4).fit(pred_proba)\n",
    "custom_pred = binarizer.transform(pred_proba)\n",
    "\n",
    "get_clf_eval(y_test, custom_pred, pred_proba)\n",
    "print(confusion_matrix(y_test, pred))"
   ]
  },
  {
   "cell_type": "code",
   "execution_count": 134,
   "id": "71a0c33d",
   "metadata": {},
   "outputs": [
    {
     "name": "stdout",
     "output_type": "stream",
     "text": [
      "자녀 수: 0.0\n",
      "가족 구성원 수: 0.0\n",
      "나이: 0.2947634142948027\n",
      "가입연수: 0.08610338123023548\n",
      "월간 수입: 0.039962578223135516\n",
      "성별: 0.1622770809725894\n",
      "차량 소유 여부: 0.0\n",
      "부동산 소유 여부: 0.0\n",
      "수입 유형: 0.0\n",
      "최종 학력: 0.28471456014147767\n",
      "결혼 여부: 0.0\n",
      "주거 형태: 0.0\n",
      "휴대전화 소유 여부: 0.0\n",
      "이메일 소유 여부: 0.0\n",
      "직업: 0.03274418528028609\n",
      "산업군: 0.0\n",
      "도시구분: 0.0\n",
      "home_shape: 0.027053726818775672\n",
      "car_home: 0.07238107303869758\n",
      "가족크기범주: 0.0\n",
      "combinedFY: 0.0\n",
      "cons_low: 0.0\n",
      "cons_lab: 0.0\n",
      "bus_low: 0.0\n",
      "bus_drv: 0.0\n",
      "bus_lab: 0.0\n"
     ]
    }
   ],
   "source": [
    "# 트리 기반 모델의 특성 중요도 확인\n",
    "for feature, importance in zip(X_train.columns, dt.feature_importances_):\n",
    "    print(f\"{feature}: {importance}\")\n",
    "# 0에 가까울수록 중요도 낮고, 0.4나 0.5 정도가 중요도 높다할 수 있음"
   ]
  },
  {
   "cell_type": "code",
   "execution_count": 135,
   "id": "10bcfaac-ce4a-4fb3-9d05-9b3289780eb6",
   "metadata": {},
   "outputs": [
    {
     "name": "stdout",
     "output_type": "stream",
     "text": [
      "0.5680047374489305\n"
     ]
    }
   ],
   "source": [
    "# 2. RandomForest를 이용한 학습\n",
    "\n",
    "rf = RandomForestClassifier(random_state=43)\n",
    "\n",
    "cross_val = cross_val_score(rf , X_train , y=y_train ,cv=5, scoring='accuracy')\n",
    "print(np.mean(cross_val))\n"
   ]
  },
  {
   "cell_type": "code",
   "execution_count": 136,
   "id": "c7650271",
   "metadata": {},
   "outputs": [
    {
     "name": "stdout",
     "output_type": "stream",
     "text": [
      "최적 하이퍼 파라미터: {'max_depth': 6, 'min_samples_split': 16}\n",
      "최고 예측 정확도: 0.5988\n"
     ]
    }
   ],
   "source": [
    "# 하이퍼파라미터 조정\n",
    "\n",
    "parameters = {\n",
    "    'max_depth' : [6, 8, 12],\n",
    "    'min_samples_split' : [16, 24]\n",
    "}\n",
    "\n",
    "grid_rf = GridSearchCV(rf, param_grid = parameters, cv=3, refit=True)\n",
    "grid_rf.fit(X_train, y_train)\n",
    "\n",
    "rf = grid_rf.best_estimator_\n",
    "\n",
    "print(f\"최적 하이퍼 파라미터: {grid_rf.best_params_}\")\n",
    "print(f\"최고 예측 정확도: {grid_rf.best_score_:.4f}\")"
   ]
  },
  {
   "cell_type": "code",
   "execution_count": 137,
   "id": "8a388b07",
   "metadata": {},
   "outputs": [
    {
     "name": "stdout",
     "output_type": "stream",
     "text": [
      "오차행렬:\n",
      " [[6222 9855]\n",
      " [ 435 1485]]\n",
      "\n",
      "정확도: 0.4282\n",
      "정밀도: 0.1310\n",
      "재현율: 0.7734\n",
      "F1: 0.2240\n",
      "AUC: 0.6352\n",
      "Fbeta :0.3904\n",
      "평균 정밀도 : 0.1255\n",
      "gmean : 0.5471\n"
     ]
    }
   ],
   "source": [
    "# 임계값 조정 및 적용\n",
    "\n",
    "rf.fit(X_train, y_train)\n",
    "pred = rf.predict(X_test)\n",
    "pred_proba = rf.predict_proba(X_test)[:, 1].reshape(-1, 1)\n",
    "\n",
    "binarizer = Binarizer(threshold=0.45).fit(pred_proba)\n",
    "custom_pred = binarizer.transform(pred_proba)\n",
    "\n",
    "get_clf_eval(y_test, custom_pred, pred_proba)\n"
   ]
  },
  {
   "cell_type": "code",
   "execution_count": null,
   "id": "919ab130",
   "metadata": {},
   "outputs": [],
   "source": [
    "# 트리 기반 모델의 특성 중요도 확인\n",
    "for feature, importance in zip(X_train.columns, rf.feature_importances_):\n",
    "    print(f\"{feature}: {importance}\")"
   ]
  },
  {
   "cell_type": "code",
   "execution_count": null,
   "id": "8b59b4ee-bf98-4694-ba36-9ea192f604d5",
   "metadata": {},
   "outputs": [],
   "source": [
    "# 3. Logistic regrssion 을 이용한 학습\n",
    "\n",
    "lr = LogisticRegression(class_weight=class_weight_dict, random_state=43)\n",
    "\n",
    "cross_val = cross_val_score(lr, X_train , y=y_train ,cv=5, scoring='accuracy')\n",
    "print(np.mean(cross_val))\n"
   ]
  },
  {
   "cell_type": "code",
   "execution_count": null,
   "id": "bf11d93d",
   "metadata": {},
   "outputs": [],
   "source": [
    "parameters = {'penalty': ['l2','l1'],\n",
    "          'C':[0.01,0.1,1,10]}\n",
    "\n",
    "grid_lr = GridSearchCV(lr, param_grid = parameters, cv=3, refit=True)\n",
    "grid_lr.fit(X_train, y_train)\n",
    "\n",
    "lr = grid_lr.best_estimator_\n",
    "\n",
    "print(f\"최적 하이퍼 파라미터: {grid_lr.best_params_}\")\n",
    "print(f\"최고 예측 정확도: {grid_lr.best_score_:.4f}\")"
   ]
  },
  {
   "cell_type": "code",
   "execution_count": null,
   "id": "bd33130a",
   "metadata": {},
   "outputs": [],
   "source": [
    "# 임계값 조정 및 모델 적용\n",
    "\n",
    "lr.fit(X_train, y_train)\n",
    "pred = lr.predict(X_test)\n",
    "pred_proba = lr.predict_proba(X_test)[:, 1].reshape(-1, 1)\n",
    "\n",
    "binarizer = Binarizer(threshold=0.47).fit(pred_proba)\n",
    "custom_pred = binarizer.transform(pred_proba)\n",
    "\n",
    "get_clf_eval(y_test , custom_pred, pred_proba)"
   ]
  },
  {
   "cell_type": "code",
   "execution_count": null,
   "id": "37b8f3a0",
   "metadata": {},
   "outputs": [],
   "source": [
    "# 학습된 모델의 특성 중요도 확인\n",
    "feature_importance = lr.coef_[0]  # 특성의 가중치 또는 중요도\n",
    "\n",
    "# 특성별 중요도 출력\n",
    "for feature, importance in zip(X_train.columns, feature_importance):\n",
    "    print(f\"{feature}: {importance}\")\n",
    "\n",
    "# 가중치의 절댓값이 클수록 중요도 높음\n",
    "# 0에 가까울수록 중요도 낮음"
   ]
  },
  {
   "cell_type": "code",
   "execution_count": null,
   "id": "c19bdf49-9fb7-4784-9948-0759dcc798d5",
   "metadata": {},
   "outputs": [],
   "source": [
    "# 4. KNN 을 이용한 학습\n",
    "\n",
    "knn = KNeighborsClassifier()\n",
    "# knn에는 무작위성 추출(random_state)를 하지 않음.\n",
    "\n",
    "cross_val = cross_val_score(knn , X_train , y=y_train ,cv=5, scoring='accuracy')\n",
    "print(np.mean(cross_val))\n"
   ]
  },
  {
   "cell_type": "code",
   "execution_count": null,
   "id": "2fb9101b",
   "metadata": {},
   "outputs": [],
   "source": [
    "# 하이퍼파라미터 조정\n",
    "\n",
    "parameters = {'n_neighbors': [3, 5, 7, 9],\n",
    "              'weights': ['uniform', 'distance']\n",
    "          }\n",
    "\n",
    "grid_knn = GridSearchCV(knn, param_grid = parameters, cv=3, refit=True)\n",
    "grid_knn.fit(X_train, y_train)\n",
    "\n",
    "knn = grid_knn.best_estimator_\n",
    "\n",
    "print(f\"최적 하이퍼 파라미터: {grid_knn.best_params_}\")\n",
    "print(f\"최고 예측 정확도: {grid_knn.best_score_:.4f}\")"
   ]
  },
  {
   "cell_type": "code",
   "execution_count": null,
   "id": "e866262f-903f-4be9-a799-b9272849966a",
   "metadata": {},
   "outputs": [],
   "source": [
    "# 임계값 조정 및 모델 적용\n",
    "\n",
    "knn.fit(X_train, y_train)\n",
    "pred = knn.predict(X_test)\n",
    "pred_proba = knn.predict_proba(X_test)[:, 1].reshape(-1, 1)\n",
    "\n",
    "binarizer = Binarizer(threshold=0.45).fit(pred_proba)\n",
    "custom_pred = binarizer.transform(pred_proba)\n",
    "\n",
    "get_clf_eval(y_test , custom_pred, pred_proba)"
   ]
  },
  {
   "cell_type": "code",
   "execution_count": null,
   "id": "bc599efa",
   "metadata": {},
   "outputs": [],
   "source": [
    "# 5. Lightgbm을 이용한 학습\n",
    "\n",
    "lgbm= LGBMClassifier(class_weight=class_weight_dict,random_state=43)\n",
    "\n",
    "cross_val = cross_val_score(lgbm, X_train , y=y_train ,cv=5, scoring='accuracy')\n",
    "print(np.mean(cross_val))"
   ]
  },
  {
   "cell_type": "code",
   "execution_count": null,
   "id": "9cfaddd8",
   "metadata": {},
   "outputs": [],
   "source": [
    "# 하이퍼파라미터 조정\n",
    "\n",
    "parameters = {'n_neighbors': [100, 500],\n",
    "              'learning_rate': [0.05, 0.1]\n",
    "          }\n",
    "\n",
    "grid_lgbm = GridSearchCV(lgbm, param_grid = parameters, cv=2, verbose=1, refit=True)\n",
    "grid_lgbm.fit(X_train, y_train)\n",
    "\n",
    "lgbm = grid_lgbm.best_estimator_\n",
    "\n",
    "print(f\"최적 하이퍼 파라미터: {grid_lgbm.best_params_}\")\n",
    "print(f\"최고 예측 정확도: {grid_lgbm.best_score_:.4f}\")"
   ]
  },
  {
   "cell_type": "code",
   "execution_count": null,
   "id": "8bf9ea6e",
   "metadata": {},
   "outputs": [],
   "source": [
    "# 임계값 조정 및 모델 적용\n",
    "\n",
    "lgbm.fit(X_train, y_train)\n",
    "pred = lgbm.predict(X_test)\n",
    "pred_proba = lgbm.predict_proba(X_test)[:, 1].reshape(-1, 1)\n",
    "\n",
    "binarizer = Binarizer(threshold=0.45).fit(pred_proba)\n",
    "custom_pred = binarizer.transform(pred_proba)\n",
    "\n",
    "get_clf_eval(y_test , custom_pred, pred_proba)\n"
   ]
  },
  {
   "cell_type": "code",
   "execution_count": null,
   "id": "e3936f6a",
   "metadata": {},
   "outputs": [],
   "source": [
    "# 6. XGboost \n",
    "xgb = XGBClassifier(class_weight=class_weight_dict, random_state=43)\n",
    "\n",
    "cross_val = cross_val_score(xgb, X_train, y=y_train, cv=5, scoring='accuracy')\n",
    "print(np.mean(cross_val))"
   ]
  },
  {
   "cell_type": "code",
   "execution_count": null,
   "id": "7eb90e8a",
   "metadata": {},
   "outputs": [],
   "source": [
    "# 하이퍼파라미터 조정\n",
    "parameters = {'learning_rat': [0.01, 0.1],  \n",
    "              'n_estimators': [50, 100, 200]\n",
    "          }\n",
    "\n",
    "grid_xgb = GridSearchCV(xgb, param_grid=parameters, cv=5, verbose=1, refit=True)\n",
    "grid_xgb.fit(X_train, y_train)\n",
    "\n",
    "xgb = grid_xgb.best_estimator_\n",
    "\n",
    "print(f\"최적 하이퍼 파라미터: {grid_xgb.best_params_}\")\n",
    "print(f\"최고 예측 정확도: {grid_xgb.best_score_:.4f}\")"
   ]
  },
  {
   "cell_type": "code",
   "execution_count": null,
   "id": "b32a3b21",
   "metadata": {},
   "outputs": [],
   "source": [
    "# 임계값 조정 및 모델 적용\n",
    "\n",
    "xgb.fit(X_train, y_train)\n",
    "pred = xgb.predict(X_test)\n",
    "pred_proba = xgb.predict_proba(X_test)[:, 1].reshape(-1, 1)\n",
    "\n",
    "binarizer = Binarizer(threshold=0.45).fit(pred_proba)\n",
    "custom_pred = binarizer.transform(pred_proba)\n",
    "\n",
    "get_clf_eval(y_test , custom_pred, pred_proba)"
   ]
  },
  {
   "cell_type": "code",
   "execution_count": null,
   "id": "7672cc1c",
   "metadata": {},
   "outputs": [],
   "source": [
    "# 한 클래스의 샘플 수가 다른 클래스에 비해 월등히 많은 경우, \n",
    "# 모델이 많은 샘플이 있는 클래스에 더 치우쳐 학습"
   ]
  }
 ],
 "metadata": {
  "kernelspec": {
   "display_name": "Python 3 (ipykernel)",
   "language": "python",
   "name": "python3"
  },
  "language_info": {
   "codemirror_mode": {
    "name": "ipython",
    "version": 3
   },
   "file_extension": ".py",
   "mimetype": "text/x-python",
   "name": "python",
   "nbconvert_exporter": "python",
   "pygments_lexer": "ipython3",
   "version": "3.11.5"
  }
 },
 "nbformat": 4,
 "nbformat_minor": 5
}
