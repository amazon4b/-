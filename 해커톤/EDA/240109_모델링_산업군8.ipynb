{
 "cells": [
  {
   "cell_type": "code",
   "execution_count": 125,
   "metadata": {},
   "outputs": [],
   "source": [
    "import pandas as pd\n",
    "import numpy as np\n",
    "import matplotlib.pyplot as plt\n",
    "\n",
    "import warnings\n",
    "warnings.filterwarnings('ignore')\n",
    "\n",
    "from sklearn.model_selection import train_test_split\n",
    "from sklearn.metrics import accuracy_score, precision_score, recall_score, confusion_matrix, f1_score, roc_auc_score\n",
    "\n",
    "from sklearn.preprocessing import StandardScaler\n",
    "from sklearn.model_selection import GridSearchCV\n",
    "\n",
    "from sklearn.tree import DecisionTreeClassifier\n",
    "from sklearn.ensemble import RandomForestClassifier\n",
    "from sklearn.linear_model import LogisticRegression\n",
    "import sklearn.svm as svm\n",
    "from sklearn.neighbors import KNeighborsClassifier\n",
    "from sklearn import metrics"
   ]
  },
  {
   "cell_type": "code",
   "execution_count": 126,
   "metadata": {},
   "outputs": [
    {
     "data": {
      "text/html": [
       "<div>\n",
       "<style scoped>\n",
       "    .dataframe tbody tr th:only-of-type {\n",
       "        vertical-align: middle;\n",
       "    }\n",
       "\n",
       "    .dataframe tbody tr th {\n",
       "        vertical-align: top;\n",
       "    }\n",
       "\n",
       "    .dataframe thead th {\n",
       "        text-align: right;\n",
       "    }\n",
       "</style>\n",
       "<table border=\"1\" class=\"dataframe\">\n",
       "  <thead>\n",
       "    <tr style=\"text-align: right;\">\n",
       "      <th></th>\n",
       "      <th>TARGET</th>\n",
       "      <th>성별</th>\n",
       "      <th>차량 소유 여부</th>\n",
       "      <th>부동산 소유 여부</th>\n",
       "      <th>수입 유형</th>\n",
       "      <th>최종 학력</th>\n",
       "      <th>결혼 여부</th>\n",
       "      <th>주거 형태</th>\n",
       "      <th>휴대전화 소유 여부</th>\n",
       "      <th>이메일 소유 여부</th>\n",
       "      <th>직업</th>\n",
       "      <th>가족 구성원 수</th>\n",
       "      <th>산업군</th>\n",
       "      <th>나이</th>\n",
       "      <th>가입연수</th>\n",
       "      <th>도시구분</th>\n",
       "      <th>월간 수입</th>\n",
       "    </tr>\n",
       "  </thead>\n",
       "  <tbody>\n",
       "    <tr>\n",
       "      <th>0</th>\n",
       "      <td>0</td>\n",
       "      <td>2</td>\n",
       "      <td>1</td>\n",
       "      <td>1</td>\n",
       "      <td>3</td>\n",
       "      <td>0</td>\n",
       "      <td>0</td>\n",
       "      <td>3</td>\n",
       "      <td>1</td>\n",
       "      <td>0</td>\n",
       "      <td>1</td>\n",
       "      <td>4</td>\n",
       "      <td>5</td>\n",
       "      <td>1</td>\n",
       "      <td>2</td>\n",
       "      <td>3</td>\n",
       "      <td>0</td>\n",
       "    </tr>\n",
       "  </tbody>\n",
       "</table>\n",
       "</div>"
      ],
      "text/plain": [
       "   TARGET  성별  차량 소유 여부  부동산 소유 여부  수입 유형  최종 학력  결혼 여부  주거 형태  휴대전화 소유 여부  \\\n",
       "0       0   2         1          1      3      0      0      3           1   \n",
       "\n",
       "   이메일 소유 여부  직업  가족 구성원 수  산업군  나이  가입연수  도시구분  월간 수입  \n",
       "0          0   1         4    5   1     2     3      0  "
      ]
     },
     "execution_count": 126,
     "metadata": {},
     "output_type": "execute_result"
    }
   ],
   "source": [
    "train_df = pd.read_csv('../EDA/scaled_data.csv')\n",
    "train_df.drop(['Unnamed: 0'], axis=1, inplace=True)\n",
    "train_df.head(1)"
   ]
  },
  {
   "cell_type": "code",
   "execution_count": 127,
   "metadata": {},
   "outputs": [],
   "source": [
    "train_copy = train_df.copy()"
   ]
  },
  {
   "cell_type": "code",
   "execution_count": null,
   "metadata": {},
   "outputs": [],
   "source": [
    "# 어느 산업군에서 어느 직업이 연체 여부가 높은지 확인\n",
    "\n",
    "# 직업 수, 산업군 수의 편중을 완화하기 위하여 각 직업 별 연체 여부로 연체율 확인/ 각 산업군 별 연체 여부로 연체율 확인\n",
    "# 위에서 확인한 각 산업군의 연체율을 총 평균연체율(10.71%)보다 높은 산업군 15개(총 33개의 직업 중)\n",
    "# 각 산업군의 연체율을 총 평균연체율(10.71%)보다 높은 직업 8개(총 19개의 직업 중)\n",
    "\n",
    "## 종사하는 산업군의 전체 인원수를 확인하여 너무 적은 경우 제외\n",
    "## 직업에 종사하는 인원수를 확인하여 너무 적은 경우 제외\n",
    "\n",
    "# 위의 사항 고려하여 top3 산업군과 top4 직업 선정\n",
    "# 이를 결합하여 1위 산업군- 1위 직업, 2위 직업, 3위 직업 ... 3위 산업군- 1위 직업, 2위 직업, 3위 직업 비교\n",
    "# 어느 파생변수가 가장 유의한지 -> 그 산업군에서 그 직업이 연체율이 높다고 예측 확인"
   ]
  },
  {
   "cell_type": "code",
   "execution_count": null,
   "metadata": {},
   "outputs": [],
   "source": [
    "# 산업군 Top3 : 8(레스토랑-0.195%), 0(건설업-0.155%), 24(자영업-0.137%)\n",
    "# 직업 Top4 : 15(저임금 노동자-0.237%), 12(운전자-0.150%), 17(보안업계종사자-0.149%), 5(단순노동자-0.140%)\n"
   ]
  },
  {
   "cell_type": "code",
   "execution_count": null,
   "metadata": {},
   "outputs": [],
   "source": [
    "train_copy.head()"
   ]
  },
  {
   "cell_type": "code",
   "execution_count": 128,
   "metadata": {},
   "outputs": [],
   "source": [
    "# 산업군_직업 컬럼 생성 함수\n",
    "def create_job_column(df, ind_value, job_value):\n",
    "\n",
    "#    새로운 컬럼을 생성하고 특정 조건에 따라 값을 할당하는 함수\n",
    "\n",
    "#    Parameters:\n",
    "#    - df: 데이터프레임\n",
    "#    - job_value: 직업 구분코드\n",
    "#    - ind_value : 산업군 구분코드\n",
    "\n",
    "#    Returns:\n",
    "#    - df: 새로운 컬럼을 추가한 데이터프레임\n",
    "    \n",
    "  new_column_name = f\"{ind_value}_{job_value}\"\n",
    "  # 조건에 맞는 행에 1을 할당하여 새로운 컬럼에 추가\n",
    "  df[new_column_name] = (df['산업군'] == ind_value) & (df['직업'] == job_value)\n",
    "  # True/False를 1/0으로 변환\n",
    "  df[new_column_name] = df[new_column_name].astype(int)\n",
    "    \n",
    "  return df\n",
    "# 함수 사용 예시\n",
    "# create_job_column(your_df, ind_value, job_value)"
   ]
  },
  {
   "cell_type": "code",
   "execution_count": 131,
   "metadata": {},
   "outputs": [
    {
     "data": {
      "text/html": [
       "<div>\n",
       "<style scoped>\n",
       "    .dataframe tbody tr th:only-of-type {\n",
       "        vertical-align: middle;\n",
       "    }\n",
       "\n",
       "    .dataframe tbody tr th {\n",
       "        vertical-align: top;\n",
       "    }\n",
       "\n",
       "    .dataframe thead th {\n",
       "        text-align: right;\n",
       "    }\n",
       "</style>\n",
       "<table border=\"1\" class=\"dataframe\">\n",
       "  <thead>\n",
       "    <tr style=\"text-align: right;\">\n",
       "      <th></th>\n",
       "      <th>TARGET</th>\n",
       "      <th>성별</th>\n",
       "      <th>차량 소유 여부</th>\n",
       "      <th>부동산 소유 여부</th>\n",
       "      <th>수입 유형</th>\n",
       "      <th>최종 학력</th>\n",
       "      <th>결혼 여부</th>\n",
       "      <th>주거 형태</th>\n",
       "      <th>휴대전화 소유 여부</th>\n",
       "      <th>이메일 소유 여부</th>\n",
       "      <th>...</th>\n",
       "      <th>가족 구성원 수</th>\n",
       "      <th>산업군</th>\n",
       "      <th>나이</th>\n",
       "      <th>가입연수</th>\n",
       "      <th>도시구분</th>\n",
       "      <th>월간 수입</th>\n",
       "      <th>8_17</th>\n",
       "      <th>8_15</th>\n",
       "      <th>8_12</th>\n",
       "      <th>8_5</th>\n",
       "    </tr>\n",
       "  </thead>\n",
       "  <tbody>\n",
       "    <tr>\n",
       "      <th>0</th>\n",
       "      <td>0</td>\n",
       "      <td>2</td>\n",
       "      <td>1</td>\n",
       "      <td>1</td>\n",
       "      <td>3</td>\n",
       "      <td>0</td>\n",
       "      <td>0</td>\n",
       "      <td>3</td>\n",
       "      <td>1</td>\n",
       "      <td>0</td>\n",
       "      <td>...</td>\n",
       "      <td>4</td>\n",
       "      <td>5</td>\n",
       "      <td>1</td>\n",
       "      <td>2</td>\n",
       "      <td>3</td>\n",
       "      <td>0</td>\n",
       "      <td>0</td>\n",
       "      <td>0</td>\n",
       "      <td>0</td>\n",
       "      <td>0</td>\n",
       "    </tr>\n",
       "    <tr>\n",
       "      <th>1</th>\n",
       "      <td>0</td>\n",
       "      <td>1</td>\n",
       "      <td>1</td>\n",
       "      <td>0</td>\n",
       "      <td>1</td>\n",
       "      <td>1</td>\n",
       "      <td>0</td>\n",
       "      <td>3</td>\n",
       "      <td>1</td>\n",
       "      <td>0</td>\n",
       "      <td>...</td>\n",
       "      <td>2</td>\n",
       "      <td>16</td>\n",
       "      <td>2</td>\n",
       "      <td>1</td>\n",
       "      <td>1</td>\n",
       "      <td>3</td>\n",
       "      <td>0</td>\n",
       "      <td>0</td>\n",
       "      <td>0</td>\n",
       "      <td>0</td>\n",
       "    </tr>\n",
       "    <tr>\n",
       "      <th>2</th>\n",
       "      <td>0</td>\n",
       "      <td>2</td>\n",
       "      <td>0</td>\n",
       "      <td>1</td>\n",
       "      <td>1</td>\n",
       "      <td>0</td>\n",
       "      <td>0</td>\n",
       "      <td>3</td>\n",
       "      <td>1</td>\n",
       "      <td>0</td>\n",
       "      <td>...</td>\n",
       "      <td>2</td>\n",
       "      <td>16</td>\n",
       "      <td>1</td>\n",
       "      <td>1</td>\n",
       "      <td>1</td>\n",
       "      <td>1</td>\n",
       "      <td>0</td>\n",
       "      <td>0</td>\n",
       "      <td>0</td>\n",
       "      <td>0</td>\n",
       "    </tr>\n",
       "    <tr>\n",
       "      <th>3</th>\n",
       "      <td>0</td>\n",
       "      <td>2</td>\n",
       "      <td>1</td>\n",
       "      <td>0</td>\n",
       "      <td>2</td>\n",
       "      <td>0</td>\n",
       "      <td>0</td>\n",
       "      <td>3</td>\n",
       "      <td>1</td>\n",
       "      <td>0</td>\n",
       "      <td>...</td>\n",
       "      <td>3</td>\n",
       "      <td>17</td>\n",
       "      <td>1</td>\n",
       "      <td>1</td>\n",
       "      <td>3</td>\n",
       "      <td>2</td>\n",
       "      <td>0</td>\n",
       "      <td>0</td>\n",
       "      <td>0</td>\n",
       "      <td>0</td>\n",
       "    </tr>\n",
       "    <tr>\n",
       "      <th>4</th>\n",
       "      <td>0</td>\n",
       "      <td>2</td>\n",
       "      <td>0</td>\n",
       "      <td>1</td>\n",
       "      <td>1</td>\n",
       "      <td>0</td>\n",
       "      <td>0</td>\n",
       "      <td>3</td>\n",
       "      <td>1</td>\n",
       "      <td>0</td>\n",
       "      <td>...</td>\n",
       "      <td>2</td>\n",
       "      <td>16</td>\n",
       "      <td>1</td>\n",
       "      <td>0</td>\n",
       "      <td>0</td>\n",
       "      <td>1</td>\n",
       "      <td>0</td>\n",
       "      <td>0</td>\n",
       "      <td>0</td>\n",
       "      <td>0</td>\n",
       "    </tr>\n",
       "    <tr>\n",
       "      <th>...</th>\n",
       "      <td>...</td>\n",
       "      <td>...</td>\n",
       "      <td>...</td>\n",
       "      <td>...</td>\n",
       "      <td>...</td>\n",
       "      <td>...</td>\n",
       "      <td>...</td>\n",
       "      <td>...</td>\n",
       "      <td>...</td>\n",
       "      <td>...</td>\n",
       "      <td>...</td>\n",
       "      <td>...</td>\n",
       "      <td>...</td>\n",
       "      <td>...</td>\n",
       "      <td>...</td>\n",
       "      <td>...</td>\n",
       "      <td>...</td>\n",
       "      <td>...</td>\n",
       "      <td>...</td>\n",
       "      <td>...</td>\n",
       "      <td>...</td>\n",
       "    </tr>\n",
       "    <tr>\n",
       "      <th>59984</th>\n",
       "      <td>0</td>\n",
       "      <td>2</td>\n",
       "      <td>0</td>\n",
       "      <td>1</td>\n",
       "      <td>3</td>\n",
       "      <td>0</td>\n",
       "      <td>1</td>\n",
       "      <td>3</td>\n",
       "      <td>1</td>\n",
       "      <td>0</td>\n",
       "      <td>...</td>\n",
       "      <td>1</td>\n",
       "      <td>5</td>\n",
       "      <td>3</td>\n",
       "      <td>2</td>\n",
       "      <td>1</td>\n",
       "      <td>0</td>\n",
       "      <td>0</td>\n",
       "      <td>0</td>\n",
       "      <td>0</td>\n",
       "      <td>0</td>\n",
       "    </tr>\n",
       "    <tr>\n",
       "      <th>59985</th>\n",
       "      <td>1</td>\n",
       "      <td>1</td>\n",
       "      <td>1</td>\n",
       "      <td>1</td>\n",
       "      <td>1</td>\n",
       "      <td>0</td>\n",
       "      <td>0</td>\n",
       "      <td>3</td>\n",
       "      <td>1</td>\n",
       "      <td>0</td>\n",
       "      <td>...</td>\n",
       "      <td>2</td>\n",
       "      <td>24</td>\n",
       "      <td>2</td>\n",
       "      <td>0</td>\n",
       "      <td>1</td>\n",
       "      <td>3</td>\n",
       "      <td>0</td>\n",
       "      <td>0</td>\n",
       "      <td>0</td>\n",
       "      <td>0</td>\n",
       "    </tr>\n",
       "    <tr>\n",
       "      <th>59986</th>\n",
       "      <td>1</td>\n",
       "      <td>2</td>\n",
       "      <td>0</td>\n",
       "      <td>0</td>\n",
       "      <td>1</td>\n",
       "      <td>1</td>\n",
       "      <td>1</td>\n",
       "      <td>3</td>\n",
       "      <td>1</td>\n",
       "      <td>0</td>\n",
       "      <td>...</td>\n",
       "      <td>1</td>\n",
       "      <td>22</td>\n",
       "      <td>0</td>\n",
       "      <td>1</td>\n",
       "      <td>1</td>\n",
       "      <td>2</td>\n",
       "      <td>0</td>\n",
       "      <td>0</td>\n",
       "      <td>0</td>\n",
       "      <td>0</td>\n",
       "    </tr>\n",
       "    <tr>\n",
       "      <th>59987</th>\n",
       "      <td>0</td>\n",
       "      <td>2</td>\n",
       "      <td>1</td>\n",
       "      <td>1</td>\n",
       "      <td>1</td>\n",
       "      <td>0</td>\n",
       "      <td>3</td>\n",
       "      <td>3</td>\n",
       "      <td>1</td>\n",
       "      <td>0</td>\n",
       "      <td>...</td>\n",
       "      <td>1</td>\n",
       "      <td>19</td>\n",
       "      <td>2</td>\n",
       "      <td>1</td>\n",
       "      <td>1</td>\n",
       "      <td>1</td>\n",
       "      <td>0</td>\n",
       "      <td>0</td>\n",
       "      <td>0</td>\n",
       "      <td>0</td>\n",
       "    </tr>\n",
       "    <tr>\n",
       "      <th>59988</th>\n",
       "      <td>0</td>\n",
       "      <td>1</td>\n",
       "      <td>0</td>\n",
       "      <td>1</td>\n",
       "      <td>1</td>\n",
       "      <td>0</td>\n",
       "      <td>1</td>\n",
       "      <td>3</td>\n",
       "      <td>1</td>\n",
       "      <td>0</td>\n",
       "      <td>...</td>\n",
       "      <td>1</td>\n",
       "      <td>1</td>\n",
       "      <td>0</td>\n",
       "      <td>1</td>\n",
       "      <td>3</td>\n",
       "      <td>1</td>\n",
       "      <td>0</td>\n",
       "      <td>0</td>\n",
       "      <td>0</td>\n",
       "      <td>0</td>\n",
       "    </tr>\n",
       "  </tbody>\n",
       "</table>\n",
       "<p>59989 rows × 21 columns</p>\n",
       "</div>"
      ],
      "text/plain": [
       "       TARGET  성별  차량 소유 여부  부동산 소유 여부  수입 유형  최종 학력  결혼 여부  주거 형태  \\\n",
       "0           0   2         1          1      3      0      0      3   \n",
       "1           0   1         1          0      1      1      0      3   \n",
       "2           0   2         0          1      1      0      0      3   \n",
       "3           0   2         1          0      2      0      0      3   \n",
       "4           0   2         0          1      1      0      0      3   \n",
       "...       ...  ..       ...        ...    ...    ...    ...    ...   \n",
       "59984       0   2         0          1      3      0      1      3   \n",
       "59985       1   1         1          1      1      0      0      3   \n",
       "59986       1   2         0          0      1      1      1      3   \n",
       "59987       0   2         1          1      1      0      3      3   \n",
       "59988       0   1         0          1      1      0      1      3   \n",
       "\n",
       "       휴대전화 소유 여부  이메일 소유 여부  ...  가족 구성원 수  산업군  나이  가입연수  도시구분  월간 수입  8_17  \\\n",
       "0               1          0  ...         4    5   1     2     3      0     0   \n",
       "1               1          0  ...         2   16   2     1     1      3     0   \n",
       "2               1          0  ...         2   16   1     1     1      1     0   \n",
       "3               1          0  ...         3   17   1     1     3      2     0   \n",
       "4               1          0  ...         2   16   1     0     0      1     0   \n",
       "...           ...        ...  ...       ...  ...  ..   ...   ...    ...   ...   \n",
       "59984           1          0  ...         1    5   3     2     1      0     0   \n",
       "59985           1          0  ...         2   24   2     0     1      3     0   \n",
       "59986           1          0  ...         1   22   0     1     1      2     0   \n",
       "59987           1          0  ...         1   19   2     1     1      1     0   \n",
       "59988           1          0  ...         1    1   0     1     3      1     0   \n",
       "\n",
       "       8_15  8_12  8_5  \n",
       "0         0     0    0  \n",
       "1         0     0    0  \n",
       "2         0     0    0  \n",
       "3         0     0    0  \n",
       "4         0     0    0  \n",
       "...     ...   ...  ...  \n",
       "59984     0     0    0  \n",
       "59985     0     0    0  \n",
       "59986     0     0    0  \n",
       "59987     0     0    0  \n",
       "59988     0     0    0  \n",
       "\n",
       "[59989 rows x 21 columns]"
      ]
     },
     "execution_count": 131,
     "metadata": {},
     "output_type": "execute_result"
    }
   ],
   "source": [
    "create_job_column(train_copy, 8, 15)\n",
    "create_job_column(train_copy, 8, 12)\n",
    "create_job_column(train_copy, 8, 17)\n",
    "create_job_column(train_copy, 8, 5)"
   ]
  },
  {
   "cell_type": "code",
   "execution_count": 134,
   "metadata": {},
   "outputs": [
    {
     "data": {
      "text/plain": [
       "8_17\n",
       "False    59942\n",
       "True        47\n",
       "Name: count, dtype: int64"
      ]
     },
     "execution_count": 134,
     "metadata": {},
     "output_type": "execute_result"
    }
   ],
   "source": [
    "(train_copy['8_17']==1).value_counts()"
   ]
  },
  {
   "cell_type": "code",
   "execution_count": null,
   "metadata": {},
   "outputs": [],
   "source": [
    "# 파생변수 '가족크기범주' 생성\n",
    "train_copy['가족크기범주'] = pd.cut(train_copy['가족 구성원 수'], bins=[0, 2, 4,float('inf')],  \n",
    "                    labels=['0','1', '2'])"
   ]
  },
  {
   "cell_type": "code",
   "execution_count": null,
   "metadata": {},
   "outputs": [],
   "source": [
    "# 데이터타입 category -> int 변경 \n",
    "train_copy['가족크기범주'] = train_copy['가족크기범주'].dropna().astype(int)"
   ]
  },
  {
   "cell_type": "code",
   "execution_count": null,
   "metadata": {},
   "outputs": [],
   "source": [
    "# 파생변수 'combinedFY' 생성\n",
    "# 조건 설정\n",
    "conditions = [\n",
    "(train_copy['가족크기범주'] == 0) & (train_copy['가입연수'] == 0),\n",
    "(train_copy['가족크기범주'] == 0) & (train_copy['가입연수'] == 1),\n",
    "(train_copy['가족크기범주'] == 0) & (train_copy['가입연수'] == 2),\n",
    "(train_copy['가족크기범주'] == 0) & (train_copy['가입연수'] == 3),\n",
    "\n",
    "(train_copy['가족크기범주'] == 1) & (train_copy['가입연수'] == 0),\n",
    "(train_copy['가족크기범주'] == 1) & (train_copy['가입연수'] == 1),\n",
    "(train_copy['가족크기범주'] == 1) & (train_copy['가입연수'] == 2),\n",
    "(train_copy['가족크기범주'] == 1) & (train_copy['가입연수'] == 3),\n",
    "\n",
    "\n",
    "(train_copy['가족크기범주'] == 2) & (train_copy['가입연수'] == 0),\n",
    "(train_copy['가족크기범주'] == 2) & (train_copy['가입연수'] == 1),\n",
    "(train_copy['가족크기범주'] == 2) & (train_copy['가입연수'] == 2),\n",
    "(train_copy['가족크기범주'] == 2) & (train_copy['가입연수'] == 3),\n",
    "]\n",
    "# 할당할 값 설정\n",
    "values = [0, 1, 2, 3, 4, 5, 6, 7, 8,9,10,11]\n",
    "\n",
    "# np.select를 사용하여 조건에 맞는 값을 'y' 컬럼에 할당\n",
    "train_copy['combinedfY'] = np.select(conditions, values, default=0)\n",
    "#train_copy = train_copy.drop(['차량 소유 여부', '부동산 소유 여부', '주거 형태', '근속연수'], axis=1)\n",
    "train_copy.head(2)"
   ]
  },
  {
   "cell_type": "code",
   "execution_count": null,
   "metadata": {},
   "outputs": [],
   "source": [
    "# 파생변수 'age_income' 생성\n",
    "# 임금수준 & 나이활용한 파생변수\n",
    "conditions1 = [\n",
    "(train_copy['나이'] == 0) & (train_copy['월간 수입'] == 0),\n",
    "(train_copy['나이'] == 0) & (train_copy['월간 수입'] == 1),\n",
    "(train_copy['나이'] == 0) & (train_copy['월간 수입'] == 2),\n",
    "(train_copy['나이'] == 0) & (train_copy['월간 수입'] == 3),\n",
    "\n",
    "(train_copy['나이'] == 1) & (train_copy['월간 수입'] == 0),\n",
    "(train_copy['나이'] == 1) & (train_copy['월간 수입'] == 1),\n",
    "(train_copy['나이'] == 1) & (train_copy['월간 수입'] == 2),\n",
    "(train_copy['나이'] == 1) & (train_copy['월간 수입'] == 3),\n",
    "\n",
    "(train_copy['나이'] == 2) & (train_copy['월간 수입'] == 0),\n",
    "(train_copy['나이'] == 2) & (train_copy['월간 수입'] == 1),\n",
    "(train_copy['나이'] == 2) & (train_copy['월간 수입'] == 2),\n",
    "(train_copy['나이'] == 2) & (train_copy['월간 수입'] == 3),\n",
    "\n",
    "(train_copy['나이'] == 3) & (train_copy['월간 수입'] == 0),\n",
    "(train_copy['나이'] == 3) & (train_copy['월간 수입'] == 1),\n",
    "(train_copy['나이'] == 3) & (train_copy['월간 수입'] == 2),\n",
    "(train_copy['나이'] == 3) & (train_copy['월간 수입'] == 3),\n",
    "\n",
    "(train_copy['나이'] == 4) & (train_copy['월간 수입'] == 0),\n",
    "(train_copy['나이'] == 4) & (train_copy['월간 수입'] == 1),\n",
    "(train_copy['나이'] == 4) & (train_copy['월간 수입'] == 2),\n",
    "(train_copy['나이'] == 4) & (train_copy['월간 수입'] == 3),\n",
    "\n",
    "]\n",
    "# 할당할 값 설정\n",
    "values = [0,1, 2, 3, 4, 5, 6, 7, 8, 9, 10, 11, 12, 13, 14, 15, 16, 17, 18, 19]\n",
    "# np.select를 사용하여 조건에 맞는 값을 'y' 컬럼에 할당\n",
    "train_copy['age_income'] = np.select(conditions1, values, default=0)\n",
    "train_copy.head(2)"
   ]
  },
  {
   "cell_type": "code",
   "execution_count": null,
   "metadata": {},
   "outputs": [],
   "source": [
    "# 카이제곱 검정은 파생변수가 범주형일 때 유의미한지 검증하는 대표적인 지표.\n",
    "# 결과로 나온 출력에서 p-value가 0.05 미만이면서 chi2가 가장 높은 파생변수가\n",
    "# 카이제곱 검정으로 봤을때 가장 의미가 있는 피쳐.\n",
    "\n",
    "# 일단 가설을 설정했다면 그 가설에 필요한 변수만 빼서 카이제곱 검정을 돌려. \n",
    "# 그래서 0.05이상 나오면 그 가설과 파생변수는 유의미하니 사용 가능.\n",
    "# 그리고 이것도 통계적 요소 대립가설을 언급하며 논리를 펼칠 것."
   ]
  },
  {
   "cell_type": "code",
   "execution_count": 135,
   "metadata": {},
   "outputs": [],
   "source": [
    "# p-value값 확인\n",
    "from scipy.stats import chi2_contingency\n",
    "chi2_results = {}\n",
    "categorical_features = ['8_15', '8_12', '8_17', '8_5']\n",
    "\n",
    "# 나의 가설은 이렇다.\n",
    "# 비교적 나이가 젊은 층 중 기혼자가 미혼자에 비해 재정 관리 능력이 더 뛰어날 것.\n",
    "# 특히 월간 수입이 이러한 범위에 있는 사람은 연체 확률이 더 높거나 낮을 것.\n",
    "# 그럼 내 가설에 필요한 피처들을 카이제곱 검정에 넣어."
   ]
  },
  {
   "cell_type": "code",
   "execution_count": 136,
   "metadata": {},
   "outputs": [
    {
     "data": {
      "text/plain": [
       "{'8_15': {'chi2': 0.11114709784753601, 'p-value': 0.7388419416561753},\n",
       " '8_12': {'chi2': 6.278177989877958e-09, 'p-value': 0.9999367796533193},\n",
       " '8_17': {'chi2': 1.3521077297086408, 'p-value': 0.2449099784118336},\n",
       " '8_5': {'chi2': 2.1830295476658343, 'p-value': 0.13953954646675246}}"
      ]
     },
     "execution_count": 136,
     "metadata": {},
     "output_type": "execute_result"
    }
   ],
   "source": [
    "# p-value값 확인\n",
    "for feature in categorical_features:\n",
    "    contingency_table = pd.crosstab(train_copy[feature], train_copy['TARGET'])\n",
    "    \n",
    "    chi2, p, dof, expected = chi2_contingency(contingency_table)\n",
    "\n",
    "    chi2_results[feature] = {'chi2': chi2, 'p-value': p}\n",
    "\n",
    "\n",
    "chi2_results"
   ]
  },
  {
   "cell_type": "code",
   "execution_count": null,
   "metadata": {},
   "outputs": [],
   "source": []
  },
  {
   "cell_type": "code",
   "execution_count": null,
   "metadata": {},
   "outputs": [],
   "source": [
    "train_copy"
   ]
  },
  {
   "cell_type": "code",
   "execution_count": 137,
   "metadata": {},
   "outputs": [],
   "source": [
    "# feature와 label 분리\n",
    "feature = train_copy.drop('TARGET', axis=1)\n",
    "label = train_copy['TARGET']"
   ]
  },
  {
   "cell_type": "code",
   "execution_count": 138,
   "metadata": {},
   "outputs": [],
   "source": [
    "# train test 분리\n",
    "X_train_old, X_test, y_train_old , y_test = train_test_split(feature, label, test_size=0.3 , random_state=42)"
   ]
  },
  {
   "cell_type": "code",
   "execution_count": 139,
   "metadata": {},
   "outputs": [
    {
     "data": {
      "text/plain": [
       "TARGET\n",
       "0    37465\n",
       "1     4527\n",
       "Name: count, dtype: int64"
      ]
     },
     "execution_count": 139,
     "metadata": {},
     "output_type": "execute_result"
    }
   ],
   "source": [
    "y_train_old.value_counts()"
   ]
  },
  {
   "cell_type": "code",
   "execution_count": 140,
   "metadata": {},
   "outputs": [],
   "source": [
    "from imblearn.over_sampling import SMOTE\n",
    "X_train, y_train = SMOTE(random_state = 22).fit_resample(X_train_old, y_train_old)"
   ]
  },
  {
   "cell_type": "code",
   "execution_count": 141,
   "metadata": {},
   "outputs": [
    {
     "data": {
      "text/plain": [
       "TARGET\n",
       "0    37465\n",
       "1    37465\n",
       "Name: count, dtype: int64"
      ]
     },
     "execution_count": 141,
     "metadata": {},
     "output_type": "execute_result"
    }
   ],
   "source": [
    "y_train.value_counts()"
   ]
  },
  {
   "cell_type": "code",
   "execution_count": 142,
   "metadata": {},
   "outputs": [
    {
     "name": "stdout",
     "output_type": "stream",
     "text": [
      "최적 하이퍼 파라미터: {'max_depth': 5, 'min_samples_split': 3}\n",
      "최고 예측 정확도: 0.6843\n"
     ]
    }
   ],
   "source": [
    "# 1. Decision Tree를 이용한 학습\n",
    "# 1-1. GridSearchCV를 적용해 Decision Tree의 교차검증 및 하이퍼파라미터 튜닝\n",
    "\n",
    "dt = DecisionTreeClassifier()\n",
    "\n",
    "parameters = {'max_depth' : [2, 3, 4, 5],\n",
    "             'min_samples_split' : [1, 3, 5, 7, 9]}\n",
    "\n",
    "grid_dt = GridSearchCV(dt, param_grid = parameters, cv=3, refit=True)\n",
    "grid_dt.fit(X_train, y_train)\n",
    "\n",
    "dt = grid_dt.best_estimator_\n",
    "\n",
    "print(f\"최적 하이퍼 파라미터: {grid_dt.best_params_}\")\n",
    "print(f\"최고 예측 정확도: {grid_dt.best_score_:.4f}\")"
   ]
  },
  {
   "cell_type": "code",
   "execution_count": 143,
   "metadata": {},
   "outputs": [],
   "source": [
    "# 모델로부터 예측 확률 계산\n",
    "# predicted_probabilities = dt.predict_proba(X_test)\n",
    "\n",
    "# 임계값 설정\n",
    "# threshold = 0.6  # 임계값 설정 (예시로 0.6으로 설정)\n",
    "\n",
    "# 예측값 변환\n",
    "# predicted_classes = (predicted_probabilities[:, 1] >= threshold).astype(int)  # 양성 클래스의 확률에 대해 임계값 적용\n"
   ]
  },
  {
   "cell_type": "code",
   "execution_count": 144,
   "metadata": {},
   "outputs": [
    {
     "ename": "NameError",
     "evalue": "name 'get_clf_eval' is not defined",
     "output_type": "error",
     "traceback": [
      "\u001b[1;31m---------------------------------------------------------------------------\u001b[0m",
      "\u001b[1;31mNameError\u001b[0m                                 Traceback (most recent call last)",
      "Cell \u001b[1;32mIn[144], line 11\u001b[0m\n\u001b[0;32m      9\u001b[0m custom_predict \u001b[38;5;241m=\u001b[39m binarizer\u001b[38;5;241m.\u001b[39mtransform(pred_proba_1)\n\u001b[0;32m     10\u001b[0m custom_predict\n\u001b[1;32m---> 11\u001b[0m \u001b[43mget_clf_eval\u001b[49m(y_test, custom_predict)\n",
      "\u001b[1;31mNameError\u001b[0m: name 'get_clf_eval' is not defined"
     ]
    }
   ],
   "source": [
    "# 임계값 재설정\n",
    "from sklearn.preprocessing import Binarizer\n",
    "\n",
    "custom_threshold = 0.5\n",
    "\n",
    "pred_proba_1 = pred_proba[:,1].reshape(-1,1)\n",
    "\n",
    "binarizer = Binarizer(threshold=custom_threshold).fit(pred_proba_1)\n",
    "custom_predict = binarizer.transform(pred_proba_1)\n",
    "custom_predict\n",
    "get_clf_eval(y_test, custom_predict)"
   ]
  },
  {
   "cell_type": "code",
   "execution_count": 145,
   "metadata": {},
   "outputs": [
    {
     "name": "stdout",
     "output_type": "stream",
     "text": [
      "의사결정나무 정확도 : 0.699\n",
      "의사결정나무 정밀도 : 0.166\n",
      "의사결정나무 재현율 : 0.461\n",
      "의사결정나무 f1_score : 0.244\n",
      "의사결정나무 roc_auc : 0.614\n"
     ]
    }
   ],
   "source": [
    "# Decision Tree 적용\n",
    "pred = dt.predict(X_test)\n",
    "pred_proba = dt.predict_proba(X_test)\n",
    "pred_proba_1 = pred_proba[:, 1]\n",
    "\n",
    "acc = accuracy_score(y_test , pred)\n",
    "prec = precision_score(y_test , pred)\n",
    "rec = recall_score(y_test , pred)\n",
    "f1score = f1_score(y_test, pred)\n",
    "auc_score = roc_auc_score(y_test , pred_proba_1)\n",
    "print(f'의사결정나무 정확도 : {acc:.3f}')\n",
    "print(f'의사결정나무 정밀도 : {prec:.3f}')\n",
    "print(f'의사결정나무 재현율 : {rec:.3f}')\n",
    "print(f'의사결정나무 f1_score : {f1score:.3f}')\n",
    "print(f'의사결정나무 roc_auc : {auc_score:.3f}')"
   ]
  },
  {
   "cell_type": "code",
   "execution_count": 146,
   "metadata": {},
   "outputs": [
    {
     "name": "stdout",
     "output_type": "stream",
     "text": [
      "성별: 0.17520632186909546\n",
      "차량 소유 여부: 0.17426409606578339\n",
      "부동산 소유 여부: 0.0012887755684592112\n",
      "수입 유형: 0.07569731229146599\n",
      "최종 학력: 0.25027056746682547\n",
      "결혼 여부: 0.003930252698453974\n",
      "주거 형태: 0.0\n",
      "휴대전화 소유 여부: 0.0\n",
      "이메일 소유 여부: 0.0\n",
      "직업: 0.0\n",
      "가족 구성원 수: 0.012843883883974897\n",
      "산업군: 0.00206681853335694\n",
      "나이: 0.24148157227928582\n",
      "가입연수: 0.062216268196943966\n",
      "도시구분: 0.0\n",
      "월간 수입: 0.0007341311463548633\n",
      "8_17: 0.0\n",
      "8_15: 0.0\n",
      "8_12: 0.0\n",
      "8_5: 0.0\n"
     ]
    }
   ],
   "source": [
    "# 트리 기반 모델의 특성 중요도 확인\n",
    "for feature, importance in zip(X_train.columns, dt.feature_importances_):\n",
    "    print(f\"{feature}: {importance}\")"
   ]
  },
  {
   "cell_type": "code",
   "execution_count": 147,
   "metadata": {},
   "outputs": [
    {
     "name": "stdout",
     "output_type": "stream",
     "text": [
      "최적 하이퍼 파라미터: {'max_depth': 12, 'min_samples_split': 16}\n",
      "최고 예측 정확도: 0.7588\n"
     ]
    }
   ],
   "source": [
    "# 2. RandomForest를 이용한 학습\n",
    "# 2-1. GridSearchCV를 적용해 RandomForest의 교차검증 및 하이퍼파라미터 튜닝\n",
    "\n",
    "rf = RandomForestClassifier()\n",
    "\n",
    "parameters = {\n",
    "    'max_depth' : [6, 8, 12],\n",
    "    'min_samples_split' : [16, 24]\n",
    "}\n",
    "\n",
    "grid_rf = GridSearchCV(rf, param_grid = parameters, cv=3, refit=True)\n",
    "grid_rf.fit(X_train, y_train)\n",
    "\n",
    "rf = grid_rf.best_estimator_\n",
    "\n",
    "print(f\"최적 하이퍼 파라미터: {grid_rf.best_params_}\")\n",
    "print(f\"최고 예측 정확도: {grid_rf.best_score_:.4f}\")"
   ]
  },
  {
   "cell_type": "code",
   "execution_count": 148,
   "metadata": {},
   "outputs": [
    {
     "name": "stdout",
     "output_type": "stream",
     "text": [
      "랜덤포레스트 정확도 : 0.783\n",
      "랜덤포레스트 정밀도 : 0.141\n",
      "랜덤포레스트 재현율 : 0.207\n",
      "랜덤포레스트 f1_score : 0.168\n",
      "랜덤포레스트 roc_auc : 0.580\n"
     ]
    }
   ],
   "source": [
    "# RandomForest 적용\n",
    "\n",
    "rf = RandomForestClassifier(random_state=0)\n",
    "rf.fit(X_train, y_train)\n",
    "pred = rf.predict(X_test)\n",
    "pred_proba = rf.predict_proba(X_test)\n",
    "pred_proba_1 = pred_proba[:, 1]\n",
    "\n",
    "acc = accuracy_score(y_test , pred)\n",
    "prec = precision_score(y_test , pred)\n",
    "rec = recall_score(y_test , pred)\n",
    "f1score = f1_score(y_test, pred)\n",
    "auc_score = roc_auc_score(y_test , pred_proba_1)\n",
    "\n",
    "print(f'랜덤포레스트 정확도 : {acc:.3f}')\n",
    "print(f'랜덤포레스트 정밀도 : {prec:.3f}')\n",
    "print(f'랜덤포레스트 재현율 : {rec:.3f}')\n",
    "print(f'랜덤포레스트 f1_score : {f1score:.3f}')\n",
    "print(f'랜덤포레스트 roc_auc : {auc_score:.3f}')"
   ]
  },
  {
   "cell_type": "code",
   "execution_count": 149,
   "metadata": {},
   "outputs": [
    {
     "name": "stdout",
     "output_type": "stream",
     "text": [
      "성별: 0.04360537433202821\n",
      "차량 소유 여부: 0.04204020762253011\n",
      "부동산 소유 여부: 0.029372847159125623\n",
      "수입 유형: 0.054367897115122694\n",
      "최종 학력: 0.055854642751264\n",
      "결혼 여부: 0.0580027111248939\n",
      "주거 형태: 0.023167617127706035\n",
      "휴대전화 소유 여부: 2.15185623429432e-06\n",
      "이메일 소유 여부: 0.0134872584205425\n",
      "직업: 0.13971801362314362\n",
      "가족 구성원 수: 0.0717148249205003\n",
      "산업군: 0.14957877479543277\n",
      "나이: 0.09055480832981798\n",
      "가입연수: 0.07118084811377204\n",
      "도시구분: 0.06630924101930775\n",
      "월간 수입: 0.09062948288151718\n",
      "8_17: 0.0001788932524258211\n",
      "8_15: 3.076045368938274e-05\n",
      "8_12: 7.08512697491871e-05\n",
      "8_5: 0.00013279383119657235\n"
     ]
    }
   ],
   "source": [
    "# 트리 기반 모델의 특성 중요도 확인\n",
    "for feature, importance in zip(X_train.columns, rf.feature_importances_):\n",
    "    print(f\"{feature}: {importance}\")"
   ]
  },
  {
   "cell_type": "code",
   "execution_count": 150,
   "metadata": {},
   "outputs": [
    {
     "name": "stdout",
     "output_type": "stream",
     "text": [
      "최적 하이퍼 파라미터: {'C': 10, 'penalty': 'l2'}\n",
      "최고 예측 정확도: 0.7009\n"
     ]
    }
   ],
   "source": [
    "# 3. Logistic regrssion 을 이용한 학습\n",
    "# 3-1. GridSearchCV를 적용해 Logistic regrssion의 교차검증 및 하이퍼파라미터 튜닝\n",
    "\n",
    "lr = LogisticRegression()\n",
    "\n",
    "parameters = {'penalty': ['l2','l1'],\n",
    "          'C':[0.01,0.1,1,10]}\n",
    "\n",
    "grid_lr = GridSearchCV(lr, param_grid = parameters, cv=3, refit=True)\n",
    "grid_lr.fit(X_train, y_train)\n",
    "\n",
    "lr = grid_lr.best_estimator_\n",
    "\n",
    "print(f\"최적 하이퍼 파라미터: {grid_lr.best_params_}\")\n",
    "print(f\"최고 예측 정확도: {grid_lr.best_score_:.4f}\")"
   ]
  },
  {
   "cell_type": "code",
   "execution_count": 151,
   "metadata": {},
   "outputs": [
    {
     "name": "stdout",
     "output_type": "stream",
     "text": [
      "Logistic regrssion 정확도 : 0.675\n",
      "Logistic regrssion 정밀도 : 0.152\n",
      "Logistic regrssion 재현율 : 0.455\n",
      "Logistic regrssion f1_score : 0.228\n",
      "Logistic regrssion roc_auc : 0.604\n"
     ]
    }
   ],
   "source": [
    "#3-2. Logistic Regression 적용\n",
    "lr.fit(X_train, y_train)\n",
    "pred = lr.predict(X_test)\n",
    "pred_proba = lr.predict_proba(X_test)\n",
    "pred_proba_1 = pred_proba[:, 1]\n",
    "\n",
    "acc = accuracy_score(y_test , pred)\n",
    "prec = precision_score(y_test , pred)\n",
    "rec = recall_score(y_test , pred)\n",
    "auc_score = roc_auc_score(y_test , pred_proba_1)\n",
    "f1score = f1_score(y_test, pred)\n",
    "\n",
    "print(f'Logistic regrssion 정확도 : {acc:.3f}')\n",
    "print(f'Logistic regrssion 정밀도 : {prec:.3f}')\n",
    "print(f'Logistic regrssion 재현율 : {rec:.3f}')\n",
    "print(f'Logistic regrssion f1_score : {f1score:.3f}')\n",
    "print(f'Logistic regrssion roc_auc : {auc_score:.3f}')"
   ]
  },
  {
   "cell_type": "code",
   "execution_count": 152,
   "metadata": {},
   "outputs": [
    {
     "name": "stdout",
     "output_type": "stream",
     "text": [
      "성별: -1.0469855203625182\n",
      "차량 소유 여부: -1.0901345877361188\n",
      "부동산 소유 여부: -0.315163410534757\n",
      "수입 유형: -0.15697812636794936\n",
      "최종 학력: -0.7530915668461345\n",
      "결혼 여부: -0.07773754312119277\n",
      "주거 형태: 0.02897957669113229\n",
      "휴대전화 소유 여부: 2.499841456144387\n",
      "이메일 소유 여부: -1.3351252989849174\n",
      "직업: -0.017023064725541288\n",
      "가족 구성원 수: -0.32792040131633304\n",
      "산업군: -0.006770419883082787\n",
      "나이: -0.38040544822586214\n",
      "가입연수: -0.511115248028163\n",
      "도시구분: -0.11736181846916659\n",
      "월간 수입: -0.24983919590749493\n",
      "8_17: -0.01858445596946226\n",
      "8_15: -0.003732340834815636\n",
      "8_12: -0.01649623215277584\n",
      "8_5: -0.0006029733222051346\n"
     ]
    }
   ],
   "source": [
    "# 학습된 모델의 특성 중요도 확인\n",
    "feature_importance = lr.coef_[0]  # 특성의 가중치 또는 중요도\n",
    "\n",
    "# 특성별 중요도 출력\n",
    "for feature, importance in zip(X_train.columns, feature_importance):\n",
    "    print(f\"{feature}: {importance}\")"
   ]
  },
  {
   "cell_type": "code",
   "execution_count": 153,
   "metadata": {},
   "outputs": [],
   "source": [
    "# 5. KNN 을 이용한 학습\n",
    "# 5-1. GridSearchCV를 적용해 KNN의 교차검증 및 하이퍼파라미터 튜닝\n",
    "\n",
    "knn = KNeighborsClassifier()\n",
    "\n",
    "parameters = {'n_neighbors': [3, 5, 7, 9],\n",
    "              'weights': ['uniform', 'distance']\n",
    "          }\n",
    "\n",
    "grid_knn = GridSearchCV(knn, param_grid = parameters, cv=3, refit=True)\n",
    "grid_knn.fit(X_train, y_train)\n",
    "\n",
    "knn = grid_knn.best_estimator_\n",
    "\n",
    "print(f\"최적 하이퍼 파라미터: {grid_knn.best_params_}\")\n",
    "print(f\"최고 예측 정확도: {grid_knn.best_score_:.4f}\")"
   ]
  },
  {
   "cell_type": "code",
   "execution_count": null,
   "metadata": {},
   "outputs": [],
   "source": [
    "# 5-2 knn 적용\n",
    "knn = KNeighborsClassifier()\n",
    "\n",
    "knn.fit(X_train, y_train)\n",
    "pred = knn.predict(X_test) \n",
    "\n",
    "acc = accuracy_score(y_test , pred)\n",
    "prec = precision_score(y_test , pred)\n",
    "rec = recall_score(y_test , pred)\n",
    "auc_score = roc_auc_score(y_test , pred)\n",
    "f1score = f1_score(y_test, pred)\n",
    "\n",
    "print(f'KNN 정확도 : {acc:.3f}')\n",
    "print(f'KNN 정밀도 : {prec:.3f}')\n",
    "print(f'KNN 재현율 : {rec:.3f}')\n",
    "print(f'KNN f1_score : {f1score:.3f}')\n",
    "print(f'KNN roc_auc : {auc_score:.3f}')"
   ]
  },
  {
   "cell_type": "code",
   "execution_count": 1,
   "metadata": {},
   "outputs": [
    {
     "ename": "NameError",
     "evalue": "name 'X_train' is not defined",
     "output_type": "error",
     "traceback": [
      "\u001b[1;31m---------------------------------------------------------------------------\u001b[0m",
      "\u001b[1;31mNameError\u001b[0m                                 Traceback (most recent call last)",
      "Cell \u001b[1;32mIn[1], line 11\u001b[0m\n\u001b[0;32m      4\u001b[0m xgb_model \u001b[38;5;241m=\u001b[39m XGBClassifier(n_estimators \u001b[38;5;241m=\u001b[39m \u001b[38;5;241m150\u001b[39m,\n\u001b[0;32m      5\u001b[0m                             learning_rate \u001b[38;5;241m=\u001b[39m \u001b[38;5;241m0.2\u001b[39m,\n\u001b[0;32m      6\u001b[0m                             max_depth \u001b[38;5;241m=\u001b[39m \u001b[38;5;241m10\u001b[39m,\n\u001b[0;32m      7\u001b[0m                             min_child_weight \u001b[38;5;241m=\u001b[39m \u001b[38;5;241m5\u001b[39m,\n\u001b[0;32m      8\u001b[0m                             gamma \u001b[38;5;241m=\u001b[39m \u001b[38;5;241m10\u001b[39m)\n\u001b[0;32m     10\u001b[0m \u001b[38;5;66;03m# fit\u001b[39;00m\n\u001b[1;32m---> 11\u001b[0m xgb_model\u001b[38;5;241m.\u001b[39mfit(\u001b[43mX_train\u001b[49m, y_train)\n\u001b[0;32m     13\u001b[0m \u001b[38;5;66;03m# 예측\u001b[39;00m\n\u001b[0;32m     14\u001b[0m y_pred \u001b[38;5;241m=\u001b[39m xgb_model\u001b[38;5;241m.\u001b[39mpredict(X_test)\n",
      "\u001b[1;31mNameError\u001b[0m: name 'X_train' is not defined"
     ]
    }
   ],
   "source": [
    "# 6. xgboost 를 이용한 학습\n",
    "from xgboost import XGBClassifier\n",
    "\n",
    "xgb_model = XGBClassifier(n_estimators = 150,\n",
    "                            learning_rate = 0.2,\n",
    "                            max_depth = 10,\n",
    "                            min_child_weight = 5,\n",
    "                            gamma = 10)\n",
    "\n",
    "# fit\n",
    "xgb_model.fit(X_train, y_train)\n",
    "\n",
    "# 예측\n",
    "y_pred = xgb_model.predict(X_test)\n",
    "\n",
    "\n",
    "# 모델 성능평가\n",
    "from sklearn.metrics import confusion_matrix\n",
    "cf_matrix = confusion_matrix(y_test, y_pred)\n",
    "\n",
    "acc = accuracy_score(y_test , pred)\n",
    "prec = precision_score(y_test , pred)\n",
    "rec = recall_score(y_test , pred)\n",
    "auc_score = roc_auc_score(y_test , pred)\n",
    "f1score = f1_score(y_test, pred)\n",
    "\n",
    "\n",
    "# score print\n",
    "print(f'xgboost 정확도 : {acc:.3f}')\n",
    "print(f'xgboost 정밀도 : {prec:.3f}')\n",
    "print(f'xgboost 재현율 : {rec:.3f}')\n",
    "print(f'xgboost f1_score : {f1score:.3f}')\n",
    "print(f'xgboost roc_auc : {auc_score:.3f}')"
   ]
  },
  {
   "cell_type": "code",
   "execution_count": null,
   "metadata": {},
   "outputs": [],
   "source": [
    "# 5. Lightgbm을 이용한 학습\n",
    "# 5-1. GridSearchCV를 적용해 Lightgbm의 교차검증 및 하이퍼파라미터 튜닝\n",
    "\n",
    "from lightgbm import LGBMClassifier\n",
    "lgbm= LGBMClassifier(n_estimators=1000, num_leaves=64, n_jobs=-1, boost_from_average=False, force_row_wise=True)\n",
    "evals = [(X_test, y_test)]\n",
    "lgbm.fit(X_train, y_train, eval_metric='logloss', eval_set=evals)\n",
    "\n",
    "lgbm.fit(X_train, y_train)\n",
    "pred = lgbm.predict(X_test)\n",
    "pred_proba = lgbm.predict_proba(X_test)[:,1]\n",
    "\n",
    "acc = accuracy_score(y_test , pred)\n",
    "prec = precision_score(y_test, pred)\n",
    "rec = recall_score(y_test , pred)\n",
    "auc_score = roc_auc_score(y_test , pred)\n",
    "f1score = f1_score(y_test, pred)\n",
    "\n",
    "print(f'lightgbm 정확도 : {acc:.3f}')\n",
    "print(f'lightgbm 정밀도 : {prec:.3f}')\n",
    "print(f'lightgbm 재현율 : {rec:.3f}')\n",
    "print(f'lightgbm f1_score : {f1score:.3f}')\n",
    "print(f'lightgbm roc_auc : {auc_score:.3f}')"
   ]
  },
  {
   "cell_type": "code",
   "execution_count": null,
   "metadata": {},
   "outputs": [],
   "source": [
    "# 산업군_직업, 산업군_직업2를 같이 돌리면 성능 떨어짐\n",
    "# 산업군_직업만 추가해서 돌리는게 더 나음"
   ]
  }
 ],
 "metadata": {
  "kernelspec": {
   "display_name": "Python 3",
   "language": "python",
   "name": "python3"
  },
  "language_info": {
   "codemirror_mode": {
    "name": "ipython",
    "version": 3
   },
   "file_extension": ".py",
   "mimetype": "text/x-python",
   "name": "python",
   "nbconvert_exporter": "python",
   "pygments_lexer": "ipython3",
   "version": "3.11.5"
  }
 },
 "nbformat": 4,
 "nbformat_minor": 2
}
