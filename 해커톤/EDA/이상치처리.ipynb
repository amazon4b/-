{
 "cells": [
  {
   "cell_type": "markdown",
   "metadata": {},
   "source": [
    "### 240102 데이터 전처리(이상치 제거)\n",
    "- 산업군, 직업 이상치 처리"
   ]
  },
  {
   "cell_type": "code",
   "execution_count": 6,
   "metadata": {},
   "outputs": [],
   "source": [
    "import pandas as pd\n",
    "import pandas as pd\n",
    "import numpy as np\n",
    "import matplotlib.pyplot as plt\n",
    "import seaborn as sns"
   ]
  },
  {
   "cell_type": "code",
   "execution_count": 7,
   "metadata": {},
   "outputs": [],
   "source": [
    "# 데이터 불러오기\n",
    "train_df = pd.read_csv('../datasets/data_con/train.csv')"
   ]
  },
  {
   "cell_type": "code",
   "execution_count": 8,
   "metadata": {},
   "outputs": [
    {
     "data": {
      "text/html": [
       "<div>\n",
       "<style scoped>\n",
       "    .dataframe tbody tr th:only-of-type {\n",
       "        vertical-align: middle;\n",
       "    }\n",
       "\n",
       "    .dataframe tbody tr th {\n",
       "        vertical-align: top;\n",
       "    }\n",
       "\n",
       "    .dataframe thead th {\n",
       "        text-align: right;\n",
       "    }\n",
       "</style>\n",
       "<table border=\"1\" class=\"dataframe\">\n",
       "  <thead>\n",
       "    <tr style=\"text-align: right;\">\n",
       "      <th></th>\n",
       "      <th>ID</th>\n",
       "      <th>TARGET</th>\n",
       "      <th>성별</th>\n",
       "      <th>차량 소유 여부</th>\n",
       "      <th>부동산 소유 여부</th>\n",
       "      <th>자녀 수</th>\n",
       "      <th>연간 수입</th>\n",
       "      <th>수입 유형</th>\n",
       "      <th>최종 학력</th>\n",
       "      <th>결혼 여부</th>\n",
       "      <th>...</th>\n",
       "      <th>거주지 인구 비율</th>\n",
       "      <th>휴대전화 소유 여부</th>\n",
       "      <th>업무용 휴대전화 소유 여부</th>\n",
       "      <th>이메일 소유 여부</th>\n",
       "      <th>직업</th>\n",
       "      <th>가족 구성원 수</th>\n",
       "      <th>산업군</th>\n",
       "      <th>나이</th>\n",
       "      <th>근속연수</th>\n",
       "      <th>가입연수</th>\n",
       "    </tr>\n",
       "  </thead>\n",
       "  <tbody>\n",
       "    <tr>\n",
       "      <th>0</th>\n",
       "      <td>TRAIN_00000</td>\n",
       "      <td>0</td>\n",
       "      <td>여성</td>\n",
       "      <td>1</td>\n",
       "      <td>1</td>\n",
       "      <td>2</td>\n",
       "      <td>18054000.0</td>\n",
       "      <td>연금수령자</td>\n",
       "      <td>고등학교 졸업</td>\n",
       "      <td>기혼</td>\n",
       "      <td>...</td>\n",
       "      <td>0.00496</td>\n",
       "      <td>1</td>\n",
       "      <td>0</td>\n",
       "      <td>0</td>\n",
       "      <td>Unknown</td>\n",
       "      <td>4.0</td>\n",
       "      <td>기타 1</td>\n",
       "      <td>39</td>\n",
       "      <td>1000</td>\n",
       "      <td>23.0</td>\n",
       "    </tr>\n",
       "  </tbody>\n",
       "</table>\n",
       "<p>1 rows × 21 columns</p>\n",
       "</div>"
      ],
      "text/plain": [
       "            ID  TARGET  성별  차량 소유 여부  부동산 소유 여부  자녀 수       연간 수입  수입 유형  \\\n",
       "0  TRAIN_00000       0  여성         1          1     2  18054000.0  연금수령자   \n",
       "\n",
       "     최종 학력 결혼 여부  ... 거주지 인구 비율  휴대전화 소유 여부  업무용 휴대전화 소유 여부  이메일 소유 여부  \\\n",
       "0  고등학교 졸업    기혼  ...   0.00496           1               0          0   \n",
       "\n",
       "        직업 가족 구성원 수   산업군  나이  근속연수  가입연수  \n",
       "0  Unknown      4.0  기타 1  39  1000  23.0  \n",
       "\n",
       "[1 rows x 21 columns]"
      ]
     },
     "execution_count": 8,
     "metadata": {},
     "output_type": "execute_result"
    }
   ],
   "source": [
    "train_df.head(1)"
   ]
  },
  {
   "cell_type": "code",
   "execution_count": 9,
   "metadata": {},
   "outputs": [],
   "source": [
    "train_copy = train_df.copy()"
   ]
  },
  {
   "cell_type": "markdown",
   "metadata": {},
   "source": [
    "#### 데이터 전처리\n",
    "- 산업군 컬럼 이상치 처리"
   ]
  },
  {
   "cell_type": "code",
   "execution_count": 10,
   "metadata": {},
   "outputs": [
    {
     "data": {
      "text/html": [
       "<div>\n",
       "<style scoped>\n",
       "    .dataframe tbody tr th:only-of-type {\n",
       "        vertical-align: middle;\n",
       "    }\n",
       "\n",
       "    .dataframe tbody tr th {\n",
       "        vertical-align: top;\n",
       "    }\n",
       "\n",
       "    .dataframe thead th {\n",
       "        text-align: right;\n",
       "    }\n",
       "</style>\n",
       "<table border=\"1\" class=\"dataframe\">\n",
       "  <thead>\n",
       "    <tr style=\"text-align: right;\">\n",
       "      <th></th>\n",
       "      <th>ID</th>\n",
       "      <th>TARGET</th>\n",
       "      <th>성별</th>\n",
       "      <th>차량 소유 여부</th>\n",
       "      <th>부동산 소유 여부</th>\n",
       "      <th>자녀 수</th>\n",
       "      <th>연간 수입</th>\n",
       "      <th>수입 유형</th>\n",
       "      <th>최종 학력</th>\n",
       "      <th>결혼 여부</th>\n",
       "      <th>...</th>\n",
       "      <th>거주지 인구 비율</th>\n",
       "      <th>휴대전화 소유 여부</th>\n",
       "      <th>업무용 휴대전화 소유 여부</th>\n",
       "      <th>이메일 소유 여부</th>\n",
       "      <th>직업</th>\n",
       "      <th>가족 구성원 수</th>\n",
       "      <th>산업군</th>\n",
       "      <th>나이</th>\n",
       "      <th>근속연수</th>\n",
       "      <th>가입연수</th>\n",
       "    </tr>\n",
       "  </thead>\n",
       "  <tbody>\n",
       "    <tr>\n",
       "      <th>1</th>\n",
       "      <td>TRAIN_00001</td>\n",
       "      <td>0</td>\n",
       "      <td>남성</td>\n",
       "      <td>1</td>\n",
       "      <td>0</td>\n",
       "      <td>0</td>\n",
       "      <td>59472000.0</td>\n",
       "      <td>근로자</td>\n",
       "      <td>대학교 졸업 이상</td>\n",
       "      <td>기혼</td>\n",
       "      <td>...</td>\n",
       "      <td>0.018029</td>\n",
       "      <td>1</td>\n",
       "      <td>1</td>\n",
       "      <td>0</td>\n",
       "      <td>기술직</td>\n",
       "      <td>2.0</td>\n",
       "      <td>사업 1</td>\n",
       "      <td>45</td>\n",
       "      <td>4</td>\n",
       "      <td>16.0</td>\n",
       "    </tr>\n",
       "    <tr>\n",
       "      <th>2</th>\n",
       "      <td>TRAIN_00002</td>\n",
       "      <td>0</td>\n",
       "      <td>여성</td>\n",
       "      <td>0</td>\n",
       "      <td>1</td>\n",
       "      <td>0</td>\n",
       "      <td>29736000.0</td>\n",
       "      <td>근로자</td>\n",
       "      <td>고등학교 졸업</td>\n",
       "      <td>기혼</td>\n",
       "      <td>...</td>\n",
       "      <td>0.010500</td>\n",
       "      <td>1</td>\n",
       "      <td>1</td>\n",
       "      <td>0</td>\n",
       "      <td>단순 노동자</td>\n",
       "      <td>2.0</td>\n",
       "      <td>사업 0</td>\n",
       "      <td>32</td>\n",
       "      <td>3</td>\n",
       "      <td>9.0</td>\n",
       "    </tr>\n",
       "    <tr>\n",
       "      <th>4</th>\n",
       "      <td>TRAIN_00004</td>\n",
       "      <td>0</td>\n",
       "      <td>여성</td>\n",
       "      <td>0</td>\n",
       "      <td>1</td>\n",
       "      <td>0</td>\n",
       "      <td>26550000.0</td>\n",
       "      <td>근로자</td>\n",
       "      <td>고등학교 졸업</td>\n",
       "      <td>기혼</td>\n",
       "      <td>...</td>\n",
       "      <td>0.025164</td>\n",
       "      <td>1</td>\n",
       "      <td>1</td>\n",
       "      <td>0</td>\n",
       "      <td>Unknown</td>\n",
       "      <td>2.0</td>\n",
       "      <td>사업 2</td>\n",
       "      <td>38</td>\n",
       "      <td>0</td>\n",
       "      <td>4.0</td>\n",
       "    </tr>\n",
       "    <tr>\n",
       "      <th>6</th>\n",
       "      <td>TRAIN_00006</td>\n",
       "      <td>0</td>\n",
       "      <td>여성</td>\n",
       "      <td>0</td>\n",
       "      <td>1</td>\n",
       "      <td>0</td>\n",
       "      <td>37170000.0</td>\n",
       "      <td>근로자</td>\n",
       "      <td>고등학교 졸업</td>\n",
       "      <td>미혼</td>\n",
       "      <td>...</td>\n",
       "      <td>0.011657</td>\n",
       "      <td>1</td>\n",
       "      <td>1</td>\n",
       "      <td>0</td>\n",
       "      <td>단순 노동자</td>\n",
       "      <td>1.0</td>\n",
       "      <td>사업 2</td>\n",
       "      <td>52</td>\n",
       "      <td>8</td>\n",
       "      <td>23.0</td>\n",
       "    </tr>\n",
       "    <tr>\n",
       "      <th>7</th>\n",
       "      <td>TRAIN_00007</td>\n",
       "      <td>0</td>\n",
       "      <td>남성</td>\n",
       "      <td>1</td>\n",
       "      <td>1</td>\n",
       "      <td>1</td>\n",
       "      <td>42480000.0</td>\n",
       "      <td>기타</td>\n",
       "      <td>고등학교 졸업</td>\n",
       "      <td>기혼</td>\n",
       "      <td>...</td>\n",
       "      <td>0.009630</td>\n",
       "      <td>1</td>\n",
       "      <td>1</td>\n",
       "      <td>0</td>\n",
       "      <td>기술직</td>\n",
       "      <td>3.0</td>\n",
       "      <td>사업 2</td>\n",
       "      <td>46</td>\n",
       "      <td>8</td>\n",
       "      <td>13.0</td>\n",
       "    </tr>\n",
       "    <tr>\n",
       "      <th>...</th>\n",
       "      <td>...</td>\n",
       "      <td>...</td>\n",
       "      <td>...</td>\n",
       "      <td>...</td>\n",
       "      <td>...</td>\n",
       "      <td>...</td>\n",
       "      <td>...</td>\n",
       "      <td>...</td>\n",
       "      <td>...</td>\n",
       "      <td>...</td>\n",
       "      <td>...</td>\n",
       "      <td>...</td>\n",
       "      <td>...</td>\n",
       "      <td>...</td>\n",
       "      <td>...</td>\n",
       "      <td>...</td>\n",
       "      <td>...</td>\n",
       "      <td>...</td>\n",
       "      <td>...</td>\n",
       "      <td>...</td>\n",
       "      <td>...</td>\n",
       "    </tr>\n",
       "    <tr>\n",
       "      <th>59965</th>\n",
       "      <td>TRAIN_59965</td>\n",
       "      <td>0</td>\n",
       "      <td>여성</td>\n",
       "      <td>0</td>\n",
       "      <td>1</td>\n",
       "      <td>0</td>\n",
       "      <td>37170000.0</td>\n",
       "      <td>기타</td>\n",
       "      <td>대학교 중퇴</td>\n",
       "      <td>기혼</td>\n",
       "      <td>...</td>\n",
       "      <td>0.072508</td>\n",
       "      <td>1</td>\n",
       "      <td>1</td>\n",
       "      <td>0</td>\n",
       "      <td>Unknown</td>\n",
       "      <td>2.0</td>\n",
       "      <td>사업 1</td>\n",
       "      <td>29</td>\n",
       "      <td>0</td>\n",
       "      <td>11.0</td>\n",
       "    </tr>\n",
       "    <tr>\n",
       "      <th>59968</th>\n",
       "      <td>TRAIN_59968</td>\n",
       "      <td>0</td>\n",
       "      <td>남성</td>\n",
       "      <td>1</td>\n",
       "      <td>1</td>\n",
       "      <td>0</td>\n",
       "      <td>69030000.0</td>\n",
       "      <td>기타</td>\n",
       "      <td>대학교 졸업 이상</td>\n",
       "      <td>기혼</td>\n",
       "      <td>...</td>\n",
       "      <td>0.072508</td>\n",
       "      <td>1</td>\n",
       "      <td>1</td>\n",
       "      <td>0</td>\n",
       "      <td>요식업 종사자</td>\n",
       "      <td>2.0</td>\n",
       "      <td>사업 2</td>\n",
       "      <td>21</td>\n",
       "      <td>2</td>\n",
       "      <td>20.0</td>\n",
       "    </tr>\n",
       "    <tr>\n",
       "      <th>59970</th>\n",
       "      <td>TRAIN_59970</td>\n",
       "      <td>0</td>\n",
       "      <td>남성</td>\n",
       "      <td>0</td>\n",
       "      <td>1</td>\n",
       "      <td>0</td>\n",
       "      <td>42480000.0</td>\n",
       "      <td>근로자</td>\n",
       "      <td>고등학교 졸업</td>\n",
       "      <td>기혼</td>\n",
       "      <td>...</td>\n",
       "      <td>0.028663</td>\n",
       "      <td>1</td>\n",
       "      <td>1</td>\n",
       "      <td>0</td>\n",
       "      <td>운전자</td>\n",
       "      <td>2.0</td>\n",
       "      <td>사업 0</td>\n",
       "      <td>46</td>\n",
       "      <td>12</td>\n",
       "      <td>4.0</td>\n",
       "    </tr>\n",
       "    <tr>\n",
       "      <th>59982</th>\n",
       "      <td>TRAIN_59982</td>\n",
       "      <td>0</td>\n",
       "      <td>남성</td>\n",
       "      <td>0</td>\n",
       "      <td>0</td>\n",
       "      <td>0</td>\n",
       "      <td>42480000.0</td>\n",
       "      <td>근로자</td>\n",
       "      <td>고등학교 졸업</td>\n",
       "      <td>미혼</td>\n",
       "      <td>...</td>\n",
       "      <td>0.046220</td>\n",
       "      <td>1</td>\n",
       "      <td>1</td>\n",
       "      <td>1</td>\n",
       "      <td>운전자</td>\n",
       "      <td>1.0</td>\n",
       "      <td>사업 1</td>\n",
       "      <td>30</td>\n",
       "      <td>0</td>\n",
       "      <td>16.0</td>\n",
       "    </tr>\n",
       "    <tr>\n",
       "      <th>59992</th>\n",
       "      <td>TRAIN_59992</td>\n",
       "      <td>0</td>\n",
       "      <td>남성</td>\n",
       "      <td>1</td>\n",
       "      <td>1</td>\n",
       "      <td>1</td>\n",
       "      <td>53100000.0</td>\n",
       "      <td>근로자</td>\n",
       "      <td>고등학교 졸업</td>\n",
       "      <td>기혼</td>\n",
       "      <td>...</td>\n",
       "      <td>0.020713</td>\n",
       "      <td>1</td>\n",
       "      <td>1</td>\n",
       "      <td>0</td>\n",
       "      <td>단순 노동자</td>\n",
       "      <td>3.0</td>\n",
       "      <td>사업 0</td>\n",
       "      <td>33</td>\n",
       "      <td>7</td>\n",
       "      <td>15.0</td>\n",
       "    </tr>\n",
       "  </tbody>\n",
       "</table>\n",
       "<p>16343 rows × 21 columns</p>\n",
       "</div>"
      ],
      "text/plain": [
       "                ID  TARGET  성별  차량 소유 여부  부동산 소유 여부  자녀 수       연간 수입 수입 유형  \\\n",
       "1      TRAIN_00001       0  남성         1          0     0  59472000.0   근로자   \n",
       "2      TRAIN_00002       0  여성         0          1     0  29736000.0   근로자   \n",
       "4      TRAIN_00004       0  여성         0          1     0  26550000.0   근로자   \n",
       "6      TRAIN_00006       0  여성         0          1     0  37170000.0   근로자   \n",
       "7      TRAIN_00007       0  남성         1          1     1  42480000.0    기타   \n",
       "...            ...     ...  ..       ...        ...   ...         ...   ...   \n",
       "59965  TRAIN_59965       0  여성         0          1     0  37170000.0    기타   \n",
       "59968  TRAIN_59968       0  남성         1          1     0  69030000.0    기타   \n",
       "59970  TRAIN_59970       0  남성         0          1     0  42480000.0   근로자   \n",
       "59982  TRAIN_59982       0  남성         0          0     0  42480000.0   근로자   \n",
       "59992  TRAIN_59992       0  남성         1          1     1  53100000.0   근로자   \n",
       "\n",
       "           최종 학력 결혼 여부  ... 거주지 인구 비율  휴대전화 소유 여부  업무용 휴대전화 소유 여부  이메일 소유 여부  \\\n",
       "1      대학교 졸업 이상    기혼  ...  0.018029           1               1          0   \n",
       "2        고등학교 졸업    기혼  ...  0.010500           1               1          0   \n",
       "4        고등학교 졸업    기혼  ...  0.025164           1               1          0   \n",
       "6        고등학교 졸업    미혼  ...  0.011657           1               1          0   \n",
       "7        고등학교 졸업    기혼  ...  0.009630           1               1          0   \n",
       "...          ...   ...  ...       ...         ...             ...        ...   \n",
       "59965     대학교 중퇴    기혼  ...  0.072508           1               1          0   \n",
       "59968  대학교 졸업 이상    기혼  ...  0.072508           1               1          0   \n",
       "59970    고등학교 졸업    기혼  ...  0.028663           1               1          0   \n",
       "59982    고등학교 졸업    미혼  ...  0.046220           1               1          1   \n",
       "59992    고등학교 졸업    기혼  ...  0.020713           1               1          0   \n",
       "\n",
       "            직업 가족 구성원 수   산업군  나이  근속연수  가입연수  \n",
       "1          기술직      2.0  사업 1  45     4  16.0  \n",
       "2       단순 노동자      2.0  사업 0  32     3   9.0  \n",
       "4      Unknown      2.0  사업 2  38     0   4.0  \n",
       "6       단순 노동자      1.0  사업 2  52     8  23.0  \n",
       "7          기술직      3.0  사업 2  46     8  13.0  \n",
       "...        ...      ...   ...  ..   ...   ...  \n",
       "59965  Unknown      2.0  사업 1  29     0  11.0  \n",
       "59968  요식업 종사자      2.0  사업 2  21     2  20.0  \n",
       "59970      운전자      2.0  사업 0  46    12   4.0  \n",
       "59982      운전자      1.0  사업 1  30     0  16.0  \n",
       "59992   단순 노동자      3.0  사업 0  33     7  15.0  \n",
       "\n",
       "[16343 rows x 21 columns]"
      ]
     },
     "execution_count": 10,
     "metadata": {},
     "output_type": "execute_result"
    }
   ],
   "source": [
    "# 앞글자가 사업인 행들만 뽑아내기\n",
    "train_df[train_df['산업군'].str[:2]=='사업']"
   ]
  },
  {
   "cell_type": "code",
   "execution_count": 11,
   "metadata": {},
   "outputs": [],
   "source": [
    "# 사업 0,1 ..데이터들을 모두 사업으로 통일\n",
    "train_copy.loc[train_copy['산업군'].str[:2] == '사업', '산업군'] = '사업'"
   ]
  },
  {
   "cell_type": "code",
   "execution_count": 12,
   "metadata": {},
   "outputs": [],
   "source": [
    "# 기타 0,1 데이터들을 모두 기타으로 통일\n",
    "train_copy.loc[train_copy['산업군'].str[:2] == '기타', '산업군'] = '기타'"
   ]
  },
  {
   "cell_type": "code",
   "execution_count": 13,
   "metadata": {},
   "outputs": [],
   "source": [
    "# 무역 0,1,..,6 데이터들을 모두 무역으로 통일\n",
    "train_copy.loc[train_copy['산업군'].str[:2] == '무역', '산업군'] = '무역'"
   ]
  },
  {
   "cell_type": "code",
   "execution_count": 14,
   "metadata": {},
   "outputs": [
    {
     "data": {
      "text/plain": [
       "2666"
      ]
     },
     "execution_count": 14,
     "metadata": {},
     "output_type": "execute_result"
    }
   ],
   "source": [
    "# 산업군 컬럼 내에서 무역 개수\n",
    "train_copy[train_copy['산업군'].str.contains('무역')].shape[0]"
   ]
  },
  {
   "cell_type": "code",
   "execution_count": 15,
   "metadata": {},
   "outputs": [],
   "source": [
    "# 산업 0,1,..,12 데이터들을 모두 산업으로 통일\n",
    "train_copy.loc[train_copy['산업군'].str[:2] == '산업', '산업군'] = '산업'"
   ]
  },
  {
   "cell_type": "code",
   "execution_count": 16,
   "metadata": {},
   "outputs": [],
   "source": [
    "# 운송 0,1,..,3 데이터들을 모두 운송으로 통일\n",
    "train_copy.loc[train_copy['산업군'].str[:2] == '운송', '산업군'] = '운송'"
   ]
  },
  {
   "cell_type": "code",
   "execution_count": 17,
   "metadata": {},
   "outputs": [
    {
     "name": "stdout",
     "output_type": "stream",
     "text": [
      "산업군\n",
      "사업         16343\n",
      "기타         14467\n",
      "자영업         7549\n",
      "산업          2715\n",
      "무역          2666\n",
      "의학          2181\n",
      "정부          2021\n",
      "운송          1755\n",
      "학교          1731\n",
      "건설          1376\n",
      "유치원         1339\n",
      "보안           674\n",
      "주택           575\n",
      "군대           508\n",
      "농업           494\n",
      "은행           466\n",
      "경찰           435\n",
      "우체부          424\n",
      "국가 안보        383\n",
      "레스토랑         344\n",
      "서비스          291\n",
      "대학교          269\n",
      "호텔           187\n",
      "전기           173\n",
      "보험           122\n",
      "통신           101\n",
      "부동산 중개업       80\n",
      "문화            79\n",
      "광고            72\n",
      "모바일           60\n",
      "법률 서비스        56\n",
      "환경            48\n",
      "종교            16\n",
      "Name: count, dtype: int64\n"
     ]
    }
   ],
   "source": [
    "# '산업군' 컬럼의 데이터 구성 확인\n",
    "print(train_copy['산업군'].value_counts())"
   ]
  },
  {
   "cell_type": "code",
   "execution_count": 18,
   "metadata": {},
   "outputs": [
    {
     "name": "stderr",
     "output_type": "stream",
     "text": [
      "C:\\Users\\gusdk\\AppData\\Local\\Temp\\ipykernel_1332\\526402274.py:6: FutureWarning: \n",
      "\n",
      "Passing `palette` without assigning `hue` is deprecated and will be removed in v0.14.0. Assign the `x` variable to `hue` and set `legend=False` for the same effect.\n",
      "\n",
      "  sns.barplot(x=industry_counts.index, y=industry_counts.values, palette='viridis')\n"
     ]
    },
    {
     "data": {
      "image/png": "[encoded data removed]",
      "text/plain": [
       "<Figure size 800x600 with 1 Axes>"
      ]
     },
     "metadata": {},
     "output_type": "display_data"
    }
   ],
   "source": [
    "# '산업군' 컬럼의 데이터 비중을 시각화\n",
    "plt.rcParams['font.family'] = 'Malgun Gothic'\n",
    "\n",
    "industry_counts = train_copy['산업군'].value_counts(normalize=True)\n",
    "plt.figure(figsize=(8, 6))\n",
    "sns.barplot(x=industry_counts.index, y=industry_counts.values, palette='viridis')\n",
    "plt.xlabel('산업군')\n",
    "plt.ylabel('비중')\n",
    "plt.title('산업군 데이터 비중')\n",
    "plt.xticks(rotation=45)  # x축 레이블 회전\n",
    "plt.tight_layout()\n",
    "plt.show()"
   ]
  },
  {
   "cell_type": "markdown",
   "metadata": {},
   "source": [
    "- 직업 컬럼 이상치 제거"
   ]
  },
  {
   "cell_type": "code",
   "execution_count": 19,
   "metadata": {},
   "outputs": [
    {
     "data": {
      "text/html": [
       "<div>\n",
       "<style scoped>\n",
       "    .dataframe tbody tr th:only-of-type {\n",
       "        vertical-align: middle;\n",
       "    }\n",
       "\n",
       "    .dataframe tbody tr th {\n",
       "        vertical-align: top;\n",
       "    }\n",
       "\n",
       "    .dataframe thead th {\n",
       "        text-align: right;\n",
       "    }\n",
       "</style>\n",
       "<table border=\"1\" class=\"dataframe\">\n",
       "  <thead>\n",
       "    <tr style=\"text-align: right;\">\n",
       "      <th></th>\n",
       "      <th>ID</th>\n",
       "      <th>TARGET</th>\n",
       "      <th>성별</th>\n",
       "      <th>차량 소유 여부</th>\n",
       "      <th>부동산 소유 여부</th>\n",
       "      <th>자녀 수</th>\n",
       "      <th>연간 수입</th>\n",
       "      <th>수입 유형</th>\n",
       "      <th>최종 학력</th>\n",
       "      <th>결혼 여부</th>\n",
       "      <th>...</th>\n",
       "      <th>거주지 인구 비율</th>\n",
       "      <th>휴대전화 소유 여부</th>\n",
       "      <th>업무용 휴대전화 소유 여부</th>\n",
       "      <th>이메일 소유 여부</th>\n",
       "      <th>직업</th>\n",
       "      <th>가족 구성원 수</th>\n",
       "      <th>산업군</th>\n",
       "      <th>나이</th>\n",
       "      <th>근속연수</th>\n",
       "      <th>가입연수</th>\n",
       "    </tr>\n",
       "  </thead>\n",
       "  <tbody>\n",
       "    <tr>\n",
       "      <th>0</th>\n",
       "      <td>TRAIN_00000</td>\n",
       "      <td>0</td>\n",
       "      <td>여성</td>\n",
       "      <td>1</td>\n",
       "      <td>1</td>\n",
       "      <td>2</td>\n",
       "      <td>18054000.0</td>\n",
       "      <td>연금수령자</td>\n",
       "      <td>고등학교 졸업</td>\n",
       "      <td>기혼</td>\n",
       "      <td>...</td>\n",
       "      <td>0.004960</td>\n",
       "      <td>1</td>\n",
       "      <td>0</td>\n",
       "      <td>0</td>\n",
       "      <td>Unknown</td>\n",
       "      <td>4.0</td>\n",
       "      <td>기타</td>\n",
       "      <td>39</td>\n",
       "      <td>1000</td>\n",
       "      <td>23.0</td>\n",
       "    </tr>\n",
       "    <tr>\n",
       "      <th>3</th>\n",
       "      <td>TRAIN_00003</td>\n",
       "      <td>0</td>\n",
       "      <td>여성</td>\n",
       "      <td>1</td>\n",
       "      <td>0</td>\n",
       "      <td>1</td>\n",
       "      <td>38232000.0</td>\n",
       "      <td>기타</td>\n",
       "      <td>고등학교 졸업</td>\n",
       "      <td>기혼</td>\n",
       "      <td>...</td>\n",
       "      <td>0.004849</td>\n",
       "      <td>1</td>\n",
       "      <td>1</td>\n",
       "      <td>0</td>\n",
       "      <td>Unknown</td>\n",
       "      <td>3.0</td>\n",
       "      <td>산업</td>\n",
       "      <td>34</td>\n",
       "      <td>6</td>\n",
       "      <td>12.0</td>\n",
       "    </tr>\n",
       "    <tr>\n",
       "      <th>4</th>\n",
       "      <td>TRAIN_00004</td>\n",
       "      <td>0</td>\n",
       "      <td>여성</td>\n",
       "      <td>0</td>\n",
       "      <td>1</td>\n",
       "      <td>0</td>\n",
       "      <td>26550000.0</td>\n",
       "      <td>근로자</td>\n",
       "      <td>고등학교 졸업</td>\n",
       "      <td>기혼</td>\n",
       "      <td>...</td>\n",
       "      <td>0.025164</td>\n",
       "      <td>1</td>\n",
       "      <td>1</td>\n",
       "      <td>0</td>\n",
       "      <td>Unknown</td>\n",
       "      <td>2.0</td>\n",
       "      <td>사업</td>\n",
       "      <td>38</td>\n",
       "      <td>0</td>\n",
       "      <td>4.0</td>\n",
       "    </tr>\n",
       "    <tr>\n",
       "      <th>10</th>\n",
       "      <td>TRAIN_00010</td>\n",
       "      <td>0</td>\n",
       "      <td>여성</td>\n",
       "      <td>0</td>\n",
       "      <td>1</td>\n",
       "      <td>0</td>\n",
       "      <td>30798000.0</td>\n",
       "      <td>연금수령자</td>\n",
       "      <td>고등학교 졸업</td>\n",
       "      <td>기혼</td>\n",
       "      <td>...</td>\n",
       "      <td>0.006671</td>\n",
       "      <td>1</td>\n",
       "      <td>0</td>\n",
       "      <td>0</td>\n",
       "      <td>Unknown</td>\n",
       "      <td>2.0</td>\n",
       "      <td>기타</td>\n",
       "      <td>61</td>\n",
       "      <td>1000</td>\n",
       "      <td>8.0</td>\n",
       "    </tr>\n",
       "    <tr>\n",
       "      <th>12</th>\n",
       "      <td>TRAIN_00012</td>\n",
       "      <td>1</td>\n",
       "      <td>여성</td>\n",
       "      <td>0</td>\n",
       "      <td>1</td>\n",
       "      <td>1</td>\n",
       "      <td>10620000.0</td>\n",
       "      <td>근로자</td>\n",
       "      <td>고등학교 졸업</td>\n",
       "      <td>기혼</td>\n",
       "      <td>...</td>\n",
       "      <td>0.009175</td>\n",
       "      <td>1</td>\n",
       "      <td>1</td>\n",
       "      <td>0</td>\n",
       "      <td>Unknown</td>\n",
       "      <td>3.0</td>\n",
       "      <td>학교</td>\n",
       "      <td>43</td>\n",
       "      <td>2</td>\n",
       "      <td>6.0</td>\n",
       "    </tr>\n",
       "    <tr>\n",
       "      <th>...</th>\n",
       "      <td>...</td>\n",
       "      <td>...</td>\n",
       "      <td>...</td>\n",
       "      <td>...</td>\n",
       "      <td>...</td>\n",
       "      <td>...</td>\n",
       "      <td>...</td>\n",
       "      <td>...</td>\n",
       "      <td>...</td>\n",
       "      <td>...</td>\n",
       "      <td>...</td>\n",
       "      <td>...</td>\n",
       "      <td>...</td>\n",
       "      <td>...</td>\n",
       "      <td>...</td>\n",
       "      <td>...</td>\n",
       "      <td>...</td>\n",
       "      <td>...</td>\n",
       "      <td>...</td>\n",
       "      <td>...</td>\n",
       "      <td>...</td>\n",
       "    </tr>\n",
       "    <tr>\n",
       "      <th>59986</th>\n",
       "      <td>TRAIN_59986</td>\n",
       "      <td>0</td>\n",
       "      <td>여성</td>\n",
       "      <td>0</td>\n",
       "      <td>1</td>\n",
       "      <td>0</td>\n",
       "      <td>26550000.0</td>\n",
       "      <td>연금수령자</td>\n",
       "      <td>고등학교 졸업</td>\n",
       "      <td>사별</td>\n",
       "      <td>...</td>\n",
       "      <td>0.035792</td>\n",
       "      <td>1</td>\n",
       "      <td>0</td>\n",
       "      <td>0</td>\n",
       "      <td>Unknown</td>\n",
       "      <td>1.0</td>\n",
       "      <td>기타</td>\n",
       "      <td>67</td>\n",
       "      <td>1000</td>\n",
       "      <td>21.0</td>\n",
       "    </tr>\n",
       "    <tr>\n",
       "      <th>59989</th>\n",
       "      <td>TRAIN_59989</td>\n",
       "      <td>0</td>\n",
       "      <td>여성</td>\n",
       "      <td>0</td>\n",
       "      <td>0</td>\n",
       "      <td>0</td>\n",
       "      <td>58410000.0</td>\n",
       "      <td>근로자</td>\n",
       "      <td>고등학교 졸업</td>\n",
       "      <td>사실혼</td>\n",
       "      <td>...</td>\n",
       "      <td>0.018634</td>\n",
       "      <td>1</td>\n",
       "      <td>1</td>\n",
       "      <td>0</td>\n",
       "      <td>Unknown</td>\n",
       "      <td>2.0</td>\n",
       "      <td>기타</td>\n",
       "      <td>46</td>\n",
       "      <td>8</td>\n",
       "      <td>1.0</td>\n",
       "    </tr>\n",
       "    <tr>\n",
       "      <th>59991</th>\n",
       "      <td>TRAIN_59991</td>\n",
       "      <td>0</td>\n",
       "      <td>여성</td>\n",
       "      <td>0</td>\n",
       "      <td>1</td>\n",
       "      <td>0</td>\n",
       "      <td>47790000.0</td>\n",
       "      <td>연금수령자</td>\n",
       "      <td>고등학교 졸업</td>\n",
       "      <td>기혼</td>\n",
       "      <td>...</td>\n",
       "      <td>0.007305</td>\n",
       "      <td>1</td>\n",
       "      <td>0</td>\n",
       "      <td>0</td>\n",
       "      <td>Unknown</td>\n",
       "      <td>2.0</td>\n",
       "      <td>기타</td>\n",
       "      <td>56</td>\n",
       "      <td>1000</td>\n",
       "      <td>4.0</td>\n",
       "    </tr>\n",
       "    <tr>\n",
       "      <th>59995</th>\n",
       "      <td>TRAIN_59995</td>\n",
       "      <td>0</td>\n",
       "      <td>여성</td>\n",
       "      <td>0</td>\n",
       "      <td>1</td>\n",
       "      <td>0</td>\n",
       "      <td>15930000.0</td>\n",
       "      <td>연금수령자</td>\n",
       "      <td>고등학교 졸업</td>\n",
       "      <td>미혼</td>\n",
       "      <td>...</td>\n",
       "      <td>0.014520</td>\n",
       "      <td>1</td>\n",
       "      <td>0</td>\n",
       "      <td>0</td>\n",
       "      <td>Unknown</td>\n",
       "      <td>1.0</td>\n",
       "      <td>기타</td>\n",
       "      <td>60</td>\n",
       "      <td>1000</td>\n",
       "      <td>29.0</td>\n",
       "    </tr>\n",
       "    <tr>\n",
       "      <th>59997</th>\n",
       "      <td>TRAIN_59997</td>\n",
       "      <td>1</td>\n",
       "      <td>여성</td>\n",
       "      <td>0</td>\n",
       "      <td>0</td>\n",
       "      <td>0</td>\n",
       "      <td>47790000.0</td>\n",
       "      <td>근로자</td>\n",
       "      <td>대학교 졸업 이상</td>\n",
       "      <td>미혼</td>\n",
       "      <td>...</td>\n",
       "      <td>0.019101</td>\n",
       "      <td>1</td>\n",
       "      <td>1</td>\n",
       "      <td>0</td>\n",
       "      <td>Unknown</td>\n",
       "      <td>1.0</td>\n",
       "      <td>은행</td>\n",
       "      <td>26</td>\n",
       "      <td>1</td>\n",
       "      <td>7.0</td>\n",
       "    </tr>\n",
       "  </tbody>\n",
       "</table>\n",
       "<p>19035 rows × 21 columns</p>\n",
       "</div>"
      ],
      "text/plain": [
       "                ID  TARGET  성별  차량 소유 여부  부동산 소유 여부  자녀 수       연간 수입  수입 유형  \\\n",
       "0      TRAIN_00000       0  여성         1          1     2  18054000.0  연금수령자   \n",
       "3      TRAIN_00003       0  여성         1          0     1  38232000.0     기타   \n",
       "4      TRAIN_00004       0  여성         0          1     0  26550000.0    근로자   \n",
       "10     TRAIN_00010       0  여성         0          1     0  30798000.0  연금수령자   \n",
       "12     TRAIN_00012       1  여성         0          1     1  10620000.0    근로자   \n",
       "...            ...     ...  ..       ...        ...   ...         ...    ...   \n",
       "59986  TRAIN_59986       0  여성         0          1     0  26550000.0  연금수령자   \n",
       "59989  TRAIN_59989       0  여성         0          0     0  58410000.0    근로자   \n",
       "59991  TRAIN_59991       0  여성         0          1     0  47790000.0  연금수령자   \n",
       "59995  TRAIN_59995       0  여성         0          1     0  15930000.0  연금수령자   \n",
       "59997  TRAIN_59997       1  여성         0          0     0  47790000.0    근로자   \n",
       "\n",
       "           최종 학력 결혼 여부  ... 거주지 인구 비율  휴대전화 소유 여부  업무용 휴대전화 소유 여부  이메일 소유 여부  \\\n",
       "0        고등학교 졸업    기혼  ...  0.004960           1               0          0   \n",
       "3        고등학교 졸업    기혼  ...  0.004849           1               1          0   \n",
       "4        고등학교 졸업    기혼  ...  0.025164           1               1          0   \n",
       "10       고등학교 졸업    기혼  ...  0.006671           1               0          0   \n",
       "12       고등학교 졸업    기혼  ...  0.009175           1               1          0   \n",
       "...          ...   ...  ...       ...         ...             ...        ...   \n",
       "59986    고등학교 졸업    사별  ...  0.035792           1               0          0   \n",
       "59989    고등학교 졸업   사실혼  ...  0.018634           1               1          0   \n",
       "59991    고등학교 졸업    기혼  ...  0.007305           1               0          0   \n",
       "59995    고등학교 졸업    미혼  ...  0.014520           1               0          0   \n",
       "59997  대학교 졸업 이상    미혼  ...  0.019101           1               1          0   \n",
       "\n",
       "            직업 가족 구성원 수  산업군  나이  근속연수  가입연수  \n",
       "0      Unknown      4.0   기타  39  1000  23.0  \n",
       "3      Unknown      3.0   산업  34     6  12.0  \n",
       "4      Unknown      2.0   사업  38     0   4.0  \n",
       "10     Unknown      2.0   기타  61  1000   8.0  \n",
       "12     Unknown      3.0   학교  43     2   6.0  \n",
       "...        ...      ...  ...  ..   ...   ...  \n",
       "59986  Unknown      1.0   기타  67  1000  21.0  \n",
       "59989  Unknown      2.0   기타  46     8   1.0  \n",
       "59991  Unknown      2.0   기타  56  1000   4.0  \n",
       "59995  Unknown      1.0   기타  60  1000  29.0  \n",
       "59997  Unknown      1.0   은행  26     1   7.0  \n",
       "\n",
       "[19035 rows x 21 columns]"
      ]
     },
     "execution_count": 19,
     "metadata": {},
     "output_type": "execute_result"
    }
   ],
   "source": [
    "# 직업이 Unknown인 행 존재\n",
    "train_copy[train_copy['직업']=='Unknown']"
   ]
  },
  {
   "cell_type": "code",
   "execution_count": 20,
   "metadata": {},
   "outputs": [
    {
     "data": {
      "text/plain": [
       "근속연수\n",
       "False    48725\n",
       "True     11275\n",
       "Name: count, dtype: int64"
      ]
     },
     "execution_count": 20,
     "metadata": {},
     "output_type": "execute_result"
    }
   ],
   "source": [
    "# 근속연수가 1000인 데이터가 11,275개 존재\n",
    "(train_copy['근속연수']==1000).value_counts()"
   ]
  },
  {
   "cell_type": "code",
   "execution_count": 21,
   "metadata": {},
   "outputs": [
    {
     "data": {
      "text/plain": [
       "직업\n",
       "False    40965\n",
       "True     19035\n",
       "Name: count, dtype: int64"
      ]
     },
     "execution_count": 21,
     "metadata": {},
     "output_type": "execute_result"
    }
   ],
   "source": [
    "# 직업이 Unknown인 데이터가 19,035개 존재\n",
    "(train_copy['직업']=='Unknown').value_counts()"
   ]
  },
  {
   "cell_type": "code",
   "execution_count": 22,
   "metadata": {},
   "outputs": [
    {
     "data": {
      "text/plain": [
       "False    48726\n",
       "True     11274\n",
       "Name: count, dtype: int64"
      ]
     },
     "execution_count": 22,
     "metadata": {},
     "output_type": "execute_result"
    }
   ],
   "source": [
    "# 근속연수가 1000이면서 직업이 Unknown인 데이터는 11,274개 존재\n",
    "result= (train_copy['직업']=='Unknown')& (train_copy['근속연수']==1000)\n",
    "result.value_counts()"
   ]
  },
  {
   "cell_type": "code",
   "execution_count": 23,
   "metadata": {},
   "outputs": [
    {
     "data": {
      "text/plain": [
       "Index([5820], dtype='int64')"
      ]
     },
     "execution_count": 23,
     "metadata": {},
     "output_type": "execute_result"
    }
   ],
   "source": [
    "# 근속연수가 1000이면서 직업이 Unknown이 아닌 데이터가 몇 번째 행에 있는지\n",
    "train_copy[(train_copy['근속연수']==1000)&(train_copy['직업']!='Unknown')].index"
   ]
  },
  {
   "cell_type": "code",
   "execution_count": 24,
   "metadata": {},
   "outputs": [
    {
     "data": {
      "text/plain": [
       "'미화원'"
      ]
     },
     "execution_count": 24,
     "metadata": {},
     "output_type": "execute_result"
    }
   ],
   "source": [
    "train_copy.loc[5820,'직업']"
   ]
  },
  {
   "cell_type": "code",
   "execution_count": 25,
   "metadata": {},
   "outputs": [
    {
     "data": {
      "text/plain": [
       "False    52239\n",
       "True      7761\n",
       "Name: count, dtype: int64"
      ]
     },
     "execution_count": 25,
     "metadata": {},
     "output_type": "execute_result"
    }
   ],
   "source": [
    "# 근속연수가 1000이 아니면서 직업이 Unknown인 데이터가 몇 번째 행에 있는지\n",
    "((train_copy['근속연수']!=1000)&(train_copy['직업']=='Unknown')).value_counts()"
   ]
  },
  {
   "cell_type": "code",
   "execution_count": 26,
   "metadata": {},
   "outputs": [],
   "source": [
    "# 근속연수가 1000이면서 직업이 Unknown이지 않은 사람의 직업은 미화원 딱 한 명 존재\n",
    "# 근속연수가 1000이면 직업이 미화원인 데이터 하나 빼고 다 Unknown"
   ]
  },
  {
   "cell_type": "code",
   "execution_count": 27,
   "metadata": {},
   "outputs": [
    {
     "data": {
      "text/plain": [
       "수입 유형\n",
       "False    48726\n",
       "True     11274\n",
       "Name: count, dtype: int64"
      ]
     },
     "execution_count": 27,
     "metadata": {},
     "output_type": "execute_result"
    }
   ],
   "source": [
    "# 수입 유형이 연금수령자인 데이터 11,274개 존재\n",
    "(train_copy['수입 유형']=='연금수령자').value_counts()"
   ]
  },
  {
   "cell_type": "code",
   "execution_count": 28,
   "metadata": {},
   "outputs": [
    {
     "data": {
      "text/plain": [
       "False    48729\n",
       "True     11271\n",
       "Name: count, dtype: int64"
      ]
     },
     "execution_count": 28,
     "metadata": {},
     "output_type": "execute_result"
    }
   ],
   "source": [
    "# 수입 유형이 연금수령자이면서 근속 연수가 1000\n",
    "((train_copy['수입 유형']=='연금수령자')&(train_copy['근속연수']==1000)).value_counts()"
   ]
  },
  {
   "cell_type": "code",
   "execution_count": 29,
   "metadata": {},
   "outputs": [
    {
     "data": {
      "text/plain": [
       "False    59996\n",
       "True         4\n",
       "Name: count, dtype: int64"
      ]
     },
     "execution_count": 29,
     "metadata": {},
     "output_type": "execute_result"
    }
   ],
   "source": [
    "# 수입 유형이 연금수령자가 아니고 근속연수가 1000\n",
    "((train_copy['수입 유형']!='연금수령자')&(train_copy['근속연수']==1000)).value_counts()"
   ]
  },
  {
   "cell_type": "code",
   "execution_count": 30,
   "metadata": {},
   "outputs": [
    {
     "data": {
      "text/plain": [
       "Index([5008, 5446, 36929, 57512], dtype='int64')"
      ]
     },
     "execution_count": 30,
     "metadata": {},
     "output_type": "execute_result"
    }
   ],
   "source": [
    "train_copy[(train_copy['수입 유형']!='연금수령자')&(train_copy['근속연수']==1000)].index"
   ]
  },
  {
   "cell_type": "code",
   "execution_count": 31,
   "metadata": {},
   "outputs": [
    {
     "data": {
      "text/plain": [
       "'실직자'"
      ]
     },
     "metadata": {},
     "output_type": "display_data"
    },
    {
     "data": {
      "text/plain": [
       "'실직자'"
      ]
     },
     "metadata": {},
     "output_type": "display_data"
    },
    {
     "data": {
      "text/plain": [
       "'실직자'"
      ]
     },
     "metadata": {},
     "output_type": "display_data"
    },
    {
     "data": {
      "text/plain": [
       "'실직자'"
      ]
     },
     "metadata": {},
     "output_type": "display_data"
    }
   ],
   "source": [
    "display(train_copy.loc[5008,'수입 유형'])\n",
    "display(train_copy.loc[5446,'수입 유형'])\n",
    "display(train_copy.loc[36929,'수입 유형'])\n",
    "display(train_copy.loc[57512,'수입 유형'])"
   ]
  },
  {
   "cell_type": "code",
   "execution_count": 32,
   "metadata": {},
   "outputs": [],
   "source": [
    "# 근속 연수가 1000이면서 수입 유형이 연금수령자가 아닌 사람은 실직자임\n",
    "# -> 실직자 drop"
   ]
  },
  {
   "cell_type": "code",
   "execution_count": 33,
   "metadata": {},
   "outputs": [
    {
     "data": {
      "text/plain": [
       "Index([1432, 21745, 41520], dtype='int64')"
      ]
     },
     "execution_count": 33,
     "metadata": {},
     "output_type": "execute_result"
    }
   ],
   "source": [
    "# 수입유형이 연금수령자면서 근속연수가 1000이 아닌 데이터\n",
    "train_copy[((train_copy['수입 유형']=='연금수령자')&(train_copy['근속연수']!=1000))].index"
   ]
  },
  {
   "cell_type": "code",
   "execution_count": 34,
   "metadata": {},
   "outputs": [
    {
     "data": {
      "text/plain": [
       "5"
      ]
     },
     "metadata": {},
     "output_type": "display_data"
    },
    {
     "data": {
      "text/plain": [
       "6"
      ]
     },
     "metadata": {},
     "output_type": "display_data"
    },
    {
     "data": {
      "text/plain": [
       "3"
      ]
     },
     "metadata": {},
     "output_type": "display_data"
    }
   ],
   "source": [
    "display(train_copy.loc[1432,'근속연수'])\n",
    "display(train_copy.loc[21745,'근속연수'])\n",
    "display(train_copy.loc[41520,'근속연수']) # outlier라고 간주하고 제거하기"
   ]
  },
  {
   "cell_type": "code",
   "execution_count": 35,
   "metadata": {},
   "outputs": [],
   "source": [
    "# 대부분의 연금수령자의 근속연수는 1000\n",
    "# 근속연수가 1000인 데이터 중에 연금수령자가 아닌 데이터는?\n",
    "# -> 실직자 (4개의 데이터 존재)\n",
    "# 즉 근속연수 1000인 데이터의 직업은 연금수령자와 실직자\n",
    "\n",
    "# 그렇다면 모든 연금수령자의 근속연수는 모두 1000인가? -> No (3개의 데이터 존재)\n",
    "# outlier로 간주하고 제거하기"
   ]
  },
  {
   "cell_type": "code",
   "execution_count": 36,
   "metadata": {},
   "outputs": [
    {
     "data": {
      "text/html": [
       "<div>\n",
       "<style scoped>\n",
       "    .dataframe tbody tr th:only-of-type {\n",
       "        vertical-align: middle;\n",
       "    }\n",
       "\n",
       "    .dataframe tbody tr th {\n",
       "        vertical-align: top;\n",
       "    }\n",
       "\n",
       "    .dataframe thead th {\n",
       "        text-align: right;\n",
       "    }\n",
       "</style>\n",
       "<table border=\"1\" class=\"dataframe\">\n",
       "  <thead>\n",
       "    <tr style=\"text-align: right;\">\n",
       "      <th></th>\n",
       "      <th>ID</th>\n",
       "      <th>TARGET</th>\n",
       "      <th>성별</th>\n",
       "      <th>차량 소유 여부</th>\n",
       "      <th>부동산 소유 여부</th>\n",
       "      <th>자녀 수</th>\n",
       "      <th>연간 수입</th>\n",
       "      <th>수입 유형</th>\n",
       "      <th>최종 학력</th>\n",
       "      <th>결혼 여부</th>\n",
       "      <th>...</th>\n",
       "      <th>거주지 인구 비율</th>\n",
       "      <th>휴대전화 소유 여부</th>\n",
       "      <th>업무용 휴대전화 소유 여부</th>\n",
       "      <th>이메일 소유 여부</th>\n",
       "      <th>직업</th>\n",
       "      <th>가족 구성원 수</th>\n",
       "      <th>산업군</th>\n",
       "      <th>나이</th>\n",
       "      <th>근속연수</th>\n",
       "      <th>가입연수</th>\n",
       "    </tr>\n",
       "  </thead>\n",
       "  <tbody>\n",
       "    <tr>\n",
       "      <th>5008</th>\n",
       "      <td>TRAIN_05008</td>\n",
       "      <td>0</td>\n",
       "      <td>여성</td>\n",
       "      <td>0</td>\n",
       "      <td>1</td>\n",
       "      <td>0</td>\n",
       "      <td>6372000.0</td>\n",
       "      <td>실직자</td>\n",
       "      <td>고등학교 졸업</td>\n",
       "      <td>사실혼</td>\n",
       "      <td>...</td>\n",
       "      <td>0.025164</td>\n",
       "      <td>1</td>\n",
       "      <td>0</td>\n",
       "      <td>0</td>\n",
       "      <td>Unknown</td>\n",
       "      <td>2.0</td>\n",
       "      <td>기타</td>\n",
       "      <td>47</td>\n",
       "      <td>1000</td>\n",
       "      <td>15.0</td>\n",
       "    </tr>\n",
       "    <tr>\n",
       "      <th>5446</th>\n",
       "      <td>TRAIN_05446</td>\n",
       "      <td>0</td>\n",
       "      <td>여성</td>\n",
       "      <td>0</td>\n",
       "      <td>0</td>\n",
       "      <td>1</td>\n",
       "      <td>12744000.0</td>\n",
       "      <td>실직자</td>\n",
       "      <td>대학교 졸업 이상</td>\n",
       "      <td>사실혼</td>\n",
       "      <td>...</td>\n",
       "      <td>0.020713</td>\n",
       "      <td>1</td>\n",
       "      <td>0</td>\n",
       "      <td>0</td>\n",
       "      <td>Unknown</td>\n",
       "      <td>3.0</td>\n",
       "      <td>기타</td>\n",
       "      <td>36</td>\n",
       "      <td>1000</td>\n",
       "      <td>19.0</td>\n",
       "    </tr>\n",
       "    <tr>\n",
       "      <th>36929</th>\n",
       "      <td>TRAIN_36929</td>\n",
       "      <td>0</td>\n",
       "      <td>남성</td>\n",
       "      <td>1</td>\n",
       "      <td>1</td>\n",
       "      <td>0</td>\n",
       "      <td>63720000.0</td>\n",
       "      <td>실직자</td>\n",
       "      <td>대학교 졸업 이상</td>\n",
       "      <td>미혼</td>\n",
       "      <td>...</td>\n",
       "      <td>0.019689</td>\n",
       "      <td>1</td>\n",
       "      <td>0</td>\n",
       "      <td>0</td>\n",
       "      <td>Unknown</td>\n",
       "      <td>1.0</td>\n",
       "      <td>기타</td>\n",
       "      <td>25</td>\n",
       "      <td>1000</td>\n",
       "      <td>11.0</td>\n",
       "    </tr>\n",
       "    <tr>\n",
       "      <th>57512</th>\n",
       "      <td>TRAIN_57512</td>\n",
       "      <td>0</td>\n",
       "      <td>여성</td>\n",
       "      <td>1</td>\n",
       "      <td>1</td>\n",
       "      <td>0</td>\n",
       "      <td>6265800.0</td>\n",
       "      <td>실직자</td>\n",
       "      <td>고등학교 졸업</td>\n",
       "      <td>사별</td>\n",
       "      <td>...</td>\n",
       "      <td>0.004960</td>\n",
       "      <td>1</td>\n",
       "      <td>0</td>\n",
       "      <td>0</td>\n",
       "      <td>Unknown</td>\n",
       "      <td>1.0</td>\n",
       "      <td>기타</td>\n",
       "      <td>55</td>\n",
       "      <td>1000</td>\n",
       "      <td>10.0</td>\n",
       "    </tr>\n",
       "  </tbody>\n",
       "</table>\n",
       "<p>4 rows × 21 columns</p>\n",
       "</div>"
      ],
      "text/plain": [
       "                ID  TARGET  성별  차량 소유 여부  부동산 소유 여부  자녀 수       연간 수입 수입 유형  \\\n",
       "5008   TRAIN_05008       0  여성         0          1     0   6372000.0   실직자   \n",
       "5446   TRAIN_05446       0  여성         0          0     1  12744000.0   실직자   \n",
       "36929  TRAIN_36929       0  남성         1          1     0  63720000.0   실직자   \n",
       "57512  TRAIN_57512       0  여성         1          1     0   6265800.0   실직자   \n",
       "\n",
       "           최종 학력 결혼 여부  ... 거주지 인구 비율  휴대전화 소유 여부  업무용 휴대전화 소유 여부  이메일 소유 여부  \\\n",
       "5008     고등학교 졸업   사실혼  ...  0.025164           1               0          0   \n",
       "5446   대학교 졸업 이상   사실혼  ...  0.020713           1               0          0   \n",
       "36929  대학교 졸업 이상    미혼  ...  0.019689           1               0          0   \n",
       "57512    고등학교 졸업    사별  ...  0.004960           1               0          0   \n",
       "\n",
       "            직업 가족 구성원 수  산업군  나이  근속연수  가입연수  \n",
       "5008   Unknown      2.0   기타  47  1000  15.0  \n",
       "5446   Unknown      3.0   기타  36  1000  19.0  \n",
       "36929  Unknown      1.0   기타  25  1000  11.0  \n",
       "57512  Unknown      1.0   기타  55  1000  10.0  \n",
       "\n",
       "[4 rows x 21 columns]"
      ]
     },
     "execution_count": 36,
     "metadata": {},
     "output_type": "execute_result"
    }
   ],
   "source": [
    "train_copy[train_copy['수입 유형']=='실직자'] # 실직자의 근속연수는 모두 1000"
   ]
  },
  {
   "cell_type": "code",
   "execution_count": 37,
   "metadata": {},
   "outputs": [
    {
     "data": {
      "text/plain": [
       "직업\n",
       "Unknown      19035\n",
       "단순 노동자       10780\n",
       "영업직           6178\n",
       "핵심 노동자        5194\n",
       "관리직           4264\n",
       "운전자           3572\n",
       "기술직           2240\n",
       "회계사           1908\n",
       "의료 업계 종사자     1671\n",
       "보안 업계 종사자     1384\n",
       "조리사           1187\n",
       "미화원            889\n",
       "가정부            458\n",
       "저임금 노동자        379\n",
       "비서             252\n",
       "요식업 종사자        248\n",
       "부동산중개업자        154\n",
       "인사 담당자         120\n",
       "IT 업계 종사자       87\n",
       "Name: count, dtype: int64"
      ]
     },
     "execution_count": 37,
     "metadata": {},
     "output_type": "execute_result"
    }
   ],
   "source": [
    "train_copy['직업'].value_counts()"
   ]
  },
  {
   "cell_type": "code",
   "execution_count": 38,
   "metadata": {},
   "outputs": [
    {
     "data": {
      "text/plain": [
       "산업군\n",
       "사업         16343\n",
       "기타         14467\n",
       "자영업         7549\n",
       "산업          2715\n",
       "무역          2666\n",
       "의학          2181\n",
       "정부          2021\n",
       "운송          1755\n",
       "학교          1731\n",
       "건설          1376\n",
       "유치원         1339\n",
       "보안           674\n",
       "주택           575\n",
       "군대           508\n",
       "농업           494\n",
       "은행           466\n",
       "경찰           435\n",
       "우체부          424\n",
       "국가 안보        383\n",
       "레스토랑         344\n",
       "서비스          291\n",
       "대학교          269\n",
       "호텔           187\n",
       "전기           173\n",
       "보험           122\n",
       "통신           101\n",
       "부동산 중개업       80\n",
       "문화            79\n",
       "광고            72\n",
       "모바일           60\n",
       "법률 서비스        56\n",
       "환경            48\n",
       "종교            16\n",
       "Name: count, dtype: int64"
      ]
     },
     "execution_count": 38,
     "metadata": {},
     "output_type": "execute_result"
    }
   ],
   "source": [
    "train_copy['산업군'].value_counts()"
   ]
  },
  {
   "cell_type": "markdown",
   "metadata": {},
   "source": [
    "### 240103"
   ]
  },
  {
   "cell_type": "code",
   "execution_count": 39,
   "metadata": {},
   "outputs": [],
   "source": [
    "# 나이와 가입연수 비교해서 이상치 확인\n",
    "# 자녀 수와 가족 수\n",
    "# 직업이 산업군과 일치하는지\n",
    "# 일치하지 않을 경우, 직업 기준으로 산업군 replace\n",
    "# 산업군은 가중치를 적게\n",
    "\n",
    "# 산업군과 직업을 결합하여 새로운 파생변수 생성\n",
    "# 같은 직업이어도 산업군별로 다른 특성을 가질 수 있음 / 동일한 직업-산업별 격차 동일산업-다른 직업별 격차\n",
    "\n",
    "# 휴대전화 소유여부 < 업무용 휴대전화 소유여부 -> 이상치 처리(drop)\n",
    "# 자녀수 10 이상인 데이터 drop\n"
   ]
  },
  {
   "cell_type": "code",
   "execution_count": 40,
   "metadata": {},
   "outputs": [
    {
     "data": {
      "text/plain": [
       "count    60000.000000\n",
       "mean        44.021183\n",
       "std         11.852450\n",
       "min         21.000000\n",
       "25%         34.000000\n",
       "50%         43.000000\n",
       "75%         54.000000\n",
       "max         69.000000\n",
       "Name: 나이, dtype: float64"
      ]
     },
     "execution_count": 40,
     "metadata": {},
     "output_type": "execute_result"
    }
   ],
   "source": [
    "train_copy['나이'].describe()"
   ]
  },
  {
   "cell_type": "code",
   "execution_count": 41,
   "metadata": {},
   "outputs": [
    {
     "data": {
      "text/plain": [
       "count    60000.000000\n",
       "mean         2.155767\n",
       "std          0.908213\n",
       "min          1.000000\n",
       "25%          2.000000\n",
       "50%          2.000000\n",
       "75%          3.000000\n",
       "max         20.000000\n",
       "Name: 가족 구성원 수, dtype: float64"
      ]
     },
     "execution_count": 41,
     "metadata": {},
     "output_type": "execute_result"
    }
   ],
   "source": [
    "train_copy['가족 구성원 수'].describe()"
   ]
  },
  {
   "cell_type": "code",
   "execution_count": 42,
   "metadata": {},
   "outputs": [
    {
     "data": {
      "text/plain": [
       "count    60000.000000\n",
       "mean         0.412050\n",
       "std          0.723998\n",
       "min          0.000000\n",
       "25%          0.000000\n",
       "50%          0.000000\n",
       "75%          1.000000\n",
       "max         19.000000\n",
       "Name: 자녀 수, dtype: float64"
      ]
     },
     "execution_count": 42,
     "metadata": {},
     "output_type": "execute_result"
    }
   ],
   "source": [
    "train_copy['자녀 수'].describe()"
   ]
  },
  {
   "cell_type": "code",
   "execution_count": 43,
   "metadata": {},
   "outputs": [
    {
     "data": {
      "text/html": [
       "<div>\n",
       "<style scoped>\n",
       "    .dataframe tbody tr th:only-of-type {\n",
       "        vertical-align: middle;\n",
       "    }\n",
       "\n",
       "    .dataframe tbody tr th {\n",
       "        vertical-align: top;\n",
       "    }\n",
       "\n",
       "    .dataframe thead th {\n",
       "        text-align: right;\n",
       "    }\n",
       "</style>\n",
       "<table border=\"1\" class=\"dataframe\">\n",
       "  <thead>\n",
       "    <tr style=\"text-align: right;\">\n",
       "      <th></th>\n",
       "      <th>ID</th>\n",
       "      <th>TARGET</th>\n",
       "      <th>성별</th>\n",
       "      <th>차량 소유 여부</th>\n",
       "      <th>부동산 소유 여부</th>\n",
       "      <th>자녀 수</th>\n",
       "      <th>연간 수입</th>\n",
       "      <th>수입 유형</th>\n",
       "      <th>최종 학력</th>\n",
       "      <th>결혼 여부</th>\n",
       "      <th>...</th>\n",
       "      <th>거주지 인구 비율</th>\n",
       "      <th>휴대전화 소유 여부</th>\n",
       "      <th>업무용 휴대전화 소유 여부</th>\n",
       "      <th>이메일 소유 여부</th>\n",
       "      <th>직업</th>\n",
       "      <th>가족 구성원 수</th>\n",
       "      <th>산업군</th>\n",
       "      <th>나이</th>\n",
       "      <th>근속연수</th>\n",
       "      <th>가입연수</th>\n",
       "    </tr>\n",
       "  </thead>\n",
       "  <tbody>\n",
       "    <tr>\n",
       "      <th>0</th>\n",
       "      <td>TRAIN_00000</td>\n",
       "      <td>0</td>\n",
       "      <td>여성</td>\n",
       "      <td>1</td>\n",
       "      <td>1</td>\n",
       "      <td>2</td>\n",
       "      <td>18054000.0</td>\n",
       "      <td>연금수령자</td>\n",
       "      <td>고등학교 졸업</td>\n",
       "      <td>기혼</td>\n",
       "      <td>...</td>\n",
       "      <td>0.004960</td>\n",
       "      <td>1</td>\n",
       "      <td>0</td>\n",
       "      <td>0</td>\n",
       "      <td>Unknown</td>\n",
       "      <td>4.0</td>\n",
       "      <td>기타</td>\n",
       "      <td>39</td>\n",
       "      <td>1000</td>\n",
       "      <td>23.0</td>\n",
       "    </tr>\n",
       "    <tr>\n",
       "      <th>13</th>\n",
       "      <td>TRAIN_00013</td>\n",
       "      <td>1</td>\n",
       "      <td>남성</td>\n",
       "      <td>1</td>\n",
       "      <td>1</td>\n",
       "      <td>0</td>\n",
       "      <td>47790000.0</td>\n",
       "      <td>기타</td>\n",
       "      <td>대학교 졸업 이상</td>\n",
       "      <td>미혼</td>\n",
       "      <td>...</td>\n",
       "      <td>0.011703</td>\n",
       "      <td>1</td>\n",
       "      <td>1</td>\n",
       "      <td>0</td>\n",
       "      <td>요식업 종사자</td>\n",
       "      <td>1.0</td>\n",
       "      <td>사업</td>\n",
       "      <td>31</td>\n",
       "      <td>1</td>\n",
       "      <td>31.0</td>\n",
       "    </tr>\n",
       "    <tr>\n",
       "      <th>18</th>\n",
       "      <td>TRAIN_00018</td>\n",
       "      <td>0</td>\n",
       "      <td>여성</td>\n",
       "      <td>0</td>\n",
       "      <td>1</td>\n",
       "      <td>0</td>\n",
       "      <td>21240000.0</td>\n",
       "      <td>근로자</td>\n",
       "      <td>고등학교 졸업</td>\n",
       "      <td>기혼</td>\n",
       "      <td>...</td>\n",
       "      <td>0.030755</td>\n",
       "      <td>1</td>\n",
       "      <td>1</td>\n",
       "      <td>0</td>\n",
       "      <td>단순 노동자</td>\n",
       "      <td>2.0</td>\n",
       "      <td>자영업</td>\n",
       "      <td>34</td>\n",
       "      <td>8</td>\n",
       "      <td>18.0</td>\n",
       "    </tr>\n",
       "    <tr>\n",
       "      <th>24</th>\n",
       "      <td>TRAIN_00024</td>\n",
       "      <td>0</td>\n",
       "      <td>남성</td>\n",
       "      <td>1</td>\n",
       "      <td>0</td>\n",
       "      <td>0</td>\n",
       "      <td>42480000.0</td>\n",
       "      <td>기타</td>\n",
       "      <td>고등학교 졸업</td>\n",
       "      <td>기혼</td>\n",
       "      <td>...</td>\n",
       "      <td>0.004960</td>\n",
       "      <td>1</td>\n",
       "      <td>1</td>\n",
       "      <td>0</td>\n",
       "      <td>관리직</td>\n",
       "      <td>2.0</td>\n",
       "      <td>레스토랑</td>\n",
       "      <td>41</td>\n",
       "      <td>0</td>\n",
       "      <td>25.0</td>\n",
       "    </tr>\n",
       "    <tr>\n",
       "      <th>25</th>\n",
       "      <td>TRAIN_00025</td>\n",
       "      <td>0</td>\n",
       "      <td>여성</td>\n",
       "      <td>0</td>\n",
       "      <td>0</td>\n",
       "      <td>0</td>\n",
       "      <td>27612000.0</td>\n",
       "      <td>근로자</td>\n",
       "      <td>고등학교 졸업</td>\n",
       "      <td>미혼</td>\n",
       "      <td>...</td>\n",
       "      <td>0.046220</td>\n",
       "      <td>1</td>\n",
       "      <td>1</td>\n",
       "      <td>0</td>\n",
       "      <td>단순 노동자</td>\n",
       "      <td>1.0</td>\n",
       "      <td>산업</td>\n",
       "      <td>51</td>\n",
       "      <td>1</td>\n",
       "      <td>34.0</td>\n",
       "    </tr>\n",
       "    <tr>\n",
       "      <th>...</th>\n",
       "      <td>...</td>\n",
       "      <td>...</td>\n",
       "      <td>...</td>\n",
       "      <td>...</td>\n",
       "      <td>...</td>\n",
       "      <td>...</td>\n",
       "      <td>...</td>\n",
       "      <td>...</td>\n",
       "      <td>...</td>\n",
       "      <td>...</td>\n",
       "      <td>...</td>\n",
       "      <td>...</td>\n",
       "      <td>...</td>\n",
       "      <td>...</td>\n",
       "      <td>...</td>\n",
       "      <td>...</td>\n",
       "      <td>...</td>\n",
       "      <td>...</td>\n",
       "      <td>...</td>\n",
       "      <td>...</td>\n",
       "      <td>...</td>\n",
       "    </tr>\n",
       "    <tr>\n",
       "      <th>59981</th>\n",
       "      <td>TRAIN_59981</td>\n",
       "      <td>0</td>\n",
       "      <td>남성</td>\n",
       "      <td>0</td>\n",
       "      <td>1</td>\n",
       "      <td>0</td>\n",
       "      <td>66906000.0</td>\n",
       "      <td>기타</td>\n",
       "      <td>대학교 중퇴</td>\n",
       "      <td>미혼</td>\n",
       "      <td>...</td>\n",
       "      <td>0.006008</td>\n",
       "      <td>1</td>\n",
       "      <td>1</td>\n",
       "      <td>0</td>\n",
       "      <td>핵심 노동자</td>\n",
       "      <td>1.0</td>\n",
       "      <td>자영업</td>\n",
       "      <td>23</td>\n",
       "      <td>3</td>\n",
       "      <td>17.0</td>\n",
       "    </tr>\n",
       "    <tr>\n",
       "      <th>59982</th>\n",
       "      <td>TRAIN_59982</td>\n",
       "      <td>0</td>\n",
       "      <td>남성</td>\n",
       "      <td>0</td>\n",
       "      <td>0</td>\n",
       "      <td>0</td>\n",
       "      <td>42480000.0</td>\n",
       "      <td>근로자</td>\n",
       "      <td>고등학교 졸업</td>\n",
       "      <td>미혼</td>\n",
       "      <td>...</td>\n",
       "      <td>0.046220</td>\n",
       "      <td>1</td>\n",
       "      <td>1</td>\n",
       "      <td>1</td>\n",
       "      <td>운전자</td>\n",
       "      <td>1.0</td>\n",
       "      <td>사업</td>\n",
       "      <td>30</td>\n",
       "      <td>0</td>\n",
       "      <td>16.0</td>\n",
       "    </tr>\n",
       "    <tr>\n",
       "      <th>59990</th>\n",
       "      <td>TRAIN_59990</td>\n",
       "      <td>0</td>\n",
       "      <td>여성</td>\n",
       "      <td>0</td>\n",
       "      <td>1</td>\n",
       "      <td>0</td>\n",
       "      <td>15930000.0</td>\n",
       "      <td>기타</td>\n",
       "      <td>고등학교 졸업</td>\n",
       "      <td>사별</td>\n",
       "      <td>...</td>\n",
       "      <td>0.002042</td>\n",
       "      <td>1</td>\n",
       "      <td>1</td>\n",
       "      <td>0</td>\n",
       "      <td>단순 노동자</td>\n",
       "      <td>1.0</td>\n",
       "      <td>서비스</td>\n",
       "      <td>42</td>\n",
       "      <td>7</td>\n",
       "      <td>25.0</td>\n",
       "    </tr>\n",
       "    <tr>\n",
       "      <th>59994</th>\n",
       "      <td>TRAIN_59994</td>\n",
       "      <td>1</td>\n",
       "      <td>여성</td>\n",
       "      <td>0</td>\n",
       "      <td>1</td>\n",
       "      <td>1</td>\n",
       "      <td>37170000.0</td>\n",
       "      <td>근로자</td>\n",
       "      <td>고등학교 졸업</td>\n",
       "      <td>미혼</td>\n",
       "      <td>...</td>\n",
       "      <td>0.026392</td>\n",
       "      <td>1</td>\n",
       "      <td>1</td>\n",
       "      <td>1</td>\n",
       "      <td>단순 노동자</td>\n",
       "      <td>2.0</td>\n",
       "      <td>무역</td>\n",
       "      <td>28</td>\n",
       "      <td>5</td>\n",
       "      <td>20.0</td>\n",
       "    </tr>\n",
       "    <tr>\n",
       "      <th>59999</th>\n",
       "      <td>TRAIN_59999</td>\n",
       "      <td>0</td>\n",
       "      <td>남성</td>\n",
       "      <td>0</td>\n",
       "      <td>1</td>\n",
       "      <td>0</td>\n",
       "      <td>31860000.0</td>\n",
       "      <td>근로자</td>\n",
       "      <td>고등학교 졸업</td>\n",
       "      <td>미혼</td>\n",
       "      <td>...</td>\n",
       "      <td>0.009334</td>\n",
       "      <td>1</td>\n",
       "      <td>1</td>\n",
       "      <td>0</td>\n",
       "      <td>핵심 노동자</td>\n",
       "      <td>1.0</td>\n",
       "      <td>경찰</td>\n",
       "      <td>30</td>\n",
       "      <td>7</td>\n",
       "      <td>15.0</td>\n",
       "    </tr>\n",
       "  </tbody>\n",
       "</table>\n",
       "<p>9435 rows × 21 columns</p>\n",
       "</div>"
      ],
      "text/plain": [
       "                ID  TARGET  성별  차량 소유 여부  부동산 소유 여부  자녀 수       연간 수입  수입 유형  \\\n",
       "0      TRAIN_00000       0  여성         1          1     2  18054000.0  연금수령자   \n",
       "13     TRAIN_00013       1  남성         1          1     0  47790000.0     기타   \n",
       "18     TRAIN_00018       0  여성         0          1     0  21240000.0    근로자   \n",
       "24     TRAIN_00024       0  남성         1          0     0  42480000.0     기타   \n",
       "25     TRAIN_00025       0  여성         0          0     0  27612000.0    근로자   \n",
       "...            ...     ...  ..       ...        ...   ...         ...    ...   \n",
       "59981  TRAIN_59981       0  남성         0          1     0  66906000.0     기타   \n",
       "59982  TRAIN_59982       0  남성         0          0     0  42480000.0    근로자   \n",
       "59990  TRAIN_59990       0  여성         0          1     0  15930000.0     기타   \n",
       "59994  TRAIN_59994       1  여성         0          1     1  37170000.0    근로자   \n",
       "59999  TRAIN_59999       0  남성         0          1     0  31860000.0    근로자   \n",
       "\n",
       "           최종 학력 결혼 여부  ... 거주지 인구 비율  휴대전화 소유 여부  업무용 휴대전화 소유 여부  이메일 소유 여부  \\\n",
       "0        고등학교 졸업    기혼  ...  0.004960           1               0          0   \n",
       "13     대학교 졸업 이상    미혼  ...  0.011703           1               1          0   \n",
       "18       고등학교 졸업    기혼  ...  0.030755           1               1          0   \n",
       "24       고등학교 졸업    기혼  ...  0.004960           1               1          0   \n",
       "25       고등학교 졸업    미혼  ...  0.046220           1               1          0   \n",
       "...          ...   ...  ...       ...         ...             ...        ...   \n",
       "59981     대학교 중퇴    미혼  ...  0.006008           1               1          0   \n",
       "59982    고등학교 졸업    미혼  ...  0.046220           1               1          1   \n",
       "59990    고등학교 졸업    사별  ...  0.002042           1               1          0   \n",
       "59994    고등학교 졸업    미혼  ...  0.026392           1               1          1   \n",
       "59999    고등학교 졸업    미혼  ...  0.009334           1               1          0   \n",
       "\n",
       "            직업 가족 구성원 수   산업군  나이  근속연수  가입연수  \n",
       "0      Unknown      4.0    기타  39  1000  23.0  \n",
       "13     요식업 종사자      1.0    사업  31     1  31.0  \n",
       "18      단순 노동자      2.0   자영업  34     8  18.0  \n",
       "24         관리직      2.0  레스토랑  41     0  25.0  \n",
       "25      단순 노동자      1.0    산업  51     1  34.0  \n",
       "...        ...      ...   ...  ..   ...   ...  \n",
       "59981   핵심 노동자      1.0   자영업  23     3  17.0  \n",
       "59982      운전자      1.0    사업  30     0  16.0  \n",
       "59990   단순 노동자      1.0   서비스  42     7  25.0  \n",
       "59994   단순 노동자      2.0    무역  28     5  20.0  \n",
       "59999   핵심 노동자      1.0    경찰  30     7  15.0  \n",
       "\n",
       "[9435 rows x 21 columns]"
      ]
     },
     "execution_count": 43,
     "metadata": {},
     "output_type": "execute_result"
    }
   ],
   "source": [
    "train_copy[train_copy['나이']-train_copy['가입연수'] < 18]"
   ]
  },
  {
   "cell_type": "markdown",
   "metadata": {},
   "source": [
    "### 240104 데이터 전처리"
   ]
  },
  {
   "cell_type": "code",
   "execution_count": 54,
   "metadata": {},
   "outputs": [],
   "source": [
    "train_copy['수입'] = train_copy['연간 수입'] / 1000"
   ]
  },
  {
   "cell_type": "code",
   "execution_count": 59,
   "metadata": {},
   "outputs": [],
   "source": [
    "train_copy.drop(['수입'], axis=1, inplace=True)"
   ]
  },
  {
   "cell_type": "code",
   "execution_count": 66,
   "metadata": {},
   "outputs": [
    {
     "data": {
      "text/plain": [
       "count    6.000000e+04\n",
       "mean     3.983699e+07\n",
       "std      2.472331e+07\n",
       "min      6.265800e+06\n",
       "25%      2.655000e+07\n",
       "50%      3.504600e+07\n",
       "75%      4.779000e+07\n",
       "max      2.124000e+09\n",
       "Name: 연간 수입, dtype: float64"
      ]
     },
     "execution_count": 66,
     "metadata": {},
     "output_type": "execute_result"
    }
   ],
   "source": [
    "train_copy['연간 수입'].describe()"
   ]
  },
  {
   "cell_type": "code",
   "execution_count": 67,
   "metadata": {},
   "outputs": [
    {
     "data": {
      "text/plain": [
       "count    60000.000000\n",
       "mean       192.906833\n",
       "std        388.292796\n",
       "min          0.000000\n",
       "25%          2.000000\n",
       "50%          6.000000\n",
       "75%         16.000000\n",
       "max       1000.000000\n",
       "Name: 근속연수, dtype: float64"
      ]
     },
     "execution_count": 67,
     "metadata": {},
     "output_type": "execute_result"
    }
   ],
   "source": [
    "train_copy['근속연수'].describe()"
   ]
  }
 ],
 "metadata": {
  "kernelspec": {
   "display_name": "Python 3",
   "language": "python",
   "name": "python3"
  },
  "language_info": {
   "codemirror_mode": {
    "name": "ipython",
    "version": 3
   },
   "file_extension": ".py",
   "mimetype": "text/x-python",
   "name": "python",
   "nbconvert_exporter": "python",
   "pygments_lexer": "ipython3",
   "version": "3.12.0"
  }
 },
 "nbformat": 4,
 "nbformat_minor": 2
}
