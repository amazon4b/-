{
 "cells": [
  {
   "cell_type": "markdown",
   "metadata": {},
   "source": [
    "## ANOVA"
   ]
  },
  {
   "cell_type": "code",
   "execution_count": null,
   "metadata": {},
   "outputs": [],
   "source": [
    "# 정규성 : 종속 변수는 정규분포를 따른다는 가정\n",
    "# 등분산성 : 그룹 간의 분산이 동일하다는 가정\n",
    "# 독립성 : 종속 변수들이 서로 영향을 주고 받으면 안 된다는 가정\n",
    "# 독립성과 정규성, 등분산성이 충족될 때만 ANOVA 수행\n",
    "# 따라서 정규성 검정과 등분산성 검정 먼저 진행"
   ]
  },
  {
   "cell_type": "markdown",
   "metadata": {},
   "source": [
    "#### 독립성 검정"
   ]
  },
  {
   "cell_type": "code",
   "execution_count": null,
   "metadata": {},
   "outputs": [],
   "source": [
    "# 독립성 검정\n",
    "import matplotlib.pyplot as plt\n",
    "import seaborn as sns\n",
    "\n",
    "# 상관 행렬 계산\n",
    "correlation_matrix = df[df.columns].corr()\n",
    "\n",
    "# 히트맵 그리기\n",
    "plt.figure(figsize=(12, 10))\n",
    "sns.heatmap(correlation_matrix, annot=True, cmap='coolwarm', fmt='.2f', linewidths=.5)\n",
    "plt.title('Correlation Matrix Heatmap')\n",
    "plt.show()"
   ]
  },
  {
   "cell_type": "markdown",
   "metadata": {},
   "source": [
    "#### 정규성 검정"
   ]
  },
  {
   "cell_type": "code",
   "execution_count": null,
   "metadata": {},
   "outputs": [],
   "source": [
    "# 정규성 검정 (Shapiro-Wilk)\n",
    "# 귀무가설 : 정규분포를 따른다\n",
    "from scipy.stats import shapiro\n",
    "\n",
    "# 클러스터별 feature에 대해 정규성 검정 수행\n",
    "for cluster_num in range(6):  # 클러스터 번호는 0부터 5까지 총 6개\n",
    "    cluster_data = df[df['cluster'] == cluster_num]\n",
    "    \n",
    "    print(f\"\\nCluster {cluster_num} - Shapiro-Wilk Test:\")\n",
    "    for column in cluster_data.columns:\n",
    "        shapiro_test = shapiro(cluster_data[column])\n",
    "        if shapiro_test.pvalue >= 0.05:\n",
    "            print(f\"{column} - p-value: {shapiro_test.pvalue}\")"
   ]
  },
  {
   "cell_type": "code",
   "execution_count": null,
   "metadata": {},
   "outputs": [],
   "source": [
    "# p-value가 유의수준(0.05)보다 작으면 종속 변수가 정규분포를 따르지 않음(정규성 가정 만족x)\n",
    "# p-value가 작을수록 귀무가설을 기각하고 대립가설을 채택하는 경향\n",
    "# p-value가 유의수준(0.05)보다 커야 등분산성 가정 만족함"
   ]
  },
  {
   "cell_type": "markdown",
   "metadata": {},
   "source": [
    "#### 등분산성 검정"
   ]
  },
  {
   "cell_type": "code",
   "execution_count": null,
   "metadata": {},
   "outputs": [],
   "source": [
    "# 각각의 클러스터에 속하는 feature들의 등분산성을 확인하려면\n",
    "# 각 클러스터에 대해 등분산성 검정을 따로 수행\n",
    "# -> 해당 클러스터 내에서 feature 분산이 동일한지 여부를 검정할 수 있음"
   ]
  },
  {
   "cell_type": "code",
   "execution_count": null,
   "metadata": {},
   "outputs": [],
   "source": [
    "# 등분산성 검정 - 레빈검정\n",
    "# 귀무가설 : 등분산성의 특징이 있다\n",
    "from scipy.stats import bartlett\n",
    "\n",
    "# 등분산성 검정을 수행할 데이터프레임들\n",
    "dataframes = [cluster0, cluster1, cluster2, cluster3, cluster4, cluster5]\n",
    "\n",
    "# 각 데이터프레임에 대해 등분산성 검정 수행\n",
    "for i, cluster_data in enumerate(dataframes):\n",
    "    print(f\"\\nCluster {i} - Bartlett's Test:\")\n",
    "    for column in cluster_data.columns:\n",
    "        # 등분산성 검정 수행\n",
    "        bartlett_test = bartlett(*[dataframe[column] for dataframe in dataframes])\n",
    "        if bartlett_test.pvalue >= 0.05:\n",
    "            print(f\"{column} - p-value: {bartlett_test.pvalue}\")\n"
   ]
  },
  {
   "cell_type": "code",
   "execution_count": null,
   "metadata": {},
   "outputs": [],
   "source": [
    "# # 등분산성 검정 - 레빈검정\n",
    "# # 귀무가설 : 등분산성의 특징이 있다\n",
    "# from scipy.stats import levene\n",
    "\n",
    "# # feature(경제지표)\n",
    "# dependent_variables = df['feature1']\n",
    "\n",
    "# # 클러스터(경기국면)\n",
    "# clusters = df['Cluster'].unique()\n",
    "\n",
    "# # 각 클러스터에 대해 등분산성 검정 수행\n",
    "# for cluster in clusters:\n",
    "#     data_cluster = dependent_variables[df['Cluster'] == cluster]\n",
    "#     levene_test = levene(data_cluster)\n",
    "    \n",
    "#     print(f\"Cluster {cluster} - Levene's p-value:\", levene_test.pvalue)"
   ]
  },
  {
   "cell_type": "code",
   "execution_count": null,
   "metadata": {},
   "outputs": [],
   "source": [
    "# 등분산성 검정 - 레빈검정\n",
    "# 귀무가설 : 등분산성의 특징이 있다\n",
    "from scipy.stats import levene\n",
    "\n",
    "# features\n",
    "features = ['feature1', 'feature2', 'feature3']\n",
    "\n",
    "# 클러스터\n",
    "clusters = df['Cluster'].unique()\n",
    "\n",
    "# 각 클러스터에 대해 등분산성 검정 수행\n",
    "for cluster in clusters:\n",
    "    print(f\"\\nCluster {cluster} - levene's Test:\")\n",
    "    for feature in features:\n",
    "        data_cluster_feature = df[df['Cluster'] == cluster][feature]\n",
    "        levene_test = levene(data_cluster_feature)\n",
    "        print(f\"{feature} - p-value: {levene_test.pvalue}\")"
   ]
  },
  {
   "cell_type": "code",
   "execution_count": null,
   "metadata": {},
   "outputs": [],
   "source": [
    "# p-value가 유의수준(0.05)보다 작으면 그룹 간의 분산이 동일하지 않음(등분산성 가정 만족 x)\n",
    "# p-value가 작을수록 귀무가설을 기각하고 대립가설을 채택하는 경향\n",
    "# p-value가 유의수준(0.05)보다 커야 등분산성 가정 만족함 --> ANOVA수행"
   ]
  },
  {
   "cell_type": "markdown",
   "metadata": {},
   "source": [
    "#### ANOVA 수행"
   ]
  },
  {
   "cell_type": "code",
   "execution_count": null,
   "metadata": {},
   "outputs": [],
   "source": [
    "# 일원분산분석\n",
    "from scipy.stats import f_oneway\n",
    "\n",
    "# 각 클러스터에 해당하는 데이터 가져오기\n",
    "group_A = df[df['Cluster'] == 'A']['경제지표']\n",
    "group_B = df[df['Cluster'] == 'B']['경제지표']\n",
    "group_C = df[df['Cluster'] == 'C']['경제지표']\n",
    "\n",
    "# ANOVA 수행\n",
    "f_statistic, p_value = f_oneway(group_A, group_B, group_C)\n",
    "\n",
    "# 결과 출력\n",
    "print(\"F-statistic:\", f_statistic)\n",
    "print(\"P-value:\", p_value)\n",
    "\n",
    "# # 유의수준 설정\n",
    "# alpha = 0.05\n",
    "\n",
    "# # P-value와 유의수준 비교\n",
    "# if p_value < alpha:\n",
    "#     print(\"귀무가설을 기각\")\n",
    "# else:\n",
    "#     print(\"귀무가설을 기각하지 못했습니다\")\n"
   ]
  },
  {
   "cell_type": "code",
   "execution_count": null,
   "metadata": {},
   "outputs": [],
   "source": [
    "import statsmodels.api as sm\n",
    "from statsmodels.formula.api import ols\n",
    "from scipy import stats\n",
    "from statsmodels.formula.api import ols\n",
    "\n",
    "for col in cluster0.columns:\n",
    "    F, p = stats.f_oneway(cluster0[col],\n",
    "                    cluster1[col],\n",
    "                    cluster2[col],\n",
    "                    cluster3[col],\n",
    "                    cluster4[col],\n",
    "                    cluster5[col])\n",
    "    # print(col)\n",
    "    # print( 'F-Ratio: {}'.format(F)\n",
    "    # , 'p-value:{}'.format(p)\n",
    "    #  , sep = '\\n')\n",
    "    if p <= 0.05:\n",
    "        print(f\"{col} \\n F-Ratio: {F} \\n p-value: {p}\")"
   ]
  },
  {
   "cell_type": "code",
   "execution_count": null,
   "metadata": {},
   "outputs": [],
   "source": [
    "# ANOVA는 그룹 간의 차이가 통계적으로 유의미한 차이인지 판단\n",
    "# 분산분석 결과를 통해 각 경제 지표들이 클러스터를 설명하는 데 통계적으로 유의미한지를 나타냄\n",
    "# p-value가 0.05미만이면 통계적으로 유의"
   ]
  }
 ],
 "metadata": {
  "kernelspec": {
   "display_name": "Python 3",
   "language": "python",
   "name": "python3"
  },
  "language_info": {
   "codemirror_mode": {
    "name": "ipython",
    "version": 3
   },
   "file_extension": ".py",
   "mimetype": "text/x-python",
   "name": "python",
   "nbconvert_exporter": "python",
   "pygments_lexer": "ipython3",
   "version": "3.11.5"
  }
 },
 "nbformat": 4,
 "nbformat_minor": 2
}
